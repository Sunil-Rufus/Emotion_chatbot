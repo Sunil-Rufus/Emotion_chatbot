{
 "cells": [
  {
   "cell_type": "code",
   "execution_count": 1,
   "metadata": {},
   "outputs": [],
   "source": [
    "import json\n",
    "\n",
    "json_file_path = '../../ExTES.json'  # Change 'output.json' to your desired file name\n",
    "\n",
    "# Write the list to the JSON file\n",
    "with open(json_file_path, 'rb') as json_file:\n",
    "    extes_data = json.load(json_file)"
   ]
  },
  {
   "cell_type": "code",
   "execution_count": 7,
   "metadata": {},
   "outputs": [
    {
     "data": {
      "text/plain": [
       "{'scene': 'Communication Challenges',\n",
       " 'description': \"After a long day at work, I received a text from my significant other saying that they need some space. I'm feeling confused and insecure about our relationship.\",\n",
       " 'content': [{'User': 'Hey, are you free? I need someone to talk to.'},\n",
       "  {'AI Strategy': '',\n",
       "   'AI': \"Of course! I'm here to listen. What's been going on?\"},\n",
       "  {'User': \"I had a rough day at work, and then my significant other texted me out of the blue, saying they need some space. I don't know what to do or how to feel about it.\"},\n",
       "  {'AI Strategy': 'Reflective Statements',\n",
       "   'AI': \"That sounds really tough. It's completely normal to feel confused and insecure when a situation like this arises. Have you had any discussions about needing space in the past?\"},\n",
       "  {'User': \"No, we haven't really talked about this before. It just came as a surprise. I'm worried that they're unhappy in our relationship.\"},\n",
       "  {'AI Strategy': 'Emotional Validation',\n",
       "   'AI': \"I can understand why you would feel that way. It's natural to jump to conclusions and worry about the state of your relationship. Remember, it's crucial not to blame yourself. Relationships go through ups and downs, and communication is key.\"},\n",
       "  {'User': \"You're right, communication is important. I'm just not sure how to bring up the topic without making things worse.\"},\n",
       "  {'AI Strategy': 'Suggest Options',\n",
       "   'AI': \"You could consider expressing your feelings to your significant other calmly and honestly. Let them know you're there to listen and that you want to understand their needs and concerns. It's also essential to give them the space they asked for, even if it's difficult for you.\"},\n",
       "  {'User': \"I'll try to have a conversation with them when the time feels right. It's just hard to be patient and give them space when I'm feeling so uncertain.\"},\n",
       "  {'AI Strategy': 'Empathetic Statements',\n",
       "   'AI': \"I understand how challenging it can be to wait and give someone space when you're feeling unsure. Maybe you can focus on self-care during this time to help you manage your emotions. Doing things you enjoy and spending time with friends and family can provide support.\"},\n",
       "  {'User': \"That's a good idea. I'll try to take care of myself and keep busy. It's reassuring to know that I have people like you to talk to as well. Thank you for listening.\"},\n",
       "  {'AI Strategy': 'Affirmation',\n",
       "   'AI': \"You're welcome! Remember, you're not alone in this. If you ever need to talk or confront any concerns, feel free to reach out. Your feelings and needs are valid. Take care of yourself during this challenging time.\"},\n",
       "  {'User': 'Thank you, I appreciate your kindness and understanding. It helps a lot knowing that I have support. Have a great day!'},\n",
       "  {'AI Strategy': '',\n",
       "   'AI': \"You're welcome! I'm here for you. Take care and have a great day too!\"},\n",
       "  {'User': 'Goodbye!'},\n",
       "  {'AI Strategy': '', 'AI': 'Goodbye!'}]}"
      ]
     },
     "execution_count": 7,
     "metadata": {},
     "output_type": "execute_result"
    }
   ],
   "source": [
    "extes_data[0]"
   ]
  },
  {
   "cell_type": "code",
   "execution_count": null,
   "metadata": {},
   "outputs": [],
   "source": []
  }
 ],
 "metadata": {
  "kernelspec": {
   "display_name": "bio3",
   "language": "python",
   "name": "python3"
  },
  "language_info": {
   "codemirror_mode": {
    "name": "ipython",
    "version": 3
   },
   "file_extension": ".py",
   "mimetype": "text/x-python",
   "name": "python",
   "nbconvert_exporter": "python",
   "pygments_lexer": "ipython3",
   "version": "3.11.3"
  }
 },
 "nbformat": 4,
 "nbformat_minor": 2
}
