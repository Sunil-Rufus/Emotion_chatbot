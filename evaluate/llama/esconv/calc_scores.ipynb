{
 "cells": [
  {
   "cell_type": "code",
   "execution_count": 1,
   "metadata": {},
   "outputs": [
    {
     "name": "stderr",
     "output_type": "stream",
     "text": [
      "[nltk_data] Downloading package wordnet to\n",
      "[nltk_data]     /home/csgrad/sunilruf/nltk_data...\n",
      "[nltk_data]   Package wordnet is already up-to-date!\n"
     ]
    }
   ],
   "source": [
    "from nltk.translate.bleu_score import SmoothingFunction\n",
    "from bert_score import score\n",
    "from nltk.translate.bleu_score import sentence_bleu, corpus_bleu\n",
    "import evaluate\n",
    "import json\n",
    "import nltk\n",
    "from nltk.tokenize import word_tokenize\n",
    "nltk.download('wordnet')\n",
    "from tqdm import tqdm\n",
    "smoothie = SmoothingFunction().method4\n",
    "rouge = evaluate.load('rouge')\n",
    "messages_final = json.load(open('data/messages_final.json'))\n",
    "messages_boh_original_final = json.load(open('data/messages_boh_original_final.json'))\n",
    "messages_no_sw_original_final = json.load(open('data/messages_no_sw_original_final.json'))\n",
    "test_data = json.load(open('data/test_data.json'))"
   ]
  },
  {
   "cell_type": "code",
   "execution_count": 2,
   "metadata": {},
   "outputs": [],
   "source": [
    "from transformers import AutoTokenizer, AutoModelForCausalLM\n",
    "import os\n",
    "import torch\n",
    "os.environ[\"CUDA_VISIBLE_DEVICES\"] = \"0,1,2,3\"\n",
    "os.environ['TRANSFORMERS_CACHE'] = '/home/csgrad/sunilruf/'\n",
    "path = \"/data/sunilruf/llama/fp16_no/rank_32_1/checkpoint-50/\"\n",
    "torch.cuda.empty_cache()\n",
    "tokenizer = AutoTokenizer.from_pretrained(path, trust_remote_code=True, device_map=\"auto\")"
   ]
  },
  {
   "cell_type": "code",
   "execution_count": 8,
   "metadata": {},
   "outputs": [
    {
     "data": {
      "text/plain": [
       "66"
      ]
     },
     "execution_count": 8,
     "metadata": {},
     "output_type": "execute_result"
    }
   ],
   "source": [
    "len(test_data)"
   ]
  },
  {
   "cell_type": "code",
   "execution_count": 9,
   "metadata": {},
   "outputs": [
    {
     "data": {
      "text/plain": [
       "22"
      ]
     },
     "execution_count": 9,
     "metadata": {},
     "output_type": "execute_result"
    }
   ],
   "source": [
    "len(messages_final[0])"
   ]
  },
  {
   "cell_type": "code",
   "execution_count": 3,
   "metadata": {},
   "outputs": [],
   "source": [
    "from datasets import load_dataset\n",
    "\n",
    "dataset = load_dataset(\"thu-coai/esconv\")"
   ]
  },
  {
   "cell_type": "code",
   "execution_count": 5,
   "metadata": {},
   "outputs": [
    {
     "name": "stderr",
     "output_type": "stream",
     "text": [
      "  2%|▏         | 1/50 [00:31<25:37, 31.37s/it]"
     ]
    },
    {
     "name": "stdout",
     "output_type": "stream",
     "text": [
      "list index out of range\n",
      "list index out of range\n"
     ]
    },
    {
     "name": "stderr",
     "output_type": "stream",
     "text": [
      "  6%|▌         | 3/50 [01:34<24:41, 31.52s/it]"
     ]
    },
    {
     "name": "stdout",
     "output_type": "stream",
     "text": [
      "list index out of range\n"
     ]
    },
    {
     "name": "stderr",
     "output_type": "stream",
     "text": [
      "  8%|▊         | 4/50 [02:18<27:23, 35.74s/it]"
     ]
    },
    {
     "name": "stdout",
     "output_type": "stream",
     "text": [
      "list index out of range\n",
      "list index out of range\n",
      "list index out of range\n"
     ]
    },
    {
     "name": "stderr",
     "output_type": "stream",
     "text": [
      " 14%|█▍        | 7/50 [03:17<18:46, 26.20s/it]"
     ]
    },
    {
     "name": "stdout",
     "output_type": "stream",
     "text": [
      "list index out of range\n"
     ]
    },
    {
     "name": "stderr",
     "output_type": "stream",
     "text": [
      " 16%|█▌        | 8/50 [04:04<21:32, 30.78s/it]"
     ]
    },
    {
     "name": "stdout",
     "output_type": "stream",
     "text": [
      "list index out of range\n"
     ]
    },
    {
     "name": "stderr",
     "output_type": "stream",
     "text": [
      " 18%|█▊        | 9/50 [04:55<24:22, 35.68s/it]"
     ]
    },
    {
     "name": "stdout",
     "output_type": "stream",
     "text": [
      "list index out of range\n",
      "list index out of range\n",
      "list index out of range\n"
     ]
    },
    {
     "name": "stderr",
     "output_type": "stream",
     "text": [
      "Warning: Empty candidate sentence detected; setting raw BERTscores to 0.\n",
      "Warning: Empty candidate sentence detected; setting raw BERTscores to 0.\n",
      "Warning: Empty candidate sentence detected; setting raw BERTscores to 0.\n",
      " 24%|██▍       | 12/50 [05:28<14:38, 23.11s/it]"
     ]
    },
    {
     "name": "stdout",
     "output_type": "stream",
     "text": [
      "list index out of range\n"
     ]
    },
    {
     "name": "stderr",
     "output_type": "stream",
     "text": [
      " 26%|██▌       | 13/50 [05:54<14:38, 23.74s/it]"
     ]
    },
    {
     "name": "stdout",
     "output_type": "stream",
     "text": [
      "list index out of range\n"
     ]
    },
    {
     "name": "stderr",
     "output_type": "stream",
     "text": [
      " 28%|██▊       | 14/50 [06:42<17:22, 28.96s/it]"
     ]
    },
    {
     "name": "stdout",
     "output_type": "stream",
     "text": [
      "list index out of range\n",
      "list index out of range\n"
     ]
    },
    {
     "name": "stderr",
     "output_type": "stream",
     "text": [
      " 32%|███▏      | 16/50 [07:24<14:43, 25.97s/it]"
     ]
    },
    {
     "name": "stdout",
     "output_type": "stream",
     "text": [
      "list index out of range\n",
      "list index out of range\n",
      "list index out of range\n"
     ]
    },
    {
     "name": "stderr",
     "output_type": "stream",
     "text": [
      " 38%|███▊      | 19/50 [08:09<10:49, 20.95s/it]"
     ]
    },
    {
     "name": "stdout",
     "output_type": "stream",
     "text": [
      "list index out of range\n"
     ]
    },
    {
     "name": "stderr",
     "output_type": "stream",
     "text": [
      " 40%|████      | 20/50 [08:55<12:42, 25.42s/it]"
     ]
    },
    {
     "name": "stdout",
     "output_type": "stream",
     "text": [
      "list index out of range\n",
      "list index out of range\n"
     ]
    },
    {
     "name": "stderr",
     "output_type": "stream",
     "text": [
      " 44%|████▍     | 22/50 [09:39<11:22, 24.36s/it]"
     ]
    },
    {
     "name": "stdout",
     "output_type": "stream",
     "text": [
      "list index out of range\n",
      "list index out of range\n"
     ]
    },
    {
     "name": "stderr",
     "output_type": "stream",
     "text": [
      "Warning: Empty candidate sentence detected; setting raw BERTscores to 0.\n",
      "Warning: Empty candidate sentence detected; setting raw BERTscores to 0.\n",
      "Warning: Empty candidate sentence detected; setting raw BERTscores to 0.\n",
      "Warning: Empty candidate sentence detected; setting raw BERTscores to 0.\n",
      "Warning: Empty candidate sentence detected; setting raw BERTscores to 0.\n",
      "Warning: Empty candidate sentence detected; setting raw BERTscores to 0.\n",
      "Warning: Empty candidate sentence detected; setting raw BERTscores to 0.\n",
      "Warning: Empty candidate sentence detected; setting raw BERTscores to 0.\n",
      "Warning: Empty candidate sentence detected; setting raw BERTscores to 0.\n",
      " 48%|████▊     | 24/50 [10:13<09:29, 21.91s/it]"
     ]
    },
    {
     "name": "stdout",
     "output_type": "stream",
     "text": [
      "list index out of range\n"
     ]
    },
    {
     "name": "stderr",
     "output_type": "stream",
     "text": [
      " 50%|█████     | 25/50 [10:24<08:18, 19.93s/it]"
     ]
    },
    {
     "name": "stdout",
     "output_type": "stream",
     "text": [
      "('T',)\n"
     ]
    },
    {
     "name": "stderr",
     "output_type": "stream",
     "text": [
      " 52%|█████▏    | 26/50 [10:36<07:15, 18.14s/it]"
     ]
    },
    {
     "name": "stdout",
     "output_type": "stream",
     "text": [
      "('I',)\n",
      "list index out of range\n",
      "list index out of range\n"
     ]
    },
    {
     "name": "stderr",
     "output_type": "stream",
     "text": [
      " 58%|█████▊    | 29/50 [10:37<03:23,  9.70s/it]"
     ]
    },
    {
     "name": "stdout",
     "output_type": "stream",
     "text": [
      "('I',)\n",
      "list index out of range\n",
      "list index out of range\n"
     ]
    },
    {
     "name": "stderr",
     "output_type": "stream",
     "text": [
      "Warning: Empty candidate sentence detected; setting raw BERTscores to 0.\n",
      " 64%|██████▍   | 32/50 [11:04<02:48,  9.36s/it]"
     ]
    },
    {
     "name": "stdout",
     "output_type": "stream",
     "text": [
      "list index out of range\n"
     ]
    },
    {
     "name": "stderr",
     "output_type": "stream",
     "text": [
      " 66%|██████▌   | 33/50 [11:30<03:26, 12.17s/it]"
     ]
    },
    {
     "name": "stdout",
     "output_type": "stream",
     "text": [
      "list index out of range\n",
      "list index out of range\n"
     ]
    },
    {
     "name": "stderr",
     "output_type": "stream",
     "text": [
      " 70%|███████   | 35/50 [12:04<03:24, 13.64s/it]"
     ]
    },
    {
     "name": "stdout",
     "output_type": "stream",
     "text": [
      "list index out of range\n",
      "list index out of range\n",
      "list index out of range\n",
      "list index out of range\n",
      "list index out of range\n",
      "list index out of range\n",
      "list index out of range\n",
      "list index out of range\n",
      "list index out of range\n"
     ]
    },
    {
     "name": "stderr",
     "output_type": "stream",
     "text": [
      " 88%|████████▊ | 44/50 [12:33<00:39,  6.65s/it]"
     ]
    },
    {
     "name": "stdout",
     "output_type": "stream",
     "text": [
      "list index out of range\n",
      "list index out of range\n",
      "list index out of range\n"
     ]
    },
    {
     "name": "stderr",
     "output_type": "stream",
     "text": [
      "100%|██████████| 50/50 [13:53<00:00, 16.66s/it]"
     ]
    },
    {
     "name": "stdout",
     "output_type": "stream",
     "text": [
      "list index out of range\n",
      "list index out of range\n",
      "list index out of range\n",
      "list index out of range\n"
     ]
    },
    {
     "name": "stderr",
     "output_type": "stream",
     "text": [
      "\n"
     ]
    }
   ],
   "source": [
    "\n",
    "bleu_2_final, bleu_2_boh_original_final, bleu_2_no_sw_original_final = [], [], []\n",
    "bleu_4_final, bleu_4_boh_original_final, bleu_4_no_sw_original_final = [], [], []\n",
    "bert_score_final, bert_score_boh_original_final, bert_score_no_sw_original_final = [], [], []\n",
    "rouge_final, rouge_boh_original_final, rouge_no_sw_original_final = [], [], []\n",
    "meteor_final, meteor_boh_original_final, meteor_no_sw_original_final = [], [], []\n",
    "\n",
    "for j in tqdm(range(3, 53)):\n",
    "    data = json.loads(dataset['test'][j]['text'])\n",
    "    data = data['dialog']\n",
    "    j = j-3\n",
    "    try:\n",
    "        for i in range(0, len(data),1):\n",
    "            #print(i)\n",
    "            if data[i+1]['speaker'] == \"sys\":\n",
    "                reference = data[i+1]['text']\n",
    "            elif data[i+2]['speaker'] == \"sys\":\n",
    "                reference = data[i+1]['text']\n",
    "            elif data[i+3]['speaker'] == \"sys\":\n",
    "                reference = data[i+1]['text']\n",
    "            #print(messages_final[j][i]['content'])\n",
    "            \n",
    "            bleu_2_final.append(sentence_bleu(messages_final[j][i]['content'], reference, weights=(0.5,0.5), smoothing_function=smoothie))\n",
    "            bleu_2_boh_original_final.append(sentence_bleu(messages_boh_original_final[j][i]['content'], reference, weights=(0.5,0.5), smoothing_function=smoothie))\n",
    "            bleu_2_no_sw_original_final.append(sentence_bleu(messages_no_sw_original_final[j][i]['content'], reference, weights=(0.5,0.5), smoothing_function=smoothie))\n",
    "            bleu_4_final.append(sentence_bleu(messages_final[j][i]['content'], reference, weights=(0.25,0.25,0.25,0.25), smoothing_function=smoothie))\n",
    "            bleu_4_boh_original_final.append(sentence_bleu(messages_boh_original_final[j][i]['content'], reference, weights=(0.25,0.25,0.25,0.25), smoothing_function=smoothie))\n",
    "            bleu_4_no_sw_original_final.append(sentence_bleu(messages_no_sw_original_final[j][i]['content'], reference, weights=(0.25,0.25,0.25,0.25), smoothing_function=smoothie))\n",
    "            bert_score_final.append(score([messages_final[j][i]['content']], [reference], lang='en', model_type='bert-base-uncased'))\n",
    "            bert_score_boh_original_final.append(score([messages_boh_original_final[j][i]['content']], [reference], lang='en', model_type='bert-base-uncased'))\n",
    "            bert_score_no_sw_original_final.append(score([messages_no_sw_original_final[j][i]['content']], [reference], lang='en', model_type='bert-base-uncased'))\n",
    "            rouge_final.append(rouge.compute(predictions=[messages_final[j][i]['content']], references=[reference]))\n",
    "            rouge_boh_original_final.append(rouge.compute(predictions=[messages_boh_original_final[j][i]['content']], references=[reference]))\n",
    "            rouge_no_sw_original_final.append(rouge.compute(predictions=[messages_no_sw_original_final[j][i]['content']], references=[reference]))\n",
    "            meteor_final.append((nltk.translate.meteor_score.meteor_score([word_tokenize(messages_final[j][i]['content'])], word_tokenize(reference))))\n",
    "            meteor_boh_original_final.append((nltk.translate.meteor_score.meteor_score([word_tokenize(messages_boh_original_final[j][i]['content'])], word_tokenize(reference))))\n",
    "            meteor_no_sw_original_final.append((nltk.translate.meteor_score.meteor_score([word_tokenize(messages_no_sw_original_final[j][i]['content'])], word_tokenize(reference))))\n",
    "            \n",
    "    except Exception as e:\n",
    "        print(e)"
   ]
  },
  {
   "cell_type": "code",
   "execution_count": 6,
   "metadata": {},
   "outputs": [],
   "source": [
    "rougel_final = [i['rougeL'] for i in rouge_final]\n",
    "rougel_boh_original_final = [i['rougeL'] for i in rouge_boh_original_final]\n",
    "rougel_no_sw_original_final = [i['rougeL'] for i in rouge_no_sw_original_final]"
   ]
  },
  {
   "cell_type": "code",
   "execution_count": 7,
   "metadata": {},
   "outputs": [],
   "source": [
    "bert_p_boh = [i[0].item() for i in bert_score_boh_original_final]\n",
    "bert_r_boh = [i[1].item() for i in bert_score_boh_original_final]\n",
    "bert_f1_boh = [i[2].item() for i in bert_score_boh_original_final]\n",
    "\n",
    "bert_p_no_sw = [i[0].item() for i in bert_score_no_sw_original_final]\n",
    "bert_r_no_sw = [i[1].item() for i in bert_score_no_sw_original_final]\n",
    "bert_f1_no_sw = [i[2].item() for i in bert_score_no_sw_original_final]\n",
    "\n",
    "bert_p = [i[0].item() for i in bert_score_final]\n",
    "bert_r = [i[1].item() for i in bert_score_final]\n",
    "bert_f1 = [i[2].item() for i in bert_score_final]"
   ]
  },
  {
   "cell_type": "code",
   "execution_count": 9,
   "metadata": {},
   "outputs": [
    {
     "name": "stdout",
     "output_type": "stream",
     "text": [
      "Bleu 2 Final:  0.04990642951830513\n",
      "Bleu 2 Boh Original Final:  0.04851962966414015\n",
      "Bleu 2 No Sw Original Final:  0.047713156153653\n",
      "Bleu 4 Final:  0.012940582340584521\n",
      "Bleu 4 Boh Original Final:  0.012747041182022047\n",
      "Bleu 4 No Sw Original Final:  0.012608999242617762\n",
      "Rouge L Final:  0.13146653834425245\n",
      "Rouge L Boh Original Final:  0.12997184823008937\n",
      "Rouge L No Sw Original Final:  0.10265179402352556\n",
      "Bert Precision Final:  0.4097596603980486\n",
      "Bert Recall Final:  0.43743031390424614\n",
      "Bert F1 Final:  0.41896728313398146\n",
      "Bert Precision Boh Original Final:  0.41039121300652287\n",
      "Bert Recall Boh Original Final:  0.4116433668306385\n",
      "Bert F1 Boh Original Final:  0.40698227002613546\n",
      "Bert Precision No Sw Original Final:  0.39910804360792196\n",
      "Bert Recall No Sw Original Final:  0.39881590462249256\n",
      "Bert F1 No Sw Original Final:  0.3953047702158766\n",
      "Meteor Final:  0.12588550722585168\n",
      "Meteor Boh Original Final:  0.12392321106898453\n",
      "Meteor No Sw Original Final:  0.11489665543036834\n"
     ]
    }
   ],
   "source": [
    "import statistics\n",
    "\n",
    "print(\"Bleu 2 Final: \", statistics.mean(bleu_2_final))\n",
    "print(\"Bleu 2 Boh Original Final: \", statistics.mean(bleu_2_boh_original_final))\n",
    "print(\"Bleu 2 No Sw Original Final: \", statistics.mean(bleu_2_no_sw_original_final))\n",
    "print(\"Bleu 4 Final: \", statistics.mean(bleu_4_final))\n",
    "print(\"Bleu 4 Boh Original Final: \", statistics.mean(bleu_4_boh_original_final))\n",
    "print(\"Bleu 4 No Sw Original Final: \", statistics.mean(bleu_4_no_sw_original_final))\n",
    "print(\"Rouge L Final: \", statistics.mean(rougel_final))\n",
    "print(\"Rouge L Boh Original Final: \", statistics.mean(rougel_boh_original_final))\n",
    "print(\"Rouge L No Sw Original Final: \", statistics.mean(rougel_no_sw_original_final))\n",
    "print(\"Bert Precision Final: \", statistics.mean(bert_p))\n",
    "print(\"Bert Recall Final: \", statistics.mean(bert_r))\n",
    "print(\"Bert F1 Final: \", statistics.mean(bert_f1))\n",
    "print(\"Bert Precision Boh Original Final: \", statistics.mean(bert_p_boh))\n",
    "print(\"Bert Recall Boh Original Final: \", statistics.mean(bert_r_boh))\n",
    "print(\"Bert F1 Boh Original Final: \", statistics.mean(bert_f1_boh))\n",
    "print(\"Bert Precision No Sw Original Final: \", statistics.mean(bert_p_no_sw))\n",
    "print(\"Bert Recall No Sw Original Final: \", statistics.mean(bert_r_no_sw))\n",
    "print(\"Bert F1 No Sw Original Final: \", statistics.mean(bert_f1_no_sw))\n",
    "print(\"Meteor Final: \", statistics.mean(meteor_final))\n",
    "print(\"Meteor Boh Original Final: \", statistics.mean(meteor_boh_original_final))\n",
    "print(\"Meteor No Sw Original Final: \", statistics.mean(meteor_no_sw_original_final))\n"
   ]
  },
  {
   "cell_type": "code",
   "execution_count": 10,
   "metadata": {},
   "outputs": [],
   "source": [
    "import torch\n",
    "\n",
    "perplexity_final = torch.load('data/perplexity_final.pt')\n",
    "perplexity_boh = torch.load('data/perplexity_boh_final.pt')\n",
    "perplexity_sw = torch.load('data/perplexity_no_sw_final.pt')\n"
   ]
  },
  {
   "cell_type": "code",
   "execution_count": 11,
   "metadata": {},
   "outputs": [
    {
     "name": "stdout",
     "output_type": "stream",
     "text": [
      "Perplexity Final:  tensor(10.5679)\n",
      "Perplexity Boh Original Final:  tensor(37.1390)\n",
      "Perplexity No Sw Original Final:  tensor(35.2154)\n"
     ]
    }
   ],
   "source": [
    "perplexity_final1 = []\n",
    "perplexity_final1.extend(per for sublist in perplexity_final for per in sublist )\n",
    "perplexity_boh1 = []\n",
    "perplexity_boh1.extend(per for sublist in perplexity_boh for per in sublist )\n",
    "perplexity_sw1 = []\n",
    "perplexity_sw1.extend(per for sublist in perplexity_sw for per in sublist )\n",
    "\n",
    "print(\"Perplexity Final: \", torch.mean(torch.tensor(perplexity_final1)))\n",
    "print(\"Perplexity Boh Original Final: \", torch.mean(torch.tensor(perplexity_boh1)))\n",
    "print(\"Perplexity No Sw Original Final: \", torch.mean(torch.tensor(perplexity_sw1)))"
   ]
  },
  {
   "cell_type": "code",
   "execution_count": 26,
   "metadata": {},
   "outputs": [],
   "source": [
    "import json\n",
    "import torch\n",
    "from tqdm import tqdm\n",
    "import statistics\n",
    "messages_boh = json.load(open('data/messages_boh_final.json'))\n",
    "messages_sw = json.load(open('data/messages_no_sw_final.json'))\n",
    "messages_final = json.load(open('data/messages_final.json'))"
   ]
  },
  {
   "cell_type": "code",
   "execution_count": 37,
   "metadata": {},
   "outputs": [
    {
     "name": "stderr",
     "output_type": "stream",
     "text": [
      "100%|██████████| 47/47 [00:00<00:00, 362.24it/s]"
     ]
    },
    {
     "name": "stdout",
     "output_type": "stream",
     "text": [
      "actual length  56.229268292682924\n",
      "boh length  23.507317073170732\n",
      "sw length  18.390243902439025\n"
     ]
    },
    {
     "name": "stderr",
     "output_type": "stream",
     "text": [
      "\n"
     ]
    }
   ],
   "source": [
    "boh_length, sw_length, final_length = [], [], []\n",
    "for j in tqdm(range(0,47)):\n",
    "    for i in range(1,len(messages_final[j]),2):\n",
    "        final_length.append(len(tokenizer.tokenize(messages_final[j][i]['content'])))\n",
    "        sw_length.append(len(tokenizer.tokenize(messages_sw[j][i]['content'])))\n",
    "        boh_length.append(len(tokenizer.tokenize(messages_boh[j][i]['content'])))\n",
    "        \n",
    "print(\"actual length \", statistics.mean(final_length))\n",
    "print(\"boh length \", statistics.mean(boh_length))\n",
    "print(\"sw length \", statistics.mean(sw_length))"
   ]
  },
  {
   "cell_type": "code",
   "execution_count": null,
   "metadata": {},
   "outputs": [],
   "source": []
  }
 ],
 "metadata": {
  "kernelspec": {
   "display_name": "bio3",
   "language": "python",
   "name": "python3"
  },
  "language_info": {
   "codemirror_mode": {
    "name": "ipython",
    "version": 3
   },
   "file_extension": ".py",
   "mimetype": "text/x-python",
   "name": "python",
   "nbconvert_exporter": "python",
   "pygments_lexer": "ipython3",
   "version": "3.11.3"
  }
 },
 "nbformat": 4,
 "nbformat_minor": 2
}
