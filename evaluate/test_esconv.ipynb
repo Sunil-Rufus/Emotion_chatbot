{
 "cells": [
  {
   "cell_type": "code",
   "execution_count": 4,
   "metadata": {},
   "outputs": [
    {
     "name": "stderr",
     "output_type": "stream",
     "text": [
      "Special tokens have been added in the vocabulary, make sure the associated word embeddings are fine-tuned or trained.\n"
     ]
    },
    {
     "data": {
      "application/vnd.jupyter.widget-view+json": {
       "model_id": "94746bbb72d74f3e975fa7086701d2e4",
       "version_major": 2,
       "version_minor": 0
      },
      "text/plain": [
       "Loading checkpoint shards:   0%|          | 0/2 [00:00<?, ?it/s]"
      ]
     },
     "metadata": {},
     "output_type": "display_data"
    }
   ],
   "source": [
    "from transformers import AutoTokenizer, AutoModelForCausalLM\n",
    "import os\n",
    "import torch\n",
    "os.environ[\"CUDA_VISIBLE_DEVICES\"] = \"0,1\"\n",
    "os.environ['TRANSFORMERS_CACHE'] = '/home/csgrad/sunilruf/'\n",
    "#path = \"/home/csgrad/sunilruf/emotion_chatbot/master/sunils_code/mistra/rank_64/rank_64_2/checkpoint-50\"\n",
    "#path = \"/data/sunilruf/prune/wanda/out/phi2_7b/model\"\n",
    "#path = \"/data/sunilruf/phi/phi3/checkpoint-49/\"\n",
    "#path = \"/data/sunilruf/phi/fp16_no/rank_32_1/checkpoint-50/\"\n",
    "path = \"microsoft/Phi-3-mini-4k-instruct\"\n",
    "torch.cuda.empty_cache()\n",
    "tokenizer = AutoTokenizer.from_pretrained(path, trust_remote_code=True, device_map=\"auto\")\n",
    "model = AutoModelForCausalLM.from_pretrained(path, trust_remote_code=True, device_map=\"auto\")"
   ]
  },
  {
   "cell_type": "code",
   "execution_count": 6,
   "metadata": {},
   "outputs": [
    {
     "name": "stderr",
     "output_type": "stream",
     "text": [
      "[nltk_data] Downloading package stopwords to\n",
      "[nltk_data]     /home/csgrad/sunilruf/nltk_data...\n",
      "[nltk_data]   Package stopwords is already up-to-date!\n"
     ]
    }
   ],
   "source": [
    "from nltk.translate.bleu_score import SmoothingFunction\n",
    "from bert_score import score\n",
    "from nltk.translate.bleu_score import sentence_bleu, corpus_bleu\n",
    "import evaluate\n",
    "rouge = evaluate.load('rouge')\n",
    "import random\n",
    "random.seed(0)\n",
    "\n",
    "import nltk\n",
    "from nltk.corpus import stopwords\n",
    "nltk.download('stopwords')\n",
    "\n",
    "def remove_stopwords(text):\n",
    "    stop_words = set(stopwords.words(\"english\"))\n",
    "    words = text.split()\n",
    "    filtered_words = [word for word in words if word.lower() not in stop_words]\n",
    "    return ' '.join(filtered_words)\n",
    "\n",
    "import torch\n",
    "def generate_content(tokenizer, messages):\n",
    "    input_ids = tokenizer.apply_chat_template(messages, tokenize=True, truncation=True, add_generation_prompt=True, return_tensors=\"pt\").to(\"cuda\")\n",
    "    tokenizer.pad_token = tokenizer.eos_token\n",
    "    with torch.no_grad():\n",
    "        outputs = model.generate(\n",
    "                input_ids=input_ids,\n",
    "                pad_token_id=tokenizer.eos_token_id,\n",
    "                max_new_tokens=128,\n",
    "                do_sample=True,\n",
    "                temperature=0.7,\n",
    "                top_k=50,\n",
    "                top_p=0.95\n",
    "        )\n",
    "        \n",
    "        val = (tokenizer.batch_decode(outputs, skip_special_tokens=True)[0].split(\"[/INST]\")[-1])\n",
    "    \n",
    "    return val, input_ids"
   ]
  },
  {
   "cell_type": "code",
   "execution_count": 7,
   "metadata": {},
   "outputs": [],
   "source": [
    "from datasets import load_dataset\n",
    "\n",
    "dataset = load_dataset(\"thu-coai/esconv\")"
   ]
  },
  {
   "cell_type": "code",
   "execution_count": 11,
   "metadata": {},
   "outputs": [
    {
     "name": "stdout",
     "output_type": "stream",
     "text": [
      "[{'text': 'Hello. How are you today?', 'speaker': 'sys', 'strategy': 'Others'}, {'text': 'hi i am okay, a little bit sad though', 'speaker': 'usr'}, {'text': 'Okay. I am very sorry to hear that! Do you want to tell me more about that?', 'speaker': 'sys', 'strategy': 'Question'}, {'text': 'Well with the holidays coming up i have been very stressed and nervous about what i am going to do', 'speaker': 'usr'}, {'text': 'I really feel you there. Holidays are so hard.. especially with the way this year has been. Anything specific?', 'speaker': 'sys', 'strategy': 'Affirmation and Reassurance'}, {'text': \"Yes. I am a college student and I live on campus. The day before I moved in my dad said some unforgivable things to me and we haven't spoke since\", 'speaker': 'usr'}, {'text': 'I have no choice but to go live at home over the break but I am very scared about it', 'speaker': 'usr'}, {'text': \"Do you feel scared for your own self? Or of the situation in general? I'm sorry to hear that. Relationships with parents can be very difficult sometimes.\", 'speaker': 'sys', 'strategy': 'Question'}, {'text': \"I'm around college age as well and also live at home. So I can understand your struggle.\", 'speaker': 'sys', 'strategy': 'Self-disclosure'}, {'text': 'more for the situation in general. i know we will not speak but we will constantly be running into each other, my house is not big.', 'speaker': 'usr'}, {'text': 'and i have no car to escape it', 'speaker': 'usr'}, {'text': \"It's like we live the same life. I also have no car to escape! It seems so small, but it's such a huge stressor when you feel trapped in an environment you're not positive in. I feel your pain and I empathize with you completely.\", 'speaker': 'sys', 'strategy': 'Self-disclosure'}, {'text': \"It'll be hard but I hope you can make it through it throughout the holidays and enjoy yourself some. Are there any pros to going back home? Any pets?\", 'speaker': 'sys', 'strategy': 'Affirmation and Reassurance'}, {'text': 'Thank you I appreciate that. I will be fine making it over the thanksgiving break but I am more nervous about covid-19 sending us home for good.', 'speaker': 'usr'}, {'text': 'Not many to be honest. I have a hamster but he is at school with me so nothing at home to go back to', 'speaker': 'usr'}, {'text': \"It sounds like Covid- 19 is going to be a personal stressor for you. It's such a strange thing to have to live with already, the pandemic, and i'm sorry that it might end up pushing you where you don't want to be.\", 'speaker': 'sys', 'strategy': 'Restatement or Paraphrasing'}, {'text': 'Could you bring your hamster home with you? Even the smallest things could help a place feel more loving', 'speaker': 'sys', 'strategy': 'Providing Suggestions'}, {'text': \"Yes it is very strange and I know that it is a big stressor on all of us, i don't want to sound selfish.\", 'speaker': 'usr'}, {'text': 'Yes i am bringing him home with me so that is my little piece of joy that is coming along', 'speaker': 'usr'}, {'text': \"I don't think you're selfish at all. You have feelings you are entitled to have and are expressing them which is healthy and I encourage that behavior!\", 'speaker': 'sys', 'strategy': 'Affirmation and Reassurance'}, {'text': 'Good! I know how hard this situation can be. Very nerve wracking. The smallest things, even a hamster, can be so beneficial.', 'speaker': 'sys', 'strategy': 'Providing Suggestions'}, {'text': 'Well thank you that does help me to feel better. Yes I am happy to bring him home with me and hoping I can have my niece over to intro duce her to him', 'speaker': 'usr'}, {'text': 'You sound like a very determined person in making this trip as stress free as possible. I commend you for that! Maybe you could have your niece over often to play with your hamster just to soften the stress of being there', 'speaker': 'sys', 'strategy': 'Reflection of feelings'}, {'text': 'It is surely my goal! I appreciate your kind words. I would love that if I had a car I could do that but I am not sure how much she will be able to come to my house. I am going to try though!', 'speaker': 'usr'}, {'text': \"Is Uber an option for you? I know there's a lot of rideshare services but they're not always financially reasonable. But that could be a way to get away if you ever need too!\", 'speaker': 'sys', 'strategy': 'Providing Suggestions'}, {'text': \"that is very true i didn't even think of that to be honest! I may use that along the way, thank you for the reminder!\", 'speaker': 'usr'}, {'text': \"Sometimes I forget little things like that to help myself whenever I get too involved in the emotional aspect of things. I'm glad I could suggest it to you!\", 'speaker': 'sys', 'strategy': 'Self-disclosure'}, {'text': 'Thank you! Well i appreciate your help a lot and hope you have a great day!', 'speaker': 'usr'}, {'text': 'Of course! I hope you do as well and happy holidays!', 'speaker': 'sys', 'strategy': 'Others'}]\n",
      "stack expects a non-empty TensorList\n",
      "[{'text': 'Hai', 'speaker': 'sys', 'strategy': 'Affirmation and Reassurance'}, {'text': 'Hai. My name is Tom and i really need your help.', 'speaker': 'usr'}, {'text': 'ok tell me', 'speaker': 'sys', 'strategy': 'Affirmation and Reassurance'}, {'text': 'I am really sad and stressed up knowing that I am soon losing my job due to the effects of corona virus. For sure if I lose my job now I might go to depression because I have a family to take care of.', 'speaker': 'usr'}, {'text': \"ok, don't worry friend,\", 'speaker': 'sys', 'strategy': 'Affirmation and Reassurance'}, {'text': 'Are there any ways you know that could help me convince my boss that that it is not the right time to cut down on manpower?', 'speaker': 'usr'}, {'text': 'lot of people lose the job in this corona time', 'speaker': 'sys', 'strategy': 'Affirmation and Reassurance'}, {'text': 'just explain you situation.', 'speaker': 'sys', 'strategy': 'Affirmation and Reassurance'}, {'text': 'Incase i lose the job, are there ways that can help me stay out of stress of losing the job?', 'speaker': 'usr'}, {'text': 'I am worried that losing a job may cause me a lot of harm since my bills depend on my current job.', 'speaker': 'usr'}, {'text': 'definitely, you have to try to get the other work', 'speaker': 'sys', 'strategy': 'Affirmation and Reassurance'}, {'text': \"don't give up your confident,\", 'speaker': 'sys', 'strategy': 'Affirmation and Reassurance'}, {'text': 'belive your self', 'speaker': 'sys', 'strategy': 'Affirmation and Reassurance'}, {'text': 'I am really worried that getting another job during this season of corona is not easy, that is the stress that is almost killing me.', 'speaker': 'usr'}, {'text': 'Sure I do believe myself.', 'speaker': 'usr'}, {'text': 'you know any other self work?', 'speaker': 'sys', 'strategy': 'Affirmation and Reassurance'}, {'text': 'Not really.', 'speaker': 'usr'}, {'text': 'Do you happen to know any that can sustain me?', 'speaker': 'usr'}, {'text': 'i am not sure', 'speaker': 'sys', 'strategy': 'Affirmation and Reassurance'}, {'text': \"what's your occupation?\", 'speaker': 'sys', 'strategy': 'Affirmation and Reassurance'}, {'text': 'Its ok my friend I believe that God will provide', 'speaker': 'usr'}, {'text': 'I am an architect', 'speaker': 'usr'}, {'text': \"definitely, don't worry..\", 'speaker': 'sys', 'strategy': 'Affirmation and Reassurance'}, {'text': 'oh, ok', 'speaker': 'sys', 'strategy': 'Affirmation and Reassurance'}, {'text': 'Sure, Thanks a lot for your kind words.', 'speaker': 'usr'}, {'text': 'ok thank you friend bye.. god bless you..', 'speaker': 'sys', 'strategy': 'Affirmation and Reassurance'}, {'text': 'God bless you too friend, please keep safe. Bye.', 'speaker': 'usr'}, {'text': 'bye...', 'speaker': 'sys', 'strategy': 'Affirmation and Reassurance'}, {'text': 'Bye.', 'speaker': 'usr'}]\n",
      "stack expects a non-empty TensorList\n",
      "[{'text': 'Hello how are you doing today?', 'speaker': 'sys', 'strategy': 'Question'}, {'text': \"I'd love to chat with you! What's been on your mind?\", 'speaker': 'sys', 'strategy': 'Question'}, {'text': 'oh hello', 'speaker': 'usr'}, {'text': \"I'm having problems with friends - or more precisely the lack of them. I don't have any.\", 'speaker': 'usr'}, {'text': \"Oh I see. You feel as though you don't have any friend's currently? I totally get that. I feel like that a lot too, especially in these weird times we are going through. It's so hard to see people and keep relationships right now\", 'speaker': 'sys', 'strategy': 'Restatement or Paraphrasing'}, {'text': \"Well it's more that I think I've never had friends. Not anyone I can confide in or laugh with\", 'speaker': 'usr'}, {'text': \"That's a really hard thing to be going through. I'm sorry to hear that. Do you have any really close family members that you are able to confide in?\", 'speaker': 'sys', 'strategy': 'Affirmation and Reassurance'}, {'text': \"I don't think I'd want to let them know how unhappy I am to be honest\", 'speaker': 'usr'}, {'text': \"Oh I see. Well personally, when I was going through a hard time and I felt like I didn't have any friends, I found a couple pretty cool apps that helped me out! IT sounds crazy, but there are apps specifically for finding friends. They are kind of like dating apps but it's 100% meant for friends so everyone on them has the same intentions you do. I actually found a couple close friends through apps like that. Have you heard about those or looked into them?\", 'speaker': 'sys', 'strategy': 'Self-disclosure'}, {'text': \"I've never heard of friendship apps to be honest\", 'speaker': 'usr'}, {'text': 'Yeah! They are a really good way to connect with people that you share a lot of similar interests with.', 'speaker': 'sys', 'strategy': 'Providing Suggestions'}, {'text': \"But it sounds to me that you are pretty overall sad right now. You don't want family to know about how sad you are. Do you think it's more than just feeling like you don't have any friends?\", 'speaker': 'sys', 'strategy': 'Reflection of feelings'}, {'text': \"I'd really like someone local though, someone who I could meet up with face to face and who knew my town\", 'speaker': 'usr'}, {'text': 'On most of the apps, it connects you with people in your town!', 'speaker': 'sys', 'strategy': 'Information'}, {'text': 'people close by', 'speaker': 'sys', 'strategy': 'Information'}, {'text': \"I don't know if it's more than that. What do you mean?\", 'speaker': 'usr'}, {'text': 'The problem is that I lack the courage to go out and meet people.', 'speaker': 'usr'}, {'text': \"Well personally, I have struggled with putting myself down a lot and blaming myself for things that I shouldn't blame myself for. You shouldn't blame yourself for not having the courage to go meet people, or blame yourself for not having any friends! And if that is what you are struggling with, then I think the apps would be a really good first step for you! You can create those bonds and connections with people close by to you on there first, and then when you feel comfortable enough with them you can meet up\", 'speaker': 'sys', 'strategy': 'Self-disclosure'}, {'text': \"That way it's less awkward to hangout with someone you don't really know\", 'speaker': 'sys', 'strategy': 'Information'}, {'text': 'oh you mean chat online first, before actually meeting in person?', 'speaker': 'usr'}, {'text': 'Yeah, that is what is great about those friendship apps. You can get comfortable with them before you hangout :)', 'speaker': 'sys', 'strategy': 'Information'}, {'text': \"That's so cool. Thanks for your help\", 'speaker': 'usr'}, {'text': 'Yeah of course! I hope this helps you, and I wish you the best during these weird times :)', 'speaker': 'sys', 'strategy': 'Others'}]\n",
      "stack expects a non-empty TensorList\n",
      "[{'text': 'Hello', 'speaker': 'usr'}, {'text': 'Good Afternoon', 'speaker': 'sys', 'strategy': 'Others'}, {'text': 'How are you doing troday?', 'speaker': 'sys', 'strategy': 'Question'}, {'text': \"I am Ok thanks but have an unusual issue. I think my girlfriend may be cheating on me but I'm too scared to do anything about it as I don't want her to leave me. I feel ashamed of myself but I can't help it\", 'speaker': 'usr'}, {'text': 'Being in a relationship with someone when you suspect unfaithful behavior is a rough thing to go through.', 'speaker': 'sys', 'strategy': 'Affirmation and Reassurance'}, {'text': \"Yes it is but I should be leaving her and moving on. Problem is she is a 9 and I'm a 5 and I love her. Pretty sure she is cheating though so hopefully if I ignore it she may just leave things as they are.\", 'speaker': 'usr'}, {'text': \"I've dealt with the same problem with my partner more than once. I love him very much and I found him to be a 9 to my 5 as well. However, the question of whether he was cheating or not was destroying my trust in him and everyone else not to mention what self-respect I had... I had to break down and talk to him about it\", 'speaker': 'sys', 'strategy': 'Self-disclosure'}, {'text': 'What happened out of interest when you had the conversation?', 'speaker': 'usr'}, {'text': 'Ignoring this will NOT help things. There is NO relief in pretending a question or concern does not exist.', 'speaker': 'sys', 'strategy': 'Others'}, {'text': 'Like I said the question has arisen more than once. The first time he owned to talking to other women, but nothing more. Since that time, he denies everything.', 'speaker': 'sys', 'strategy': 'Self-disclosure'}, {'text': \"I know. I'm a typical man and I like the feeling when she is on my arm. I feel like the cat that has got the cream. It's superficial and sad I know. I knew this would never last. She is just too attractive for me. Everyone told me Iwas 'punching above my weight' and now they will all be laughing if it ends.\", 'speaker': 'usr'}, {'text': \"Honestly, its not anyone else's business. IF you're suspicions are in fact correct, then you've got to see that a loving and faithful 5 is better than a heart-breaking 10. However should you find that maybe the devils of insecurities are tricking you into thinking that she's cheating, then remember that what the two of you share o=is FOR THE TWO of you. Its a relationship, not a community project! Even mu advice, albeit in the air to help you best I can. is not more important that what matters most to YOU and HER!\", 'speaker': 'sys', 'strategy': 'Affirmation and Reassurance'}, {'text': \"Curiously, why do you think she's cheating?\", 'speaker': 'sys', 'strategy': 'Question'}, {'text': \"I'm almost certain of it, she is super protective of her phone and never used to be. She is always texting and vague when I ask who she is messaging. She goes away with work and when she does she rarely messages me. Recently she said when was going way for a work trip for three nights but when I called her office her colleague said they got back after two.\", 'speaker': 'usr'}, {'text': 'Hmm... So have you two live together? How long has this kind of behavior persisted? When you ask her about this behavior, how do you present the question and how does she react? Finally, how often do you talk with her about the situation?', 'speaker': 'sys', 'strategy': 'Question'}, {'text': \"That's just it. I kind of know she is cheating but I haven't approached it with her because I'm scared see will just leave and I'll be a laughing stock. I suppose I'm a joke either way!\", 'speaker': 'usr'}, {'text': \"Don't get me wrong, I completely understand why you have suspicions. Really I think anyone would in the same shoes... However, as humans, we tend to either assume the best or the worst of others. There's always a margin of error present as a variable in such situations.\", 'speaker': 'sys', 'strategy': 'Affirmation and Reassurance'}, {'text': 'very true. I suppose I have just assumed at this stage with no real evidence. do you think I should just talk to her?', 'speaker': 'usr'}, {'text': 'Forgive me if this comes off as disrespectful... I only want to help you.', 'speaker': 'sys', 'strategy': 'Affirmation and Reassurance'}, {'text': 'not at all. I appreciate your candour.', 'speaker': 'usr'}, {'text': \"But if you feel as though you're a joke regardless, then why stay in a relationship where you're getting hurt? I know that you don't want to lose the beauty but would you not be happier with loyalty?\", 'speaker': 'sys', 'strategy': 'Question'}, {'text': \"All this is tied up with who and I know I'm valuing the wrong things. You are right actually. I think some of this comes from my low self-esteem. having a 9 helps with that. but maybe I need to deal with it directly.\", 'speaker': 'usr'}, {'text': \"I wholly believe you should gently but steadfastly confront her. I absolutely do not mean to suggest a dispute or argument. That will not help either. Simply ask her about the things that you KNOW aren't acceptable; lying about how long her trip was is one of them. Also, its okay to talk about how that stuff makes you feel, but try not to project your feelings as her fault. I know that it seems like they are... But she didn't MAKE you feel any specific way, even if her ACTIONS influenced how you were already feeling.\", 'speaker': 'sys', 'strategy': 'Reflection of feelings'}, {'text': 'That seems like well considered and thoughtful advice thanks for that. What is clear is that we need to have a conversation. Thanks for helping me reach this conclusion.', 'speaker': 'usr'}]\n",
      "[{'role': 'user', 'content': 'Hello'}]\n",
      "[{'role': 'user', 'content': 'Hello'}]\n",
      "Hello Hello! How can I assist you today?\n",
      "Hello Hello! How can I help you today?\n",
      "torch.Size([1, 5, 32064])\n",
      "torch.Size([1, 5, 32064])\n",
      "'bert-tuned-uncased'\n",
      "[{'text': 'hello how are you today?', 'speaker': 'sys', 'strategy': 'Question'}, {'text': 'Hello I am taking a break from my studies to talk. I am fine thanks', 'speaker': 'usr'}, {'text': 'Hope you are doing well also', 'speaker': 'usr'}, {'text': 'I am just kind of anxious and stressed out with impending academic deadlines', 'speaker': 'usr'}, {'text': 'i am fine thanks for asking', 'speaker': 'sys', 'strategy': 'Self-disclosure'}, {'text': 'two exams and two assignments due at the end of this and next month.', 'speaker': 'usr'}, {'text': \"that's good\", 'speaker': 'usr'}, {'text': 'Aw i am sorry to hear that, school deadlines can be very stressful.', 'speaker': 'sys', 'strategy': 'Others'}, {'text': \"yeah I have been procrastinating and taking my sweet time with things since it's online and basically I do things on my own time.\", 'speaker': 'usr'}, {'text': 'are you taking a lot of courses?', 'speaker': 'sys', 'strategy': 'Question'}, {'text': '2 courses', 'speaker': 'usr'}, {'text': 'but I am pretty much using full time capacity on them', 'speaker': 'usr'}, {'text': 'devoting full-time I mean', 'speaker': 'usr'}, {'text': 'do you like doing school online better than in person?', 'speaker': 'sys', 'strategy': 'Reflection of feelings'}, {'text': 'Have to finish one at the end of this month and end of next month for the other one', 'speaker': 'usr'}, {'text': 'Thats good the more time you have to devote the better!', 'speaker': 'sys', 'strategy': 'Affirmation and Reassurance'}, {'text': 'I have done both methods. I definitely prefer in-school studies.', 'speaker': 'usr'}, {'text': 'Do you feel it is more stressful online?', 'speaker': 'sys', 'strategy': 'Question'}, {'text': 'I am just disappointed that I have been slacking off and procrastinating', 'speaker': 'usr'}, {'text': \"no it's just that it's a different avenue. I have done many online courses before even with the pandemic. I think it's because of the pandemic that has made me procrastinating more and being aimless and slow.\", 'speaker': 'usr'}, {'text': 'Maybe take a hour a day before you start to do something you want to do then you will feel more motivated to get it done after.', 'speaker': 'sys', 'strategy': 'Providing Suggestions'}, {'text': 'yeah I take breaks in between.', 'speaker': 'usr'}, {'text': 'Yea this pandemic has me not as motivated to', 'speaker': 'sys', 'strategy': 'Self-disclosure'}, {'text': 'But sometimes a lot more breaks or longer breaks than intended or I should', 'speaker': 'usr'}, {'text': 'yeah definitely. Sorry to hear that.', 'speaker': 'usr'}, {'text': \"It's like everyday is the same and I can't go out to refresh my mind or have a change of pace such as going to the gym or go out for a run\", 'speaker': 'usr'}, {'text': 'whereas before the pandemic, I can switch gears that way and come back refreshed', 'speaker': 'usr'}, {'text': 'like going out to the movies and coming back with renewed enthusiasm', 'speaker': 'usr'}, {'text': 'Yea i have been missing the gym myself. Now i lookup youtube videos of workouts and do them, and it really helps to get me going in the day.', 'speaker': 'sys', 'strategy': 'Self-disclosure'}, {'text': 'Do you ever listen to music while you are trying to get work done? When i do that it tends to help time go faster and i get more done.', 'speaker': 'sys', 'strategy': 'Providing Suggestions'}, {'text': \"I see. Yeah it's good to have a routine and good way to resume life as usual.\", 'speaker': 'usr'}, {'text': 'sometimes I listen to music but I find it hard to read and absorb and listen to music. But I do listen to music sometimes when I am on assignments.', 'speaker': 'usr'}, {'text': 'I also tend to drink coffee to focus my mind better. It does help.', 'speaker': 'usr'}, {'text': 'And I know I can pass the courses and on time but just that I am disappointed at my performance and work ethics as I know I have done much better before. So I am missing that sense of urgency, conscientiousness, and maturity. ,', 'speaker': 'usr'}, {'text': 'maybe find a nice meditation song to help relax you, i find when i am doing something finding a song with no words is better so i am able to concentrate.', 'speaker': 'sys', 'strategy': 'Providing Suggestions'}, {'text': \"I see. That's a good idea.\", 'speaker': 'usr'}, {'text': 'I was also thinking I should have a regular workout routine at home again because I used to work out much more daily, even at home.', 'speaker': 'usr'}, {'text': \"It sounds like you are a very smart person and are able to acknowledge when you need to work harder on something. Don't be to hard on yourself this pandemic is affecting everyone\", 'speaker': 'sys', 'strategy': 'Affirmation and Reassurance'}, {'text': 'working out does help me focus and be productive.', 'speaker': 'usr'}, {'text': 'Thank you and I do agree with you on the pandemic. But this is a part of my mistake too but I think coming away from our conversation, I am more optimistic now having talked to someone about it.', 'speaker': 'usr'}, {'text': 'Yes i would imagine that would help to, i found that before i started working out at home i was beginning to feel lazy and not getting anything done, but that has all changed now.', 'speaker': 'sys', 'strategy': 'Self-disclosure'}, {'text': 'I see. Hopefully your routines are much better and more productive now.', 'speaker': 'usr'}, {'text': 'Aww well try not to be to hard on yourself. Set some daily goals and i bet you will be back to feeling normal in no time. I am glad talking has helped!', 'speaker': 'sys', 'strategy': 'Others'}, {'text': \"yeah that's another thing. It does work better for me if I were to write down some sort of itinerary of what I should get through today, etc. So you're right.\", 'speaker': 'usr'}, {'text': 'well thank you for listening then and providing some very helpful input.', 'speaker': 'usr'}, {'text': \"Yeah you've been more than helpful! Thank you.\", 'speaker': 'usr'}, {'text': 'You are welcome, best of luck with all your studies!', 'speaker': 'sys', 'strategy': 'Affirmation and Reassurance'}, {'text': \"Just can't wait to finish the two courses these two months and I can finally relax and enjoy the holidays at least.\", 'speaker': 'usr'}, {'text': 'thank you very much. And I hope you best of luck with all your endeavours!', 'speaker': 'usr'}, {'text': 'Thank you!', 'speaker': 'sys', 'strategy': 'Others'}]\n",
      "stack expects a non-empty TensorList\n",
      "[{'text': 'My friends are trying to shame me.', 'speaker': 'usr'}, {'text': 'How ridiculous....', 'speaker': 'usr'}, {'text': 'hi i am sorry to hear that', 'speaker': 'sys', 'strategy': 'Question'}, {'text': 'what are they trying to shame you with?', 'speaker': 'sys', 'strategy': 'Question'}, {'text': 'what are they trying to shame you with?', 'speaker': 'sys', 'strategy': 'Question'}, {'text': 'It is Christmas and my friends say that I do not donate enough to charity.', 'speaker': 'usr'}, {'text': 'They are putting me on a guilt trip. My one old friend is the President of a local non-profit.', 'speaker': 'usr'}, {'text': 'well, the donation to charity should be what either you can affort or volunteeer, it all depends on your situation', 'speaker': 'sys', 'strategy': 'Reflection of feelings'}, {'text': 'I am not making much income with the COVID-19, either.', 'speaker': 'usr'}, {'text': 'it has to come from the heart and if your circumstances do not allow that then they should not talk badly about you', 'speaker': 'sys', 'strategy': 'Reflection of feelings'}, {'text': 'Two different (so-called) friends of mine need to get a life.', 'speaker': 'usr'}, {'text': 'shame on them to do that to you', 'speaker': 'sys', 'strategy': 'Others'}, {'text': 'well you might not consider them real friends if that is what they do.', 'speaker': 'sys', 'strategy': 'Others'}, {'text': 'it is always easier to judge over other people then to validate what anyone self is doing.', 'speaker': 'sys', 'strategy': 'Information'}, {'text': 'Yeah, people don\\'t know that just because my two friends go \"Way back,\" does not mean they should be able to to hurt me, emotionally.', 'speaker': 'usr'}, {'text': 'What should I do about these two (so-called) friends?', 'speaker': 'usr'}, {'text': 'definatly not ...have you tried explaining your situation to them?', 'speaker': 'sys', 'strategy': 'Providing Suggestions'}, {'text': \"No, they don't know that I am in financial trouble myself.\", 'speaker': 'usr'}, {'text': 'COVID-19 has wrecked my steady income levels....', 'speaker': 'usr'}, {'text': 'Things were great, this time last year.', 'speaker': 'usr'}, {'text': 'well i know thats something most people do not want to disclose can you help the organization with donating your time?', 'speaker': 'sys', 'strategy': 'Providing Suggestions'}, {'text': 'I might be able to do that.', 'speaker': 'usr'}, {'text': 'unfortunatly it is right now very comen this situation, so no shame for that,', 'speaker': 'sys', 'strategy': 'Others'}, {'text': \"Well, I used to donate a LOT in year's past.\", 'speaker': 'usr'}, {'text': 'a lot of times donating time to help organisatiosn is more valuable then money.', 'speaker': 'sys', 'strategy': 'Providing Suggestions'}, {'text': 'Great point.', 'speaker': 'usr'}, {'text': 'times and situations change so thats ok.', 'speaker': 'sys', 'strategy': 'Others'}, {'text': 'My friends may like to know that I am trading time....instead of donating money.', 'speaker': 'usr'}, {'text': 'i worked for a non profit and the biggest struggle was to find volunteers to help out', 'speaker': 'sys', 'strategy': 'Providing Suggestions'}, {'text': 'Yes, you make a good point.', 'speaker': 'usr'}, {'text': 'I feel that is a great donation and if they do not like that tell them money is easy to give time not', 'speaker': 'sys', 'strategy': 'Providing Suggestions'}, {'text': 'The proble is that some people just want to shame people without knowing their plight.', 'speaker': 'usr'}, {'text': \"Yeah, true, we need to stay above them then in all actuality we don't know what goes on behind closed doors in their life. sometimes people like that reflect\", 'speaker': 'sys', 'strategy': 'Providing Suggestions'}, {'text': \"I need to think of others ways to contribute that won't have my friends hating on me.\", 'speaker': 'usr'}, {'text': 'I have pride, too.', 'speaker': 'usr'}, {'text': \"BUt it should be what you want not what your 'freinds want.\", 'speaker': 'sys', 'strategy': 'Others'}, {'text': 'you should be proud of yourself.', 'speaker': 'sys', 'strategy': 'Others'}, {'text': 'Yeah......', 'speaker': 'usr'}, {'text': 'Hopefully next year will bring better things and maybe even a better friend that does not judge into your life.', 'speaker': 'sys', 'strategy': 'Information'}, {'text': 'The problem is that I am not sure it my friends are going to believe me; I am a well-to-do individual', 'speaker': 'usr'}, {'text': 'We can only hope for a better 2021', 'speaker': 'usr'}, {'text': 'Not sure how quickly the markets rebound....', 'speaker': 'usr'}, {'text': 'well if they do not believe you as well you might really need to rethink your friendships and the meaning in those so called freind ships.', 'speaker': 'sys', 'strategy': 'Others'}, {'text': 'hopefully soon for all of us, but hold on to the thought of being healthy', 'speaker': 'sys', 'strategy': 'Others'}, {'text': 'Well, I usually go to their get-togethers. Both of my friends are well-to-do.', 'speaker': 'usr'}, {'text': 'I am hoping you will find the right solution.', 'speaker': 'sys', 'strategy': 'Others'}, {'text': 'Well, you have been helpful.', 'speaker': 'usr'}, {'text': 'Thank you. Good bye.', 'speaker': 'usr'}, {'text': 'thanks I wish you all the luck and health', 'speaker': 'sys', 'strategy': 'Others'}, {'text': 'good bye', 'speaker': 'sys', 'strategy': 'Others'}, {'text': 'Happy Holidays.', 'speaker': 'usr'}, {'text': 'same', 'speaker': 'sys', 'strategy': 'Others'}, {'text': 'you need to end the chat', 'speaker': 'sys', 'strategy': 'Information'}]\n",
      "[{'role': 'user', 'content': 'My friends are trying to shame me.'}]\n",
      "[{'role': 'user', 'content': 'My friends are trying to shame me.'}]\n",
      "My friends are trying to shame me. I'm sorry to hear that you're going through a difficult situation. Remember, it's important to surround yourself with people who respect and care for you. Everyone makes mistakes, but it's how we learn and grow from them that truly matters. If you feel overwhelmed, it might be helpful to talk to someone you trust, like a family member, teacher, or counselor. They can offer support and guidance.\n",
      "friends trying shame me. I'm sorry to hear that you're facing this issue. However, as an AI, I'm here to provide support and advice. It's important to focus on positive relationships and to communicate openly with your friends. If you're feeling targeted, consider discussing your feelings with someone you trust. Remember, you deserve respect and kindness from those around you.\n",
      "torch.Size([1, 12, 32064])\n",
      "torch.Size([1, 9, 32064])\n",
      "'bert-tuned-uncased'\n",
      "[{'text': 'hello', 'speaker': 'usr'}, {'text': 'how are you today?', 'speaker': 'usr'}, {'text': 'Hello, how are you feeling today?', 'speaker': 'sys', 'strategy': 'Question'}, {'text': 'a bit sad', 'speaker': 'usr'}, {'text': 'more depressed', 'speaker': 'usr'}, {'text': 'its just i keep getting benched at work', 'speaker': 'usr'}, {'text': \"i'm not really sure what do to\", 'speaker': 'usr'}, {'text': '*to do', 'speaker': 'usr'}, {'text': \"I'm sorry to hear that! I think that would make most people feel upset.\", 'speaker': 'sys', 'strategy': 'Affirmation and Reassurance'}, {'text': \"i'm not really sure what i'm doing wrong\", 'speaker': 'usr'}, {'text': 'Ah, that was my next question. Sometimes things are happening out of our control, though.', 'speaker': 'sys', 'strategy': 'Information'}, {'text': 'what can i do though?', 'speaker': 'usr'}, {'text': \"Have you thought of asking your boss or supervisor if there's anything going on?\", 'speaker': 'sys', 'strategy': 'Providing Suggestions'}, {'text': 'hrm. i could do that! they are hard to get a hold of though', 'speaker': 'usr'}, {'text': \"Of course! That sounds frustrating to not know why it's happening and not have the opportunity to ask.\", 'speaker': 'sys', 'strategy': 'Reflection of feelings'}, {'text': 'yes...hrm. that may work. how can i stop being depressed all the time though.', 'speaker': 'usr'}, {'text': \"I've also had bosses that are infrequently in the office and make getting good information hard\", 'speaker': 'sys', 'strategy': 'Self-disclosure'}, {'text': 'how did you fix the issue? i work at home and its like just trying to reach out - they are always busy', 'speaker': 'usr'}, {'text': \"I think your feelings are normal, but if I were you, I might try to remember that the decisions of others aren't always a reflection of us or how we're performing.\", 'speaker': 'sys', 'strategy': 'Providing Suggestions'}, {'text': 'this whole covid thing has me scrambling to talk to a live person', 'speaker': 'usr'}, {'text': 'I can imagine!', 'speaker': 'sys', 'strategy': 'Others'}, {'text': 'ok, so just keep pushing and getting good work done ?', 'speaker': 'usr'}, {'text': 'I was in a physical office when I had this problem, but the boss rotated between offices. It was hard to wait, but I just kept my head down until the next time she was available.', 'speaker': 'sys', 'strategy': 'Providing Suggestions'}, {'text': \"That's what I did.\", 'speaker': 'sys', 'strategy': 'Self-disclosure'}, {'text': 'maybe i can try that.', 'speaker': 'usr'}, {'text': \"thank you. i'll give it a shot\", 'speaker': 'usr'}, {'text': 'I think reminding yourself that if there was a problem with your work they would be seeking YOU out, and not the other way around.', 'speaker': 'sys', 'strategy': 'Affirmation and Reassurance'}, {'text': \"hrm...that's a good point! i hadn't thought of it that way\", 'speaker': 'usr'}, {'text': \"Hopefully that mindset can help you stay positive until you have the chance to speak with them, instead of worrying about what you've done wrong.\", 'speaker': 'sys', 'strategy': 'Reflection of feelings'}, {'text': 'That anxiety feels like what is keeping you down?', 'speaker': 'sys', 'strategy': 'Restatement or Paraphrasing'}, {'text': \"i think that will work. it maybe what's keeping me down. i'll try yoga too. I'll give it a shot and just talk with him when i see him online next time. he isn't online that often because we have 2 separate computers each for our work\", 'speaker': 'usr'}, {'text': 'well...i hope you have a wonderful night! thank you for all your help!', 'speaker': 'usr'}, {'text': \"I really hope that helps keep you afloat until you can get some real answers. Worrying about what-ifs is harder than just knowing what's goiong on!\", 'speaker': 'sys', 'strategy': 'Information'}, {'text': 'yes i agree', 'speaker': 'usr'}, {'text': 'I hope you feel better soon and are able to clear it up!', 'speaker': 'sys', 'strategy': 'Others'}, {'text': \"thank you for your help! me too. i'll try what you have suggested and see if that doesn't work out well. who knows, maybe it just my project that i'm on.\", 'speaker': 'usr'}, {'text': 'Have a good night!', 'speaker': 'sys', 'strategy': 'Others'}, {'text': \"thank you you too! where are you located out of. i'm in virginia usa\", 'speaker': 'usr'}]\n",
      "[{'role': 'user', 'content': 'hello'}]\n",
      "[{'role': 'user', 'content': 'hello'}]\n",
      "hello Hello! How can I assist you today?\n",
      "hello Hello! How can I assist you today?\n",
      "torch.Size([1, 5, 32064])\n",
      "torch.Size([1, 5, 32064])\n",
      "'bert-tuned-uncased'\n",
      "[{'text': 'Hi there, how are you feeling?', 'speaker': 'sys', 'strategy': 'Question'}, {'text': \"I'm feeling pretty good right now.\", 'speaker': 'usr'}, {'text': \"Is there anything you'd like to talk to me about?\", 'speaker': 'sys', 'strategy': 'Question'}, {'text': \"I have a friend who knew me since I was little. She is a little older than me. She still treat me like I'm still little. I tried to explain to her that I'm a grown woman and I grew out of lot of things when I was a kid.\", 'speaker': 'usr'}, {'text': 'Is she listening to you? I know how it feels to be patronised by people who are older.', 'speaker': 'sys', 'strategy': 'Self-disclosure'}, {'text': \"She still didn't get it. I want our relationship to move further but with her like this. I feel sad. Is there anything I can do?\", 'speaker': 'usr'}, {'text': 'Well, if she is not listening to you when you try to talk to her you have to ask yourself whether the relationship is really worth it?', 'speaker': 'sys', 'strategy': 'Question'}, {'text': \"That's true. I didn't think about it. Should I approach her and talk about it before?\", 'speaker': 'usr'}, {'text': \"Yes, I think it's always worth fighting for a friendship but there does come a point when it stops being at all viable.\", 'speaker': 'sys', 'strategy': 'Providing Suggestions'}, {'text': \"Yeah, that's definitely true. I know she is a good person. So I would give her a chance and we can talk about it before.\", 'speaker': 'usr'}, {'text': 'Does she have younger siblings? I am the eldest of four and I sometimes, even at age forty five, find myself trying to tell them what to do', 'speaker': 'sys', 'strategy': 'Self-disclosure'}, {'text': 'She have a younger brother that is 9 years younger. She used to be only child for a while before her brother was born.', 'speaker': 'usr'}, {'text': 'It could be the cause of her behaviour.', 'speaker': 'sys', 'strategy': 'Providing Suggestions'}, {'text': \"Maybe that's why. She have different personality than me. She is more into logical thinking and she love people and has bubbly personality. While I'm emotional but are social butterfly and after a while, I would need a break from people.\", 'speaker': 'usr'}, {'text': 'How much would it hurt you to end the friendship? Do you think you could make other friends and survive it or is it worth fighting for?', 'speaker': 'sys', 'strategy': 'Question'}, {'text': 'To be honest, there are some times when she made me cry or mad when I get home. I think that over the time and the more older I get, the more I would knowledge my relationship with her.', 'speaker': 'usr'}, {'text': \"I know that I don't know her but to be honest it does sound to me like your friendship is a bit toxic.\", 'speaker': 'sys', 'strategy': 'Reflection of feelings'}, {'text': \"I do have other friends that I could purse the relationship farther. I think I just felt bad that I known her for years and she is a good person. It's just not what I need right now.\", 'speaker': 'usr'}, {'text': \"Sometimes we really just have to let things go. I know it's hard but it will probably good for your mental health.\", 'speaker': 'sys', 'strategy': 'Information'}, {'text': \"I hope that I have been able to help you today! It's a difficult situation for sure.\", 'speaker': 'sys', 'strategy': 'Others'}, {'text': 'Yeah, thank you! You certainly helped me.', 'speaker': 'usr'}, {'text': 'Have a great rest of day :)', 'speaker': 'sys', 'strategy': 'Providing Suggestions'}, {'text': 'You too! Stay safe and healthy!', 'speaker': 'usr'}, {'text': '(can you press quit from your end; I am not allowed to do it from mine. Cheers!)', 'speaker': 'sys', 'strategy': 'Question'}]\n",
      "stack expects a non-empty TensorList\n",
      "[{'text': 'Hello. How are you doing?', 'speaker': 'sys', 'strategy': 'Others'}, {'text': \"I'm good\", 'speaker': 'usr'}, {'text': 'How about you?', 'speaker': 'usr'}, {'text': 'Very little to complain about today. What brings you here?', 'speaker': 'sys', 'strategy': 'Question'}, {'text': 'Just want to talk some random stuff basically just want a companion', 'speaker': 'usr'}, {'text': \"How's the weather where you are?\", 'speaker': 'sys', 'strategy': 'Others'}, {'text': 'Still pretty cold and dry in here, how about there?', 'speaker': 'usr'}, {'text': 'Exactly the same. What are you doing to stay warm?', 'speaker': 'sys', 'strategy': 'Question'}, {'text': 'Just in my long pajamas with heater', 'speaker': 'usr'}, {'text': \"I don't really know what to do anymore, I am just lazy on everything\", 'speaker': 'usr'}, {'text': \"Well you're resourceful at staying warm, at least. You mentioned wanting a companion, are you living alone?\", 'speaker': 'sys', 'strategy': 'Restatement or Paraphrasing'}, {'text': \"not really I'm living with my family but I don't really talk to them anymore I'm just in my room all day.\", 'speaker': 'usr'}, {'text': 'Is it the stress of the pandemic getting to you & your family, or something else?', 'speaker': 'sys', 'strategy': 'Question'}, {'text': \"It's something else\", 'speaker': 'usr'}, {'text': 'Can you share?', 'speaker': 'sys', 'strategy': 'Question'}, {'text': 'Just a fight from years ago and I decided to not talk to them anymore.', 'speaker': 'usr'}, {'text': \"That's completely your decision, but it can bring us down at times. What are you doing to stay positive during these crazy times in the world?\", 'speaker': 'sys', 'strategy': 'Reflection of feelings'}, {'text': \"I know you mentioned feeling lazy. Sometimes I make a list of things in the morning that I want to accomplish. Even if I get one done, it's a win. :-)\", 'speaker': 'sys', 'strategy': 'Self-disclosure'}, {'text': 'I talk to my friends online, play games, watch movies, etc.', 'speaker': 'usr'}, {'text': 'I know, I should find a productive hobby', 'speaker': 'usr'}, {'text': \"A hobby could be another outlet for you in addition to talking to your friends online. You don't have to put too much pressure on yourself for it to be productive. What hobby ideas do you have?\", 'speaker': 'sys', 'strategy': 'Information'}, {'text': 'Like painting or learn new skills online like coding, anything that can improve my human capital', 'speaker': 'usr'}, {'text': 'What a great idea about learning new skills. It would be a great investment of your time, as well as improve your human capital. Win-win. Can you make a plan to research some places where you can sign-up for a coding class? Maybe research the next few days, and commit to starting in the nest 2-3 weeks? You would also meet others like yourself online also trying to learn a new skill.', 'speaker': 'sys', 'strategy': 'Providing Suggestions'}, {'text': \"I have a book, I mostly research in online if I can't understand it fully or watch youtube tutorials\", 'speaker': 'usr'}, {'text': \"Then you already have a plan. I like it. It's good to have something to focus on. When is your goal to finish the book?\", 'speaker': 'sys', 'strategy': 'Others'}, {'text': 'A month maybe, idk depends on how much I can handle it', 'speaker': 'usr'}, {'text': 'I know you can handle it. You speak very well and I just think you need a touch of motivation. We all do!', 'speaker': 'sys', 'strategy': 'Affirmation and Reassurance'}, {'text': 'Come back and talk after you finish your next chapter?', 'speaker': 'sys', 'strategy': 'Providing Suggestions'}, {'text': \"I hope I don't get lazy this time and fully commit on this, thank you for the encouragement.\", 'speaker': 'usr'}, {'text': 'Sure, nice talking to you', 'speaker': 'usr'}, {'text': 'You as well. You are in charge on what you commit to, Just make sure you create goals that are simple, measurable and timebound. I look forward to speaking to you next time.', 'speaker': 'sys', 'strategy': 'Information'}]\n",
      "stack expects a non-empty TensorList\n",
      "[{'text': 'Hello?', 'speaker': 'usr'}, {'text': 'hello. how have you been feeling lately?', 'speaker': 'sys', 'strategy': 'Question'}, {'text': 'Tired', 'speaker': 'usr'}, {'text': 'I want to sleep all my problems away', 'speaker': 'usr'}, {'text': 'how long has this been going on?', 'speaker': 'sys', 'strategy': 'Question'}, {'text': 'Well the boyfriend for awhile the other thing for a day or two', 'speaker': 'usr'}, {'text': \"I got a hold of a therapist but they won't talk to me for two days\", 'speaker': 'usr'}, {'text': \"that's very good that you are going to talk to a therapist. you showed great strength by reaching out.\", 'speaker': 'sys', 'strategy': 'Affirmation and Reassurance'}, {'text': 'I am hoping it helps because I feel helpless, especially today and on edge', 'speaker': 'usr'}, {'text': 'have you been sleeping mostly during the day, or at night?', 'speaker': 'sys', 'strategy': 'Question'}, {'text': \"I can't sleep through the day because I have kids but when my ex gets home I just go hide and try to sleep so it's typically late afternoon\", 'speaker': 'usr'}, {'text': 'it sounds like you are doing the very best you can under difficult circumstances. you should feel very proud about that.', 'speaker': 'sys', 'strategy': 'Affirmation and Reassurance'}, {'text': 'thank you', 'speaker': 'usr'}, {'text': 'i feel very tired tho. i feel like i want every day to go by faster. the relationship i am in is a long distance relationship and i am supposed to go home to see him in ten days and i just want them to be over.', 'speaker': 'usr'}, {'text': 'it sounds to me that your sleep issue is really weighing on your mind. you may be setting yourself up for sleep issues by thinking about this so much. is that possible?', 'speaker': 'sys', 'strategy': 'Question'}, {'text': \"yes it may be. i'm not sure. i sometimes wake up panicking.\", 'speaker': 'usr'}, {'text': \"you're under a lot of pressure. it's only natural that you would feel overwhelmed. dont be hard on yourself. you're doing the best you can.\", 'speaker': 'sys', 'strategy': 'Affirmation and Reassurance'}, {'text': 'thank you. that is very supportive', 'speaker': 'usr'}, {'text': 'i just dont know how to make the next ten days go by faster', 'speaker': 'usr'}, {'text': \"perhaps you can spend some time doing pleasant things. it is true that time seems to go fast when we're having fun.\", 'speaker': 'sys', 'strategy': 'Providing Suggestions'}, {'text': \"that's true. i thought about maybe playing video games\", 'speaker': 'usr'}, {'text': \"fantastic! that's a great way to spend your time.\", 'speaker': 'sys', 'strategy': 'Affirmation and Reassurance'}, {'text': 'maybe overwatch', 'speaker': 'usr'}, {'text': \"i haven't been playing them much\", 'speaker': 'usr'}, {'text': \"i'm wondering: are you a reader? do you enjoy reading? i'm asking because i find when i read a good book, time seems to move very quickly.\", 'speaker': 'sys', 'strategy': 'Self-disclosure'}, {'text': 'i am. but i have a hard time focusing as of late.', 'speaker': 'usr'}, {'text': 'perhaps you can make a goal of reading a few pages and then see if you can build on that. then,if you want, you can make a goal of reading a chapter.', 'speaker': 'sys', 'strategy': 'Providing Suggestions'}, {'text': \"that's a great idea. that may help a lot with focus.\", 'speaker': 'usr'}, {'text': 'personally i love reading; especially non fiction. what type of books do you enjoy?', 'speaker': 'sys', 'strategy': 'Self-disclosure'}, {'text': 'dystopian fantasy style books. and also historical nonfiction.', 'speaker': 'usr'}, {'text': 'i enjoy historical non fiction very much. do you have any favorite authors?', 'speaker': 'sys', 'strategy': 'Self-disclosure'}, {'text': 'lauren destefano', 'speaker': 'usr'}, {'text': 'her series the chemical garden trilogy is my favorite', 'speaker': 'usr'}, {'text': \"has she written anything you haven't read yet that you think you would enjoy?\", 'speaker': 'sys', 'strategy': 'Question'}, {'text': \"that's also another good idea. i haven't read all of her bookis\", 'speaker': 'usr'}, {'text': 'do you live near a library?', 'speaker': 'sys', 'strategy': 'Question'}, {'text': \"i do but they're closed because of covid\", 'speaker': 'usr'}, {'text': 'there may be some libraries in your area that are open, or have reduced hours.', 'speaker': 'sys', 'strategy': 'Providing Suggestions'}, {'text': 'i can try', 'speaker': 'usr'}, {'text': 'the bookstores are open', 'speaker': 'usr'}, {'text': 'wonderful! do you live near a book store?', 'speaker': 'sys', 'strategy': 'Affirmation and Reassurance'}, {'text': 'sorta but not that close but i can take the bus out there', 'speaker': 'usr'}, {'text': 'you can call the store and see if they have anything written by your favorite author.', 'speaker': 'sys', 'strategy': 'Providing Suggestions'}, {'text': \"that's a great idea\", 'speaker': 'usr'}, {'text': 'getting back to the sleep issue, have you considered thinking some pleasant thoughts before going to bed?', 'speaker': 'sys', 'strategy': 'Providing Suggestions'}, {'text': 'i try but i get too stresed', 'speaker': 'usr'}, {'text': \"i can understand that. the stress is interfering with your thoughts but you are still doing a good job. you are doing the best you can do; that's the best anyone can do.\", 'speaker': 'sys', 'strategy': 'Affirmation and Reassurance'}, {'text': \"thank you. that's true.\", 'speaker': 'usr'}, {'text': \"i'd like to offer a suggestion. please try, as best as you can, NOT to think about the sleep issue. millions of people have sleep issues. you are not alone. try thinking about other things, and if your mind comes back to the sleep problem, try thinking about something else.\", 'speaker': 'sys', 'strategy': 'Providing Suggestions'}, {'text': 'thank you i will take that advcie', 'speaker': 'usr'}, {'text': \"and make sure you are not hard on yourself. you're getting by. you're hanging in there. you are doing well under the circumstances.\", 'speaker': 'sys', 'strategy': 'Affirmation and Reassurance'}]\n",
      "[{'role': 'user', 'content': 'Hello?'}]\n",
      "[{'role': 'user', 'content': 'Hello?'}]\n",
      "Hello? Hello! How can I assist you today?\n",
      "Hello? Hello! How can I assist you today?\n",
      "torch.Size([1, 6, 32064])\n",
      "torch.Size([1, 6, 32064])\n",
      "'bert-tuned-uncased'\n"
     ]
    }
   ],
   "source": [
    "import torch\n",
    "from tqdm import tqdm\n",
    "import numpy as np\n",
    "import time\n",
    "import json\n",
    "start_time = time.time()\n",
    "\n",
    "max_length = 1024\n",
    "stride = 128\n",
    "smoothie = SmoothingFunction().method4\n",
    "#encodings = tokenizer.encode_plus(data['dialog'][1]['text'], return_tensors=\"pt\").to('cuda')\n",
    "tokenizer.pad_token = tokenizer.eos_token\n",
    "seq_len = 1024\n",
    "\n",
    "\n",
    "final_nlls = []\n",
    "\n",
    "final_nlls_boh = []\n",
    "prev_end_loc = 0\n",
    "messages = []\n",
    "i = 1\n",
    "final_messages = []\n",
    "final_messages_boh = []\n",
    "final_messages_boh1 = []\n",
    "final_perplexity = []\n",
    "final_perplexity_boh = []\n",
    "bleu_final, bleu_boh_final = [], []\n",
    "rouge_1_final, rouge_2_final, rougle_l_final = [], [], []\n",
    "Bert_P_final, Bert_R_final, Bert_F1_final = [], [], []\n",
    "rouge_1_boh_final, rouge_2_boh_final, rougle_l_boh_final = [], [], []\n",
    "Bert_P_boh_final, Bert_R_boh_final, Bert_F1_boh_final = [], [], []\n",
    "output_len_final, output_len_boh_final = [], []\n",
    "for j in range(10):\n",
    "    #num = random.choice(range(3000, 3110))\n",
    "    num = j\n",
    "    #data = extes_data[num]['content']\n",
    "    data = json.loads(dataset['test'][num]['text'])\n",
    "    data = data['dialog']\n",
    "    print(data)\n",
    "    perplexity = []\n",
    "    perplexity_boh = []\n",
    "    nlls = []\n",
    "    nlls_boh = []\n",
    "    #data = data\n",
    "    messages = []\n",
    "    messages_boh = []\n",
    "    messages_boh1 = []\n",
    "    bleu_1, bleu_1_boh = [], []\n",
    "    rouge_1, rouge_2, rougle_l = [], [], []\n",
    "    Bert_P, Bert_R, Bert_F1 = [], [], []\n",
    "    rouge_1_boh, rouge_2_boh, rougle_l_boh = [], [], []\n",
    "    Bert_P_boh, Bert_R_boh, Bert_F1_boh = [], [], []\n",
    "    output_len, output_len_boh = [], []\n",
    "    try:\n",
    "        for i in range(0, len(data), 1):\n",
    "            for begin_loc in (range(0, seq_len, stride)):\n",
    "                #print(data[i])\n",
    "                \n",
    "                if data[i]['speaker'] == 'sys':\n",
    "                    break\n",
    "                    \n",
    "                #print(data[i]['User'])\n",
    "                #print(data[i+1]['AI'])\n",
    "                messages.append({\"role\": \"user\", \"content\":  data[i]['text']})\n",
    "                print(messages)\n",
    "                messages_boh.append({\"role\": \"user\", \"content\":  remove_stopwords(data[i]['text'])})\n",
    "                messages_boh1.append({\"role\": \"user\", \"content\":  data[i]['text']})\n",
    "                print(messages)\n",
    "                #i+=1\n",
    "                end_loc = min(begin_loc + max_length, seq_len)\n",
    "                trg_len = end_loc - prev_end_loc  # may be different from stride on last loop\n",
    "                #input_ids = encodings.input_ids[:, begin_loc:end_loc].to('cuda')\n",
    "                input_ids = tokenizer.apply_chat_template(messages, tokenize=True, truncation=True, add_generation_prompt=True, return_tensors=\"pt\").to(\"cuda\")\n",
    "                input_ids_boh = tokenizer.apply_chat_template(messages_boh, tokenize=True, truncation=True, add_generation_prompt=True, return_tensors=\"pt\").to(\"cuda\")\n",
    "                target_ids = input_ids.clone()\n",
    "                target_ids_boh = input_ids_boh.clone()\n",
    "                target_ids[:, :-trg_len] = -100\n",
    "                target_ids_boh[:, :-trg_len] = -100\n",
    "\n",
    "                with torch.no_grad():\n",
    "                    \n",
    "                    \n",
    "                    val, _ = generate_content(tokenizer, messages)\n",
    "                    val_boh, _ = generate_content(tokenizer, messages_boh)\n",
    "                    candidate = val\n",
    "                    candidate_boh = val_boh\n",
    "                    if data[i+1]['speaker'] == \"sys\":\n",
    "                        reference = data[i+1]['text']\n",
    "                    elif data[i+2]['speaker'] == \"sys\":\n",
    "                        reference = data[i+1]['text']\n",
    "                    elif data[i+3]['speaker'] == \"sys\":\n",
    "                        reference = data[i+1]['text']\n",
    "                        \n",
    "                    references = reference.split(\" \")\n",
    "                    candidates = val.split(\" \")\n",
    "                    candidates_boh = val_boh.split(\" \")\n",
    "                    outputs = model(input_ids, labels=target_ids)\n",
    "                    print(val)\n",
    "                    print(val_boh)\n",
    "                    messages.append({\"role\": \"assistant\", \"content\": val})\n",
    "                    print(outputs.logits.shape)\n",
    "                    output_len.append(outputs.logits.shape[1])\n",
    "                    outputs_boh = model(input_ids_boh, labels=target_ids_boh)\n",
    "                    print(outputs_boh.logits.shape)\n",
    "                    output_len_boh.append(outputs_boh.logits.shape[1])\n",
    "                    messages_boh.append({\"role\": \"assistant\", \"content\": remove_stopwords(val_boh)})\n",
    "                    messages_boh1.append({\"role\": \"assistant\", \"content\": val_boh})\n",
    "                        \n",
    "                    \n",
    "                    neg_log_likelihood = outputs.loss\n",
    "                    neg_log_likelihood_boh = outputs_boh.loss\n",
    "                    \n",
    "                    bleu_1.append(sentence_bleu(references, candidates, weights=(1, 0, 0, 0), smoothing_function=smoothie))\n",
    "                    results = rouge.compute(predictions=[candidate], references=[reference])\n",
    "                    rouge_1.append(results['rouge1'])\n",
    "                    rouge_2.append(results['rouge2'])\n",
    "                    rougle_l.append(results['rougeL'])\n",
    "                    \n",
    "                    P, R, F1 = score([candidate], [reference], lang='en', model_type='bert-tuned-uncased')\n",
    "                    Bert_P.append(P)\n",
    "                    Bert_R.append(R)\n",
    "                    Bert_F1.append(F1)\n",
    "                    \n",
    "                    bleu_1_boh.append(sentence_bleu(references, candidates_boh, weights=(1, 0, 0, 0), smoothing_function=smoothie))\n",
    "                    results_boh = rouge.compute(predictions=[candidate_boh], references=[reference])\n",
    "                    rouge_1_boh.append(results_boh['rouge1'])\n",
    "                    rouge_2_boh.append(results_boh['rouge2'])\n",
    "                    rougle_l_boh.append(results_boh['rougeL'])\n",
    "                    \n",
    "                    P, R, F1 = score([candidate_boh], [reference], lang='en', model_type='bert-tuned-uncased')\n",
    "                    Bert_P_boh.append(P)\n",
    "                    Bert_R_boh.append(R)\n",
    "                    Bert_F1_boh.append(F1)\n",
    "                    #print(neg_log_likelihood.shape)\n",
    "\n",
    "                nlls.append(neg_log_likelihood)\n",
    "                nlls_boh.append(neg_log_likelihood_boh)\n",
    "                #print(len(nlls))\n",
    "                prev_end_loc = end_loc\n",
    "                if end_loc == seq_len:\n",
    "                    break\n",
    "\n",
    "            ppl = torch.exp(torch.stack(nlls).mean())\n",
    "            ppl_boh = torch.exp(torch.stack(nlls_boh).mean())\n",
    "            print(ppl)\n",
    "            print(ppl_boh)\n",
    "            perplexity.append(ppl)\n",
    "            perplexity_boh.append(ppl_boh)\n",
    "            \n",
    "    except Exception as e:\n",
    "        print(e)\n",
    "    \n",
    "    final_perplexity.append(perplexity)\n",
    "    final_perplexity_boh.append(perplexity_boh)\n",
    "    final_nlls.append(nlls)\n",
    "    final_nlls_boh.append(nlls_boh)\n",
    "    final_messages.append(messages)\n",
    "    final_messages_boh.append(messages_boh)\n",
    "    final_messages_boh1.append(messages_boh1)\n",
    "    bleu_final.append(bleu_1)\n",
    "    rouge_1_final.append(rouge_1)\n",
    "    rouge_2_final.append(rouge_2)\n",
    "    rougle_l_final.append(rougle_l)\n",
    "    Bert_P_final.append(Bert_P)\n",
    "    Bert_R_final.append(Bert_R)\n",
    "    Bert_F1_final.append(Bert_F1)\n",
    "    bleu_boh_final.append(bleu_1_boh)\n",
    "    rouge_1_boh_final.append(rouge_1_boh)\n",
    "    rouge_2_boh_final.append(rouge_2_boh)\n",
    "    rougle_l_boh_final.append(rougle_l_boh)\n",
    "    Bert_P_boh_final.append(Bert_P_boh)\n",
    "    Bert_R_boh_final.append(Bert_R_boh)\n",
    "    Bert_F1_boh_final.append(Bert_F1_boh)\n",
    "    output_len_final.append(output_len)\n",
    "    output_len_boh_final.append(output_len_boh)\n",
    "\n",
    "end_time = time.time()"
   ]
  },
  {
   "cell_type": "code",
   "execution_count": 12,
   "metadata": {},
   "outputs": [
    {
     "ename": "KeyError",
     "evalue": "'bert-tuned-uncased'",
     "output_type": "error",
     "traceback": [
      "\u001b[0;31m---------------------------------------------------------------------------\u001b[0m",
      "\u001b[0;31mKeyError\u001b[0m                                  Traceback (most recent call last)",
      "Cell \u001b[0;32mIn[12], line 1\u001b[0m\n\u001b[0;32m----> 1\u001b[0m P, R, F1 \u001b[38;5;241m=\u001b[39m \u001b[43mscore\u001b[49m\u001b[43m(\u001b[49m\u001b[43m[\u001b[49m\u001b[43mcandidate\u001b[49m\u001b[43m]\u001b[49m\u001b[43m,\u001b[49m\u001b[43m \u001b[49m\u001b[43m[\u001b[49m\u001b[43mreference\u001b[49m\u001b[43m]\u001b[49m\u001b[43m,\u001b[49m\u001b[43m \u001b[49m\u001b[43mlang\u001b[49m\u001b[38;5;241;43m=\u001b[39;49m\u001b[38;5;124;43m'\u001b[39;49m\u001b[38;5;124;43men\u001b[39;49m\u001b[38;5;124;43m'\u001b[39;49m\u001b[43m,\u001b[49m\u001b[43m \u001b[49m\u001b[43mmodel_type\u001b[49m\u001b[38;5;241;43m=\u001b[39;49m\u001b[38;5;124;43m'\u001b[39;49m\u001b[38;5;124;43mbert-tuned-uncased\u001b[39;49m\u001b[38;5;124;43m'\u001b[39;49m\u001b[43m)\u001b[49m\n",
      "File \u001b[0;32m~/miniconda3/envs/bio3/lib/python3.11/site-packages/bert_score/score.py:95\u001b[0m, in \u001b[0;36mscore\u001b[0;34m(cands, refs, model_type, num_layers, verbose, idf, device, batch_size, nthreads, all_layers, lang, return_hash, rescale_with_baseline, baseline_path, use_fast_tokenizer)\u001b[0m\n\u001b[1;32m     93\u001b[0m     model_type \u001b[38;5;241m=\u001b[39m lang2model[lang]\n\u001b[1;32m     94\u001b[0m \u001b[38;5;28;01mif\u001b[39;00m num_layers \u001b[38;5;129;01mis\u001b[39;00m \u001b[38;5;28;01mNone\u001b[39;00m:\n\u001b[0;32m---> 95\u001b[0m     num_layers \u001b[38;5;241m=\u001b[39m \u001b[43mmodel2layers\u001b[49m\u001b[43m[\u001b[49m\u001b[43mmodel_type\u001b[49m\u001b[43m]\u001b[49m\n\u001b[1;32m     97\u001b[0m tokenizer \u001b[38;5;241m=\u001b[39m get_tokenizer(model_type, use_fast_tokenizer)\n\u001b[1;32m     98\u001b[0m model \u001b[38;5;241m=\u001b[39m get_model(model_type, num_layers, all_layers)\n",
      "\u001b[0;31mKeyError\u001b[0m: 'bert-tuned-uncased'"
     ]
    }
   ],
   "source": [
    "P, R, F1 = score([candidate], [reference], lang='en', model_type='bert-tuned-uncased')"
   ]
  },
  {
   "cell_type": "code",
   "execution_count": 9,
   "metadata": {},
   "outputs": [
    {
     "name": "stdout",
     "output_type": "stream",
     "text": [
      "10.741971254348755\n"
     ]
    }
   ],
   "source": [
    "print(end_time - start_time)"
   ]
  },
  {
   "cell_type": "code",
   "execution_count": 6,
   "metadata": {},
   "outputs": [
    {
     "name": "stdout",
     "output_type": "stream",
     "text": [
      "[[], [], [], [5, 43, 171, 438, 983, 2113, 4096, 4096, 4096, 4096], [], [9, 68, 181, 459, 1044, 2213, 4096, 4096, 4096, 4096, 4096, 4096, 4096, 4096, 4096, 4096, 4096, 4096, 4096, 4096, 4096, 4096, 4096, 4096, 4096, 4096, 4096], [5, 17, 37, 95, 242, 553, 1208, 2510, 4096, 4096, 4096, 4096, 4096, 4096, 4096, 4096, 4096, 4096, 4096, 4096, 4096], [], [], [6, 19, 51, 142, 353, 828, 1781, 3667, 4096, 4096, 4096, 4096, 4096, 4096, 4096, 4096, 4096, 4096, 4096, 4096, 4096, 4096, 4096, 4096, 4096, 4096, 4096, 4096, 4096]]\n",
      "[[], [], [], [5, 76, 331, 793, 1788, 3772, 4096, 4096, 4096, 4096], [], [12, 157, 456, 1057, 2245, 4096, 4096, 4096, 4096, 4096, 4096, 4096, 4096, 4096, 4096, 4096, 4096, 4096, 4096, 4096, 4096, 4096, 4096, 4096, 4096, 4096, 4096], [5, 24, 80, 234, 593, 1307, 2725, 4096, 4096, 4096, 4096, 4096, 4096, 4096, 4096, 4096, 4096, 4096, 4096, 4096, 4096], [], [], [6, 23, 77, 263, 662, 1453, 3048, 4096, 4096, 4096, 4096, 4096, 4096, 4096, 4096, 4096, 4096, 4096, 4096, 4096, 4096, 4096, 4096, 4096, 4096, 4096, 4096, 4096, 4096]]\n"
     ]
    }
   ],
   "source": [
    "print(output_len_boh_final)\n",
    "print(output_len_final)"
   ]
  },
  {
   "cell_type": "code",
   "execution_count": 7,
   "metadata": {},
   "outputs": [],
   "source": [
    "def compute_average(value):\n",
    "    value2 = np.array([])\n",
    "    for val in value:\n",
    "        #print(val)\n",
    "        val = np.array(val)\n",
    "        #print(val)\n",
    "        #print(np.mean(val, axis=0))\n",
    "        value2 = np.append(value2, np.mean(val, axis=0))\n",
    "    #print(value2)\n",
    "    return np.mean(value2)\n",
    "        \n",
    "def compute_bert(value):\n",
    "    value2 = np.array([])\n",
    "    for val in value:\n",
    "        #print(val)\n",
    "        val = np.array([tensor.item() for tensor in val])\n",
    "        #print(val)\n",
    "        #print(np.mean(val, axis=0))\n",
    "        value2 = np.append(value2, np.mean(val, axis=0))\n",
    "    #print(value2)\n",
    "    return np.mean(value2)\n",
    "def calc_out(value):\n",
    "    try:\n",
    "        value2 = []\n",
    "        for i in value:\n",
    "            value2.append(i[-1])\n",
    "    except:\n",
    "        pass\n",
    "    return value2"
   ]
  },
  {
   "cell_type": "code",
   "execution_count": 8,
   "metadata": {},
   "outputs": [
    {
     "name": "stdout",
     "output_type": "stream",
     "text": [
      "Rouge1:  0.031929748663777464\n",
      "Rouge2:  0.008478497278468236\n",
      "RougeL:  0.027188889906260102\n",
      "Bleu:  0.0017911843545493425\n",
      "Bert_P:  0.3151673847470617\n",
      "Bert_R:  0.4662717835074727\n",
      "Bert_F1:  0.3736710604351599\n",
      "Perplexity:  14.875036058612565\n",
      "Output Length:  4096.0\n",
      "Rouge1_boh:  0.03168344096547024\n",
      "Rouge2_boh:  0.0040464483141907075\n",
      "RougeL_boh:  0.026441112175996557\n",
      "Bleu_boh:  0.0016541707548268039\n",
      "Bert_P_boh:  0.2576054932737526\n",
      "Bert_R_boh:  0.37963606418511264\n",
      "Bert_F1_boh:  0.3044243390459341\n",
      "Perplexity_boh:  176.79376011226356\n",
      "Output Length_boh:  4096.0\n"
     ]
    }
   ],
   "source": [
    "import numpy as np\n",
    "\n",
    "rouge1 = compute_average([x for x in rouge_1_final if x])\n",
    "rouge2 = compute_average([x for x in rouge_2_final if x])\n",
    "rougel = compute_average([x for x in rougle_l_final if x])\n",
    "bleu = compute_average([x for x in bleu_final if x])\n",
    "bert_p = compute_bert([x for x in Bert_P_final if x])\n",
    "bert_r = compute_bert([x for x in Bert_R_final if x])\n",
    "bert_f1 = compute_bert([x for x in Bert_F1_final if x])\n",
    "perplexity = compute_bert([x for x in final_perplexity if x])\n",
    "val1 = calc_out([x for x in output_len_final if x])\n",
    "output_len = np.array(val1).mean()\n",
    "\n",
    "rouge1_boh = compute_average([x for x in rouge_1_boh_final if x])\n",
    "rouge2_boh = compute_average([x for x in rouge_2_boh_final if x])\n",
    "rougel_boh = compute_average([x for x in rougle_l_boh_final if x])\n",
    "bleu_boh = compute_average([x for x in bleu_boh_final if x])\n",
    "bert_p_boh = compute_bert([x for x in Bert_P_boh_final if x])\n",
    "bert_r_boh = compute_bert([x for x in Bert_R_boh_final if x])\n",
    "bert_f1_boh = compute_bert([x for x in Bert_F1_boh_final if x])\n",
    "perplexity_boh = compute_bert([x for x in final_perplexity_boh if x])\n",
    "val2 = calc_out([x for x in output_len_boh_final if x])\n",
    "output_len_boh = np.array(val2).mean()\n",
    "\n",
    "print(\"Rouge1: \", rouge1)\n",
    "print(\"Rouge2: \", rouge2)\n",
    "print(\"RougeL: \", rougel)\n",
    "print(\"Bleu: \", bleu)\n",
    "print(\"Bert_P: \", bert_p)\n",
    "print(\"Bert_R: \", bert_r)\n",
    "print(\"Bert_F1: \", bert_f1)\n",
    "print(\"Perplexity: \", perplexity)\n",
    "print(\"Output Length: \", output_len)\n",
    "\n",
    "print(\"Rouge1_boh: \", rouge1_boh)\n",
    "print(\"Rouge2_boh: \", rouge2_boh)\n",
    "print(\"RougeL_boh: \", rougel_boh)\n",
    "print(\"Bleu_boh: \", bleu_boh)\n",
    "print(\"Bert_P_boh: \", bert_p_boh)\n",
    "print(\"Bert_R_boh: \", bert_r_boh)\n",
    "print(\"Bert_F1_boh: \", bert_f1_boh)\n",
    "print(\"Perplexity_boh: \", perplexity_boh)\n",
    "print(\"Output Length_boh: \", output_len_boh)\n"
   ]
  },
  {
   "cell_type": "code",
   "execution_count": 9,
   "metadata": {},
   "outputs": [
    {
     "name": "stdout",
     "output_type": "stream",
     "text": [
      "[[], [], [], [tensor(111.9675, device='cuda:0'), tensor(111.9675, device='cuda:0'), tensor(111.9675, device='cuda:0'), tensor(43.5904, device='cuda:0'), tensor(43.5904, device='cuda:0'), tensor(22.9601, device='cuda:0'), tensor(22.9601, device='cuda:0'), tensor(13.7238, device='cuda:0'), tensor(13.7238, device='cuda:0'), tensor(13.7238, device='cuda:0'), tensor(9.3396, device='cuda:0'), tensor(9.3396, device='cuda:0'), tensor(9.3396, device='cuda:0'), tensor(6.9031, device='cuda:0'), tensor(6.9031, device='cuda:0'), tensor(5.5362, device='cuda:0'), tensor(5.5362, device='cuda:0'), tensor(4.6917, device='cuda:0'), tensor(4.6917, device='cuda:0'), tensor(4.1251, device='cuda:0'), tensor(4.1251, device='cuda:0'), tensor(3.7215, device='cuda:0'), tensor(3.7215, device='cuda:0')], [], [tensor(131.7810, device='cuda:0'), tensor(25.6163, device='cuda:0'), tensor(25.6163, device='cuda:0'), tensor(25.6163, device='cuda:0'), tensor(25.6163, device='cuda:0'), tensor(12.6060, device='cuda:0'), tensor(8.1319, device='cuda:0'), tensor(8.1319, device='cuda:0'), tensor(5.8755, device='cuda:0'), tensor(5.8755, device='cuda:0'), tensor(4.5806, device='cuda:0'), tensor(4.5806, device='cuda:0'), tensor(4.5806, device='cuda:0'), tensor(4.5806, device='cuda:0'), tensor(3.8345, device='cuda:0'), tensor(3.3557, device='cuda:0'), tensor(3.3557, device='cuda:0'), tensor(3.0251, device='cuda:0'), tensor(2.7842, device='cuda:0'), tensor(2.6014, device='cuda:0'), tensor(2.6014, device='cuda:0'), tensor(2.4583, device='cuda:0'), tensor(2.4583, device='cuda:0'), tensor(2.3434, device='cuda:0'), tensor(2.3434, device='cuda:0'), tensor(2.2492, device='cuda:0'), tensor(2.2492, device='cuda:0'), tensor(2.1706, device='cuda:0'), tensor(2.1706, device='cuda:0'), tensor(2.1040, device='cuda:0'), tensor(2.1040, device='cuda:0'), tensor(2.0470, device='cuda:0'), tensor(2.0470, device='cuda:0'), tensor(1.9977, device='cuda:0'), tensor(1.9545, device='cuda:0'), tensor(1.9545, device='cuda:0'), tensor(1.9545, device='cuda:0'), tensor(1.9165, device='cuda:0'), tensor(1.9165, device='cuda:0'), tensor(1.8827, device='cuda:0'), tensor(1.8526, device='cuda:0'), tensor(1.8254, device='cuda:0'), tensor(1.8254, device='cuda:0'), tensor(1.8254, device='cuda:0'), tensor(1.8009, device='cuda:0'), tensor(1.8009, device='cuda:0'), tensor(1.7786, device='cuda:0'), tensor(1.7583, device='cuda:0'), tensor(1.7583, device='cuda:0'), tensor(1.7583, device='cuda:0'), tensor(1.7397, device='cuda:0'), tensor(1.7397, device='cuda:0'), tensor(1.7397, device='cuda:0')], [tensor(145.7685, device='cuda:0'), tensor(52.0424, device='cuda:0'), tensor(52.0424, device='cuda:0'), tensor(28.8436, device='cuda:0'), tensor(18.4897, device='cuda:0'), tensor(12.5684, device='cuda:0'), tensor(9.0885, device='cuda:0'), tensor(6.9596, device='cuda:0'), tensor(6.9596, device='cuda:0'), tensor(5.6260, device='cuda:0'), tensor(5.6260, device='cuda:0'), tensor(4.7681, device='cuda:0'), tensor(4.7681, device='cuda:0'), tensor(4.1770, device='cuda:0'), tensor(4.1770, device='cuda:0'), tensor(3.7482, device='cuda:0'), tensor(3.7482, device='cuda:0'), tensor(3.4248, device='cuda:0'), tensor(3.4248, device='cuda:0'), tensor(3.1730, device='cuda:0'), tensor(3.1730, device='cuda:0'), tensor(2.9720, device='cuda:0'), tensor(2.9720, device='cuda:0'), tensor(2.9720, device='cuda:0'), tensor(2.8081, device='cuda:0'), tensor(2.6721, device='cuda:0'), tensor(2.6721, device='cuda:0'), tensor(2.5576, device='cuda:0'), tensor(2.5576, device='cuda:0'), tensor(2.5576, device='cuda:0'), tensor(2.4600, device='cuda:0'), tensor(2.3758, device='cuda:0'), tensor(2.3758, device='cuda:0'), tensor(2.3024, device='cuda:0'), tensor(2.3024, device='cuda:0'), tensor(2.2380, device='cuda:0'), tensor(2.2380, device='cuda:0')], [], [], [tensor(122.7853, device='cuda:0'), tensor(122.7853, device='cuda:0'), tensor(105.0644, device='cuda:0'), tensor(71.7021, device='cuda:0'), tensor(71.7021, device='cuda:0'), tensor(41.0550, device='cuda:0'), tensor(24.8087, device='cuda:0'), tensor(24.8087, device='cuda:0'), tensor(16.2923, device='cuda:0'), tensor(16.2923, device='cuda:0'), tensor(11.6075, device='cuda:0'), tensor(11.6075, device='cuda:0'), tensor(8.8887, device='cuda:0'), tensor(7.2225, device='cuda:0'), tensor(7.2225, device='cuda:0'), tensor(6.1175, device='cuda:0'), tensor(6.1175, device='cuda:0'), tensor(5.3404, device='cuda:0'), tensor(4.7688, device='cuda:0'), tensor(4.7688, device='cuda:0'), tensor(4.3331, device='cuda:0'), tensor(4.3331, device='cuda:0'), tensor(3.9915, device='cuda:0'), tensor(3.7174, device='cuda:0'), tensor(3.7174, device='cuda:0'), tensor(3.4930, device='cuda:0'), tensor(3.4930, device='cuda:0'), tensor(3.3062, device='cuda:0'), tensor(3.3062, device='cuda:0'), tensor(3.1486, device='cuda:0'), tensor(3.1486, device='cuda:0'), tensor(3.0140, device='cuda:0'), tensor(2.8978, device='cuda:0'), tensor(2.8978, device='cuda:0'), tensor(2.7965, device='cuda:0'), tensor(2.7965, device='cuda:0'), tensor(2.7075, device='cuda:0'), tensor(2.7075, device='cuda:0'), tensor(2.6287, device='cuda:0'), tensor(2.5585, device='cuda:0'), tensor(2.5585, device='cuda:0'), tensor(2.4955, device='cuda:0'), tensor(2.4955, device='cuda:0'), tensor(2.4388, device='cuda:0'), tensor(2.4388, device='cuda:0'), tensor(2.3874, device='cuda:0'), tensor(2.3874, device='cuda:0'), tensor(2.3407, device='cuda:0'), tensor(2.3407, device='cuda:0'), tensor(2.2980, device='cuda:0'), tensor(2.2980, device='cuda:0')]]\n",
      "[[], [], [], [tensor(112.0702, device='cuda:0'), tensor(112.0702, device='cuda:0'), tensor(112.0702, device='cuda:0'), tensor(323.0585, device='cuda:0'), tensor(323.0585, device='cuda:0'), tensor(266.8585, device='cuda:0'), tensor(266.8585, device='cuda:0'), tensor(128.4847, device='cuda:0'), tensor(128.4847, device='cuda:0'), tensor(128.4847, device='cuda:0'), tensor(69.1761, device='cuda:0'), tensor(69.1761, device='cuda:0'), tensor(69.1761, device='cuda:0'), tensor(40.6020, device='cuda:0'), tensor(40.6020, device='cuda:0'), tensor(25.8709, device='cuda:0'), tensor(25.8709, device='cuda:0'), tensor(18.4517, device='cuda:0'), tensor(18.4517, device='cuda:0'), tensor(14.1861, device='cuda:0'), tensor(14.1861, device='cuda:0'), tensor(11.4952, device='cuda:0'), tensor(11.4952, device='cuda:0')], [], [tensor(7631.0483, device='cuda:0'), tensor(2753.0103, device='cuda:0'), tensor(2753.0103, device='cuda:0'), tensor(2753.0103, device='cuda:0'), tensor(2753.0103, device='cuda:0'), tensor(847.6642, device='cuda:0'), tensor(293.4198, device='cuda:0'), tensor(293.4198, device='cuda:0'), tensor(120.8579, device='cuda:0'), tensor(120.8579, device='cuda:0'), tensor(60.6849, device='cuda:0'), tensor(60.6849, device='cuda:0'), tensor(60.6849, device='cuda:0'), tensor(60.6849, device='cuda:0'), tensor(35.5608, device='cuda:0'), tensor(23.8167, device='cuda:0'), tensor(23.8167, device='cuda:0'), tensor(17.4372, device='cuda:0'), tensor(13.5883, device='cuda:0'), tensor(11.0802, device='cuda:0'), tensor(11.0802, device='cuda:0'), tensor(9.3475, device='cuda:0'), tensor(9.3475, device='cuda:0'), tensor(8.0946, device='cuda:0'), tensor(8.0946, device='cuda:0'), tensor(7.1553, device='cuda:0'), tensor(7.1553, device='cuda:0'), tensor(6.4298, device='cuda:0'), tensor(6.4298, device='cuda:0'), tensor(5.8557, device='cuda:0'), tensor(5.8557, device='cuda:0'), tensor(5.3918, device='cuda:0'), tensor(5.3918, device='cuda:0'), tensor(5.0104, device='cuda:0'), tensor(4.6922, device='cuda:0'), tensor(4.6922, device='cuda:0'), tensor(4.6922, device='cuda:0'), tensor(4.4231, device='cuda:0'), tensor(4.4231, device='cuda:0'), tensor(4.1929, device='cuda:0'), tensor(3.9940, device='cuda:0'), tensor(3.8207, device='cuda:0'), tensor(3.8207, device='cuda:0'), tensor(3.8207, device='cuda:0'), tensor(3.6684, device='cuda:0'), tensor(3.6684, device='cuda:0'), tensor(3.5337, device='cuda:0'), tensor(3.4137, device='cuda:0'), tensor(3.4137, device='cuda:0'), tensor(3.4137, device='cuda:0'), tensor(3.3063, device='cuda:0'), tensor(3.3063, device='cuda:0'), tensor(3.3063, device='cuda:0')], [tensor(146.4884, device='cuda:0'), tensor(670.2328, device='cuda:0'), tensor(670.2328, device='cuda:0'), tensor(869.4692, device='cuda:0'), tensor(590.1754, device='cuda:0'), tensor(301.1891, device='cuda:0'), tensor(154.3833, device='cuda:0'), tensor(86.2123, device='cuda:0'), tensor(86.2123, device='cuda:0'), tensor(53.2094, device='cuda:0'), tensor(53.2094, device='cuda:0'), tensor(35.8517, device='cuda:0'), tensor(35.8517, device='cuda:0'), tensor(26.1419, device='cuda:0'), tensor(26.1419, device='cuda:0'), tensor(20.1881, device='cuda:0'), tensor(20.1881, device='cuda:0'), tensor(16.2761, device='cuda:0'), tensor(16.2761, device='cuda:0'), tensor(13.5645, device='cuda:0'), tensor(13.5645, device='cuda:0'), tensor(11.6027, device='cuda:0'), tensor(11.6027, device='cuda:0'), tensor(11.6027, device='cuda:0'), tensor(10.1335, device='cuda:0'), tensor(9.0015, device='cuda:0'), tensor(9.0015, device='cuda:0'), tensor(8.1081, device='cuda:0'), tensor(8.1081, device='cuda:0'), tensor(8.1081, device='cuda:0'), tensor(7.3887, device='cuda:0'), tensor(6.7993, device='cuda:0'), tensor(6.7993, device='cuda:0'), tensor(6.3091, device='cuda:0'), tensor(6.3091, device='cuda:0'), tensor(5.8962, device='cuda:0'), tensor(5.8962, device='cuda:0')], [], [], [tensor(122.5869, device='cuda:0'), tensor(122.5869, device='cuda:0'), tensor(577.7460, device='cuda:0'), tensor(1095.6312, device='cuda:0'), tensor(1095.6312, device='cuda:0'), tensor(677.2604, device='cuda:0'), tensor(328.6068, device='cuda:0'), tensor(328.6068, device='cuda:0'), tensor(158.5108, device='cuda:0'), tensor(158.5108, device='cuda:0'), tensor(85.7235, device='cuda:0'), tensor(85.7235, device='cuda:0'), tensor(51.6455, device='cuda:0'), tensor(34.6800, device='cuda:0'), tensor(34.6800, device='cuda:0'), tensor(25.2183, device='cuda:0'), tensor(25.2183, device='cuda:0'), tensor(19.4310, device='cuda:0'), tensor(15.6371, device='cuda:0'), tensor(15.6371, device='cuda:0'), tensor(13.0115, device='cuda:0'), tensor(13.0115, device='cuda:0'), tensor(11.1148, device='cuda:0'), tensor(9.6963, device='cuda:0'), tensor(9.6963, device='cuda:0'), tensor(8.6045, device='cuda:0'), tensor(8.6045, device='cuda:0'), tensor(7.7436, device='cuda:0'), tensor(7.7436, device='cuda:0'), tensor(7.0510, device='cuda:0'), tensor(7.0510, device='cuda:0'), tensor(6.4839, device='cuda:0'), tensor(6.0127, device='cuda:0'), tensor(6.0127, device='cuda:0'), tensor(5.6159, device='cuda:0'), tensor(5.6159, device='cuda:0'), tensor(5.2779, device='cuda:0'), tensor(5.2779, device='cuda:0'), tensor(4.9871, device='cuda:0'), tensor(4.7347, device='cuda:0'), tensor(4.7347, device='cuda:0'), tensor(4.5138, device='cuda:0'), tensor(4.5138, device='cuda:0'), tensor(4.3190, device='cuda:0'), tensor(4.3190, device='cuda:0'), tensor(4.1461, device='cuda:0'), tensor(4.1461, device='cuda:0'), tensor(3.9917, device='cuda:0'), tensor(3.9917, device='cuda:0'), tensor(3.8532, device='cuda:0'), tensor(3.8532, device='cuda:0')]]\n"
     ]
    }
   ],
   "source": [
    "print(final_perplexity)\n",
    "print(final_perplexity_boh)"
   ]
  },
  {
   "cell_type": "code",
   "execution_count": 10,
   "metadata": {},
   "outputs": [
    {
     "name": "stdout",
     "output_type": "stream",
     "text": [
      "[[tensor(111.9675, device='cuda:0'), tensor(111.9675, device='cuda:0'), tensor(111.9675, device='cuda:0'), tensor(43.5904, device='cuda:0'), tensor(43.5904, device='cuda:0'), tensor(22.9601, device='cuda:0'), tensor(22.9601, device='cuda:0'), tensor(13.7238, device='cuda:0'), tensor(13.7238, device='cuda:0'), tensor(13.7238, device='cuda:0'), tensor(9.3396, device='cuda:0'), tensor(9.3396, device='cuda:0'), tensor(9.3396, device='cuda:0'), tensor(6.9031, device='cuda:0'), tensor(6.9031, device='cuda:0'), tensor(5.5362, device='cuda:0'), tensor(5.5362, device='cuda:0'), tensor(4.6917, device='cuda:0'), tensor(4.6917, device='cuda:0'), tensor(4.1251, device='cuda:0'), tensor(4.1251, device='cuda:0'), tensor(3.7215, device='cuda:0'), tensor(3.7215, device='cuda:0')], [tensor(131.7810, device='cuda:0'), tensor(25.6163, device='cuda:0'), tensor(25.6163, device='cuda:0'), tensor(25.6163, device='cuda:0'), tensor(25.6163, device='cuda:0'), tensor(12.6060, device='cuda:0'), tensor(8.1319, device='cuda:0'), tensor(8.1319, device='cuda:0'), tensor(5.8755, device='cuda:0'), tensor(5.8755, device='cuda:0'), tensor(4.5806, device='cuda:0'), tensor(4.5806, device='cuda:0'), tensor(4.5806, device='cuda:0'), tensor(4.5806, device='cuda:0'), tensor(3.8345, device='cuda:0'), tensor(3.3557, device='cuda:0'), tensor(3.3557, device='cuda:0'), tensor(3.0251, device='cuda:0'), tensor(2.7842, device='cuda:0'), tensor(2.6014, device='cuda:0'), tensor(2.6014, device='cuda:0'), tensor(2.4583, device='cuda:0'), tensor(2.4583, device='cuda:0'), tensor(2.3434, device='cuda:0'), tensor(2.3434, device='cuda:0'), tensor(2.2492, device='cuda:0'), tensor(2.2492, device='cuda:0'), tensor(2.1706, device='cuda:0'), tensor(2.1706, device='cuda:0'), tensor(2.1040, device='cuda:0'), tensor(2.1040, device='cuda:0'), tensor(2.0470, device='cuda:0'), tensor(2.0470, device='cuda:0'), tensor(1.9977, device='cuda:0'), tensor(1.9545, device='cuda:0'), tensor(1.9545, device='cuda:0'), tensor(1.9545, device='cuda:0'), tensor(1.9165, device='cuda:0'), tensor(1.9165, device='cuda:0'), tensor(1.8827, device='cuda:0'), tensor(1.8526, device='cuda:0'), tensor(1.8254, device='cuda:0'), tensor(1.8254, device='cuda:0'), tensor(1.8254, device='cuda:0'), tensor(1.8009, device='cuda:0'), tensor(1.8009, device='cuda:0'), tensor(1.7786, device='cuda:0'), tensor(1.7583, device='cuda:0'), tensor(1.7583, device='cuda:0'), tensor(1.7583, device='cuda:0'), tensor(1.7397, device='cuda:0'), tensor(1.7397, device='cuda:0'), tensor(1.7397, device='cuda:0')], [tensor(145.7685, device='cuda:0'), tensor(52.0424, device='cuda:0'), tensor(52.0424, device='cuda:0'), tensor(28.8436, device='cuda:0'), tensor(18.4897, device='cuda:0'), tensor(12.5684, device='cuda:0'), tensor(9.0885, device='cuda:0'), tensor(6.9596, device='cuda:0'), tensor(6.9596, device='cuda:0'), tensor(5.6260, device='cuda:0'), tensor(5.6260, device='cuda:0'), tensor(4.7681, device='cuda:0'), tensor(4.7681, device='cuda:0'), tensor(4.1770, device='cuda:0'), tensor(4.1770, device='cuda:0'), tensor(3.7482, device='cuda:0'), tensor(3.7482, device='cuda:0'), tensor(3.4248, device='cuda:0'), tensor(3.4248, device='cuda:0'), tensor(3.1730, device='cuda:0'), tensor(3.1730, device='cuda:0'), tensor(2.9720, device='cuda:0'), tensor(2.9720, device='cuda:0'), tensor(2.9720, device='cuda:0'), tensor(2.8081, device='cuda:0'), tensor(2.6721, device='cuda:0'), tensor(2.6721, device='cuda:0'), tensor(2.5576, device='cuda:0'), tensor(2.5576, device='cuda:0'), tensor(2.5576, device='cuda:0'), tensor(2.4600, device='cuda:0'), tensor(2.3758, device='cuda:0'), tensor(2.3758, device='cuda:0'), tensor(2.3024, device='cuda:0'), tensor(2.3024, device='cuda:0'), tensor(2.2380, device='cuda:0'), tensor(2.2380, device='cuda:0')], [tensor(122.7853, device='cuda:0'), tensor(122.7853, device='cuda:0'), tensor(105.0644, device='cuda:0'), tensor(71.7021, device='cuda:0'), tensor(71.7021, device='cuda:0'), tensor(41.0550, device='cuda:0'), tensor(24.8087, device='cuda:0'), tensor(24.8087, device='cuda:0'), tensor(16.2923, device='cuda:0'), tensor(16.2923, device='cuda:0'), tensor(11.6075, device='cuda:0'), tensor(11.6075, device='cuda:0'), tensor(8.8887, device='cuda:0'), tensor(7.2225, device='cuda:0'), tensor(7.2225, device='cuda:0'), tensor(6.1175, device='cuda:0'), tensor(6.1175, device='cuda:0'), tensor(5.3404, device='cuda:0'), tensor(4.7688, device='cuda:0'), tensor(4.7688, device='cuda:0'), tensor(4.3331, device='cuda:0'), tensor(4.3331, device='cuda:0'), tensor(3.9915, device='cuda:0'), tensor(3.7174, device='cuda:0'), tensor(3.7174, device='cuda:0'), tensor(3.4930, device='cuda:0'), tensor(3.4930, device='cuda:0'), tensor(3.3062, device='cuda:0'), tensor(3.3062, device='cuda:0'), tensor(3.1486, device='cuda:0'), tensor(3.1486, device='cuda:0'), tensor(3.0140, device='cuda:0'), tensor(2.8978, device='cuda:0'), tensor(2.8978, device='cuda:0'), tensor(2.7965, device='cuda:0'), tensor(2.7965, device='cuda:0'), tensor(2.7075, device='cuda:0'), tensor(2.7075, device='cuda:0'), tensor(2.6287, device='cuda:0'), tensor(2.5585, device='cuda:0'), tensor(2.5585, device='cuda:0'), tensor(2.4955, device='cuda:0'), tensor(2.4955, device='cuda:0'), tensor(2.4388, device='cuda:0'), tensor(2.4388, device='cuda:0'), tensor(2.3874, device='cuda:0'), tensor(2.3874, device='cuda:0'), tensor(2.3407, device='cuda:0'), tensor(2.3407, device='cuda:0'), tensor(2.2980, device='cuda:0'), tensor(2.2980, device='cuda:0')]]\n",
      "[[tensor(112.0702, device='cuda:0'), tensor(112.0702, device='cuda:0'), tensor(112.0702, device='cuda:0'), tensor(323.0585, device='cuda:0'), tensor(323.0585, device='cuda:0'), tensor(266.8585, device='cuda:0'), tensor(266.8585, device='cuda:0'), tensor(128.4847, device='cuda:0'), tensor(128.4847, device='cuda:0'), tensor(128.4847, device='cuda:0'), tensor(69.1761, device='cuda:0'), tensor(69.1761, device='cuda:0'), tensor(69.1761, device='cuda:0'), tensor(40.6020, device='cuda:0'), tensor(40.6020, device='cuda:0'), tensor(25.8709, device='cuda:0'), tensor(25.8709, device='cuda:0'), tensor(18.4517, device='cuda:0'), tensor(18.4517, device='cuda:0'), tensor(14.1861, device='cuda:0'), tensor(14.1861, device='cuda:0'), tensor(11.4952, device='cuda:0'), tensor(11.4952, device='cuda:0')], [tensor(7631.0483, device='cuda:0'), tensor(2753.0103, device='cuda:0'), tensor(2753.0103, device='cuda:0'), tensor(2753.0103, device='cuda:0'), tensor(2753.0103, device='cuda:0'), tensor(847.6642, device='cuda:0'), tensor(293.4198, device='cuda:0'), tensor(293.4198, device='cuda:0'), tensor(120.8579, device='cuda:0'), tensor(120.8579, device='cuda:0'), tensor(60.6849, device='cuda:0'), tensor(60.6849, device='cuda:0'), tensor(60.6849, device='cuda:0'), tensor(60.6849, device='cuda:0'), tensor(35.5608, device='cuda:0'), tensor(23.8167, device='cuda:0'), tensor(23.8167, device='cuda:0'), tensor(17.4372, device='cuda:0'), tensor(13.5883, device='cuda:0'), tensor(11.0802, device='cuda:0'), tensor(11.0802, device='cuda:0'), tensor(9.3475, device='cuda:0'), tensor(9.3475, device='cuda:0'), tensor(8.0946, device='cuda:0'), tensor(8.0946, device='cuda:0'), tensor(7.1553, device='cuda:0'), tensor(7.1553, device='cuda:0'), tensor(6.4298, device='cuda:0'), tensor(6.4298, device='cuda:0'), tensor(5.8557, device='cuda:0'), tensor(5.8557, device='cuda:0'), tensor(5.3918, device='cuda:0'), tensor(5.3918, device='cuda:0'), tensor(5.0104, device='cuda:0'), tensor(4.6922, device='cuda:0'), tensor(4.6922, device='cuda:0'), tensor(4.6922, device='cuda:0'), tensor(4.4231, device='cuda:0'), tensor(4.4231, device='cuda:0'), tensor(4.1929, device='cuda:0'), tensor(3.9940, device='cuda:0'), tensor(3.8207, device='cuda:0'), tensor(3.8207, device='cuda:0'), tensor(3.8207, device='cuda:0'), tensor(3.6684, device='cuda:0'), tensor(3.6684, device='cuda:0'), tensor(3.5337, device='cuda:0'), tensor(3.4137, device='cuda:0'), tensor(3.4137, device='cuda:0'), tensor(3.4137, device='cuda:0'), tensor(3.3063, device='cuda:0'), tensor(3.3063, device='cuda:0'), tensor(3.3063, device='cuda:0')], [tensor(146.4884, device='cuda:0'), tensor(670.2328, device='cuda:0'), tensor(670.2328, device='cuda:0'), tensor(869.4692, device='cuda:0'), tensor(590.1754, device='cuda:0'), tensor(301.1891, device='cuda:0'), tensor(154.3833, device='cuda:0'), tensor(86.2123, device='cuda:0'), tensor(86.2123, device='cuda:0'), tensor(53.2094, device='cuda:0'), tensor(53.2094, device='cuda:0'), tensor(35.8517, device='cuda:0'), tensor(35.8517, device='cuda:0'), tensor(26.1419, device='cuda:0'), tensor(26.1419, device='cuda:0'), tensor(20.1881, device='cuda:0'), tensor(20.1881, device='cuda:0'), tensor(16.2761, device='cuda:0'), tensor(16.2761, device='cuda:0'), tensor(13.5645, device='cuda:0'), tensor(13.5645, device='cuda:0'), tensor(11.6027, device='cuda:0'), tensor(11.6027, device='cuda:0'), tensor(11.6027, device='cuda:0'), tensor(10.1335, device='cuda:0'), tensor(9.0015, device='cuda:0'), tensor(9.0015, device='cuda:0'), tensor(8.1081, device='cuda:0'), tensor(8.1081, device='cuda:0'), tensor(8.1081, device='cuda:0'), tensor(7.3887, device='cuda:0'), tensor(6.7993, device='cuda:0'), tensor(6.7993, device='cuda:0'), tensor(6.3091, device='cuda:0'), tensor(6.3091, device='cuda:0'), tensor(5.8962, device='cuda:0'), tensor(5.8962, device='cuda:0')], [tensor(122.5869, device='cuda:0'), tensor(122.5869, device='cuda:0'), tensor(577.7460, device='cuda:0'), tensor(1095.6312, device='cuda:0'), tensor(1095.6312, device='cuda:0'), tensor(677.2604, device='cuda:0'), tensor(328.6068, device='cuda:0'), tensor(328.6068, device='cuda:0'), tensor(158.5108, device='cuda:0'), tensor(158.5108, device='cuda:0'), tensor(85.7235, device='cuda:0'), tensor(85.7235, device='cuda:0'), tensor(51.6455, device='cuda:0'), tensor(34.6800, device='cuda:0'), tensor(34.6800, device='cuda:0'), tensor(25.2183, device='cuda:0'), tensor(25.2183, device='cuda:0'), tensor(19.4310, device='cuda:0'), tensor(15.6371, device='cuda:0'), tensor(15.6371, device='cuda:0'), tensor(13.0115, device='cuda:0'), tensor(13.0115, device='cuda:0'), tensor(11.1148, device='cuda:0'), tensor(9.6963, device='cuda:0'), tensor(9.6963, device='cuda:0'), tensor(8.6045, device='cuda:0'), tensor(8.6045, device='cuda:0'), tensor(7.7436, device='cuda:0'), tensor(7.7436, device='cuda:0'), tensor(7.0510, device='cuda:0'), tensor(7.0510, device='cuda:0'), tensor(6.4839, device='cuda:0'), tensor(6.0127, device='cuda:0'), tensor(6.0127, device='cuda:0'), tensor(5.6159, device='cuda:0'), tensor(5.6159, device='cuda:0'), tensor(5.2779, device='cuda:0'), tensor(5.2779, device='cuda:0'), tensor(4.9871, device='cuda:0'), tensor(4.7347, device='cuda:0'), tensor(4.7347, device='cuda:0'), tensor(4.5138, device='cuda:0'), tensor(4.5138, device='cuda:0'), tensor(4.3190, device='cuda:0'), tensor(4.3190, device='cuda:0'), tensor(4.1461, device='cuda:0'), tensor(4.1461, device='cuda:0'), tensor(3.9917, device='cuda:0'), tensor(3.9917, device='cuda:0'), tensor(3.8532, device='cuda:0'), tensor(3.8532, device='cuda:0')]]\n",
      "23\n",
      "37\n"
     ]
    }
   ],
   "source": [
    "final_perplexity = [x for x in final_perplexity if x]\n",
    "final_perplexity_boh = [x for x in final_perplexity_boh if x]\n",
    "\n",
    "print(final_perplexity)\n",
    "print(final_perplexity_boh)\n",
    "print(len(final_perplexity[0]))\n",
    "print(len(final_perplexity_boh[2]))"
   ]
  },
  {
   "cell_type": "code",
   "execution_count": 11,
   "metadata": {},
   "outputs": [],
   "source": [
    "for i in final_perplexity:\n",
    "    for j in range(len(i)):\n",
    "        i[j] = i[j].cpu()\n",
    "        \n",
    "for i in final_perplexity_boh:\n",
    "    for j in range(len(i)):\n",
    "        i[j] = i[j].cpu()"
   ]
  },
  {
   "cell_type": "code",
   "execution_count": 12,
   "metadata": {},
   "outputs": [],
   "source": [
    "new_final_perplexity = []\n",
    "new_final_perplexity_boh = []\n",
    "\n",
    "for i in range(len(final_perplexity)):\n",
    "    \n",
    "    if len(final_perplexity[i]) > 20:\n",
    "        new_final_perplexity.append(final_perplexity[i][:20])\n",
    "        new_final_perplexity_boh.append(final_perplexity_boh[i][:20])\n",
    "        "
   ]
  },
  {
   "cell_type": "code",
   "execution_count": 13,
   "metadata": {},
   "outputs": [
    {
     "name": "stdout",
     "output_type": "stream",
     "text": [
      "24.48886\n",
      "399.1397\n"
     ]
    }
   ],
   "source": [
    "import numpy as np\n",
    "\n",
    "perplexity_final_list_filtered = np.array(new_final_perplexity)\n",
    "perplexity_boh_final_list_filtered = np.array(new_final_perplexity_boh)\n",
    "\n",
    "print(np.mean(np.mean(perplexity_final_list_filtered, axis=1)))\n",
    "print(np.mean(np.mean(perplexity_boh_final_list_filtered, axis=1)))"
   ]
  },
  {
   "cell_type": "code",
   "execution_count": 16,
   "metadata": {},
   "outputs": [],
   "source": [
    "path = \"/home/csgrad/sunilruf/emotion_chatbot/master/sunils_code/instruct-mistral/evaluate/perplexity_scores/esconv/\"\n",
    "np.save(path+'phi/phi_tuned.npy', perplexity_final_list_filtered)\n",
    "np.save(path+'phi/phi_tuned_boh.npy', perplexity_boh_final_list_filtered)\n"
   ]
  },
  {
   "cell_type": "code",
   "execution_count": 17,
   "metadata": {},
   "outputs": [
    {
     "name": "stdout",
     "output_type": "stream",
     "text": [
      "[[], [], [], [5, 76, 331, 793, 1788, 3772, 4096, 4096, 4096, 4096], [], [12, 157, 456, 1057, 2245, 4096, 4096, 4096, 4096, 4096, 4096, 4096, 4096, 4096, 4096, 4096, 4096, 4096, 4096, 4096, 4096, 4096, 4096, 4096, 4096, 4096, 4096], [5, 24, 80, 234, 593, 1307, 2725, 4096, 4096, 4096, 4096, 4096, 4096, 4096, 4096, 4096, 4096, 4096, 4096, 4096, 4096], [], [], [6, 23, 77, 263, 662, 1453, 3048, 4096, 4096, 4096, 4096, 4096, 4096, 4096, 4096, 4096, 4096, 4096, 4096, 4096, 4096, 4096, 4096, 4096, 4096, 4096, 4096, 4096, 4096]]\n",
      "[[], [], [], [5, 43, 171, 438, 983, 2113, 4096, 4096, 4096, 4096], [], [9, 68, 181, 459, 1044, 2213, 4096, 4096, 4096, 4096, 4096, 4096, 4096, 4096, 4096, 4096, 4096, 4096, 4096, 4096, 4096, 4096, 4096, 4096, 4096, 4096, 4096], [5, 17, 37, 95, 242, 553, 1208, 2510, 4096, 4096, 4096, 4096, 4096, 4096, 4096, 4096, 4096, 4096, 4096, 4096, 4096], [], [], [6, 19, 51, 142, 353, 828, 1781, 3667, 4096, 4096, 4096, 4096, 4096, 4096, 4096, 4096, 4096, 4096, 4096, 4096, 4096, 4096, 4096, 4096, 4096, 4096, 4096, 4096, 4096]]\n"
     ]
    }
   ],
   "source": [
    "print(output_len_final)\n",
    "print(output_len_boh_final)"
   ]
  },
  {
   "cell_type": "code",
   "execution_count": 18,
   "metadata": {},
   "outputs": [],
   "source": [
    "new_output_len = []\n",
    "new_output_len_boh = []\n",
    "\n",
    "for i in range(len(output_len_final)):\n",
    "    \n",
    "    if len(output_len_final[i]) > 5:\n",
    "        new_output_len.append(output_len_final[i][:10])\n",
    "        new_output_len_boh.append(output_len_boh_final[i][:10])"
   ]
  },
  {
   "cell_type": "code",
   "execution_count": 19,
   "metadata": {},
   "outputs": [
    {
     "name": "stdout",
     "output_type": "stream",
     "text": [
      "[[5, 76, 331, 793, 1788, 3772, 4096, 4096, 4096, 4096], [12, 157, 456, 1057, 2245, 4096, 4096, 4096, 4096, 4096], [5, 24, 80, 234, 593, 1307, 2725, 4096, 4096, 4096], [6, 23, 77, 263, 662, 1453, 3048, 4096, 4096, 4096]]\n",
      "[[5, 43, 171, 438, 983, 2113, 4096, 4096, 4096, 4096], [9, 68, 181, 459, 1044, 2213, 4096, 4096, 4096, 4096], [5, 17, 37, 95, 242, 553, 1208, 2510, 4096, 4096], [6, 19, 51, 142, 353, 828, 1781, 3667, 4096, 4096]]\n"
     ]
    }
   ],
   "source": [
    "print(new_output_len)\n",
    "print(new_output_len_boh)"
   ]
  },
  {
   "cell_type": "code",
   "execution_count": 20,
   "metadata": {},
   "outputs": [
    {
     "name": "stdout",
     "output_type": "stream",
     "text": [
      "2065.8\n",
      "1709.8249999999998\n"
     ]
    }
   ],
   "source": [
    "import numpy as np\n",
    "\n",
    "new_output_len_filtered = np.array(new_output_len)\n",
    "new_output_len_boh_filtered = np.array(new_output_len_boh)\n",
    "\n",
    "print(np.mean(np.mean(new_output_len_filtered, axis=1)))\n",
    "print(np.mean(np.mean(new_output_len_boh_filtered, axis=1)))    "
   ]
  },
  {
   "cell_type": "code",
   "execution_count": 21,
   "metadata": {},
   "outputs": [],
   "source": [
    "\n",
    "np.save(path+'phi/phi_tuned_out.npy', new_output_len_filtered)\n",
    "np.save(path+'phi/phi_tuned_out_boh.npy', new_output_len_boh_filtered)\n"
   ]
  },
  {
   "cell_type": "code",
   "execution_count": null,
   "metadata": {},
   "outputs": [],
   "source": []
  }
 ],
 "metadata": {
  "kernelspec": {
   "display_name": "bio3",
   "language": "python",
   "name": "python3"
  },
  "language_info": {
   "codemirror_mode": {
    "name": "ipython",
    "version": 3
   },
   "file_extension": ".py",
   "mimetype": "text/x-python",
   "name": "python",
   "nbconvert_exporter": "python",
   "pygments_lexer": "ipython3",
   "version": "3.11.3"
  }
 },
 "nbformat": 4,
 "nbformat_minor": 2
}
