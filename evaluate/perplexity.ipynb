{
 "cells": [
  {
   "cell_type": "code",
   "execution_count": 2,
   "metadata": {},
   "outputs": [],
   "source": [
    "import random\n",
    "random.seed(0)"
   ]
  },
  {
   "cell_type": "code",
   "execution_count": 3,
   "metadata": {},
   "outputs": [
    {
     "name": "stderr",
     "output_type": "stream",
     "text": [
      "The `load_in_4bit` and `load_in_8bit` arguments are deprecated and will be removed in the future versions. Please, pass a `BitsAndBytesConfig` object in `quantization_config` argument instead.\n"
     ]
    },
    {
     "data": {
      "application/vnd.jupyter.widget-view+json": {
       "model_id": "7bdd57071ee6414196a74ee14fad9d28",
       "version_major": 2,
       "version_minor": 0
      },
      "text/plain": [
       "Loading checkpoint shards:   0%|          | 0/3 [00:00<?, ?it/s]"
      ]
     },
     "metadata": {},
     "output_type": "display_data"
    }
   ],
   "source": [
    "from transformers import AutoTokenizer, AutoModelForCausalLM\n",
    "import os\n",
    "os.environ[\"CUDA_VISIBLE_DEVICES\"] = \"0\"\n",
    "os.environ['TRANSFORMERS_CACHE'] = '/home/csgrad/sunilruf/'\n",
    "path = \"/home/csgrad/sunilruf/emotion_chatbot/master/sunils_code/mistra/rank_64/rank_64_2/checkpoint-50\"\n",
    "tokenizer = AutoTokenizer.from_pretrained(path)\n",
    "model = AutoModelForCausalLM.from_pretrained(path, load_in_4bit=True, device_map=\"auto\")"
   ]
  },
  {
   "cell_type": "code",
   "execution_count": 12,
   "metadata": {},
   "outputs": [
    {
     "name": "stderr",
     "output_type": "stream",
     "text": [
      "/home/csgrad/sunilruf/miniconda3/envs/bio3/lib/python3.11/site-packages/transformers/models/auto/modeling_auto.py:1595: FutureWarning: The class `AutoModelWithLMHead` is deprecated and will be removed in a future version. Please use `AutoModelForCausalLM` for causal language models, `AutoModelForMaskedLM` for masked language models and `AutoModelForSeq2SeqLM` for encoder-decoder models.\n",
      "  warnings.warn(\n"
     ]
    }
   ],
   "source": [
    "import torch\n",
    "from transformers import AutoTokenizer, AutoModelWithLMHead\n",
    "t5_tokenizer=AutoTokenizer.from_pretrained('T5-base')\n",
    "t5_model=AutoModelWithLMHead.from_pretrained('T5-base', return_dict=True)"
   ]
  },
  {
   "cell_type": "code",
   "execution_count": 15,
   "metadata": {},
   "outputs": [
    {
     "name": "stderr",
     "output_type": "stream",
     "text": [
      "The `load_in_4bit` and `load_in_8bit` arguments are deprecated and will be removed in the future versions. Please, pass a `BitsAndBytesConfig` object in `quantization_config` argument instead.\n"
     ]
    },
    {
     "data": {
      "application/vnd.jupyter.widget-view+json": {
       "model_id": "ce659e82dacd4a91a3c3c7531bd001eb",
       "version_major": 2,
       "version_minor": 0
      },
      "text/plain": [
       "Loading checkpoint shards:   0%|          | 0/3 [00:00<?, ?it/s]"
      ]
     },
     "metadata": {},
     "output_type": "display_data"
    }
   ],
   "source": [
    "base_tokenizer = AutoTokenizer.from_pretrained(\"mistralai/Mistral-7B-Instruct-v0.2\")\n",
    "base_model = AutoModelForCausalLM.from_pretrained(\"mistralai/Mistral-7B-Instruct-v0.2\", load_in_4bit=True, device_map=\"auto\")"
   ]
  },
  {
   "cell_type": "code",
   "execution_count": 4,
   "metadata": {},
   "outputs": [],
   "source": [
    "import json\n",
    "\n",
    "json_file_path = '../../../ExTES.json'  # Change 'output.json' to your desired file name\n",
    "\n",
    "# Write the list to the JSON file\n",
    "with open(json_file_path, 'rb') as json_file:\n",
    "    extes_data = json.load(json_file)"
   ]
  },
  {
   "cell_type": "code",
   "execution_count": 5,
   "metadata": {},
   "outputs": [
    {
     "data": {
      "text/plain": [
       "[{'User': 'Hey, are you free? I need someone to talk to.'},\n",
       " {'AI Strategy': '',\n",
       "  'AI': \"Of course! I'm here to listen. What's been going on?\"},\n",
       " {'User': \"I had a rough day at work, and then my significant other texted me out of the blue, saying they need some space. I don't know what to do or how to feel about it.\"},\n",
       " {'AI Strategy': 'Reflective Statements',\n",
       "  'AI': \"That sounds really tough. It's completely normal to feel confused and insecure when a situation like this arises. Have you had any discussions about needing space in the past?\"},\n",
       " {'User': \"No, we haven't really talked about this before. It just came as a surprise. I'm worried that they're unhappy in our relationship.\"},\n",
       " {'AI Strategy': 'Emotional Validation',\n",
       "  'AI': \"I can understand why you would feel that way. It's natural to jump to conclusions and worry about the state of your relationship. Remember, it's crucial not to blame yourself. Relationships go through ups and downs, and communication is key.\"},\n",
       " {'User': \"You're right, communication is important. I'm just not sure how to bring up the topic without making things worse.\"},\n",
       " {'AI Strategy': 'Suggest Options',\n",
       "  'AI': \"You could consider expressing your feelings to your significant other calmly and honestly. Let them know you're there to listen and that you want to understand their needs and concerns. It's also essential to give them the space they asked for, even if it's difficult for you.\"},\n",
       " {'User': \"I'll try to have a conversation with them when the time feels right. It's just hard to be patient and give them space when I'm feeling so uncertain.\"},\n",
       " {'AI Strategy': 'Empathetic Statements',\n",
       "  'AI': \"I understand how challenging it can be to wait and give someone space when you're feeling unsure. Maybe you can focus on self-care during this time to help you manage your emotions. Doing things you enjoy and spending time with friends and family can provide support.\"},\n",
       " {'User': \"That's a good idea. I'll try to take care of myself and keep busy. It's reassuring to know that I have people like you to talk to as well. Thank you for listening.\"},\n",
       " {'AI Strategy': 'Affirmation',\n",
       "  'AI': \"You're welcome! Remember, you're not alone in this. If you ever need to talk or confront any concerns, feel free to reach out. Your feelings and needs are valid. Take care of yourself during this challenging time.\"},\n",
       " {'User': 'Thank you, I appreciate your kindness and understanding. It helps a lot knowing that I have support. Have a great day!'},\n",
       " {'AI Strategy': '',\n",
       "  'AI': \"You're welcome! I'm here for you. Take care and have a great day too!\"},\n",
       " {'User': 'Goodbye!'},\n",
       " {'AI Strategy': '', 'AI': 'Goodbye!'}]"
      ]
     },
     "execution_count": 5,
     "metadata": {},
     "output_type": "execute_result"
    }
   ],
   "source": [
    "extes_data[0]['content']"
   ]
  },
  {
   "cell_type": "code",
   "execution_count": 18,
   "metadata": {},
   "outputs": [],
   "source": [
    "data = [\n",
    "    {\"User\": \"Hi, I just lost my job. I feel lost and hopeless.\"},\n",
    "    {\"AI\": \"I'm really sorry to hear that. Losing a job can be incredibly difficult and it's completely normal to feel lost and hopeless right now. It's important to remember that your worth is not defined by your job.\"},\n",
    "    {\"User\": \"I know, but it's hard not to feel like a failure.\"},\n",
    "    {\"AI\": \"It's okay to feel that way. But remember, setbacks don't define you. You're much more than your job title. Have you considered reaching out to your support network for help and encouragement?\"},\n",
    "    {\"User\": \"I'm afraid to tell my family. They always had such high expectations for me.\"},\n",
    "    {\"AI\": \"It's understandable to feel that way, but keeping it to yourself might add to your stress. Your family loves you and wants the best for you. They'll likely offer you the support you need during this tough time.\"},\n",
    "    {\"User\": \"I guess you're right. I'll try talking to them.\"},\n",
    "    {\"AI\": \"That sounds like a good plan. Remember, you're not alone in this. I'm here for you, and so is your family. We'll get through this together.\"},\n",
    "    {\"User\": \"Thanks for listening. I feel a bit better now.\"},\n",
    "    {\"AI\": \"You're welcome. Remember, it's okay to not be okay sometimes. Take things one step at a time, and don't hesitate to reach out if you need to talk again.\"},\n",
    "    {\"User\": \"I will. Thanks again.\"},\n",
    "    {\"AI\": \"Anytime. Take care of yourself.\"},\n",
    "    {\"User\": \"It's just hard to shake off this feeling of failure.\"},\n",
    "    {\"AI\": \"Feeling like a failure after losing a job is a common response, but it's important to recognize that it doesn't define your worth as a person. You've likely faced challenges before and overcome them. This is just another hurdle.\"},\n",
    "    {\"User\": \"I suppose you're right. But it's still tough.\"},\n",
    "    {\"AI\": \"Absolutely, it's tough. But remember, tough times don't last forever. You have the strength to navigate through this. Have you thought about exploring other career options or avenues for personal growth?\"},\n",
    "    {\"User\": \"I'm not sure what I want to do next. Everything feels uncertain.\"},\n",
    "    {\"AI\": \"That uncertainty is completely understandable. It might help to take some time to reflect on your interests, skills, and values. You could also consider seeking guidance from career counselors or exploring online resources for career exploration.\"},\n",
    "    {\"User\": \"I'll try to do that. But right now, I just feel so overwhelmed.\"},\n",
    "    {\"AI\": \"It's okay to feel overwhelmed. Take things one step at a time. Break down tasks into smaller, manageable steps, and don't hesitate to ask for help when you need it. You're not alone in this.\"},\n",
    "    {\"User\": \"Thank you for your support. It means a lot.\"},\n",
    "    {\"AI\": \"You're welcome. Remember, it's okay to lean on others for support during difficult times. And always remember to be kind to yourself.\"},\n",
    "    {\"User\": \"I'll try to keep that in mind. Thanks again for being there for me.\"},\n",
    "    {\"AI\": \"Of course. Take care, and remember that I'm here whenever you need to talk.\"},\n",
    "    {\"User\": \"I appreciate that. Goodbye for now.\"},\n",
    "    {\"AI\": \"Goodbye. Wishing you strength and resilience as you navigate through this challenging time.\"}\n",
    "]"
   ]
  },
  {
   "cell_type": "code",
   "execution_count": 15,
   "metadata": {},
   "outputs": [],
   "source": [
    "data = [\n",
    "    {\"User\": \"Hi there. It's a new day, but I still feel the weight of yesterday's news.\"},\n",
    "    {\"AI\": \"That's completely understandable. Sometimes, the impact of losing a job can linger for a while. How are you feeling today?\"},\n",
    "    {\"User\": \"I'm feeling a bit better, but still uncertain about the future.\"},\n",
    "    {\"AI\": \"It's normal to feel uncertain, especially when facing a major change like this. Remember, uncertainty doesn't mean things won't work out. It just means you're in a transition period.\"},\n",
    "    {\"User\": \"I know, but it's hard not to worry about what comes next.\"},\n",
    "    {\"AI\": \"It's okay to feel worried. However, try to focus on what you can control in the present moment. Have you thought about creating a plan or setting some short-term goals to help you feel more grounded?\"},\n",
    "    {\"User\": \"I haven't thought about that yet. It sounds like a good idea, though.\"},\n",
    "    {\"AI\": \"Setting goals, even small ones, can give you a sense of direction and accomplishment. Start by identifying some manageable tasks you can work on today.\"},\n",
    "    {\"User\": \"Okay, I'll give it a try. Thanks for the suggestion.\"},\n",
    "    {\"AI\": \"You're welcome. Remember, taking small steps forward can make a big difference. And if you ever need support or guidance along the way, I'm here for you.\"},\n",
    "    {\"User\": \"I appreciate that. It helps to know I'm not going through this alone.\"},\n",
    "    {\"AI\": \"You're definitely not alone. We'll navigate through this together, one step at a time.\"},\n",
    "    {\"User\": \"Thank you. It means a lot.\"},\n",
    "    {\"AI\": \"Anytime. How about we brainstorm some short-term goals together? It might help you get started.\"},\n",
    "    {\"User\": \"That sounds like a good idea. Let's do it.\"},\n",
    "    {\"AI\": \"Great! Let's start by listing a few tasks you can accomplish today, even if they're small.\"},\n",
    "    {\"User\": \"Okay. I could update my resume and reach out to some contacts in my network.\"},\n",
    "    {\"AI\": \"Those are excellent goals. Updating your resume will help you feel productive, and reaching out to your network could lead to potential opportunities.\"},\n",
    "    {\"User\": \"I'll get started on that right away.\"},\n",
    "    {\"AI\": \"Fantastic! Remember to take breaks and be kind to yourself throughout the process. Progress, no matter how small, is still progress.\"},\n",
    "    {\"User\": \"I'll keep that in mind. Thanks for the encouragement.\"},\n",
    "    {\"AI\": \"Anytime. I'm here to support you every step of the way.\"},\n",
    "    {\"User\": \"I'm grateful for that. Let's tackle these goals together.\"},\n",
    "    {\"AI\": \"Absolutely. We've got this.\"}\n",
    "]"
   ]
  },
  {
   "cell_type": "code",
   "execution_count": 37,
   "metadata": {},
   "outputs": [
    {
     "name": "stderr",
     "output_type": "stream",
     "text": [
      "  0%|          | 0/8 [00:00<?, ?it/s]"
     ]
    },
    {
     "name": "stdout",
     "output_type": "stream",
     "text": [
      "{'User': 'Hi, I just lost my job. I feel lost and hopeless.'}\n"
     ]
    },
    {
     "name": "stderr",
     "output_type": "stream",
     "text": [
      "  0%|          | 0/8 [00:03<?, ?it/s]\n"
     ]
    },
    {
     "name": "stdout",
     "output_type": "stream",
     "text": [
      "[INST] Hi, I just lost my job. I feel lost and hopeless. [/INST] I'm really sorry to hear that you lost your job. It's completely normal to feel lost and hopeless during this time. It can be incredibly difficult to navigate through such a significant change in your life.\n",
      " I'm really sorry to hear that you lost your job. It's completely normal to feel lost and hopeless during this time. It can be incredibly difficult to navigate through such a significant change in your life.\n",
      "torch.Size([1, 23, 32000])\n",
      "tensor(11.0522, device='cuda:0')\n"
     ]
    },
    {
     "name": "stderr",
     "output_type": "stream",
     "text": [
      "  0%|          | 0/8 [00:00<?, ?it/s]"
     ]
    },
    {
     "name": "stdout",
     "output_type": "stream",
     "text": [
      "{'User': \"I know, but it's hard not to feel like a failure.\"}\n"
     ]
    },
    {
     "name": "stderr",
     "output_type": "stream",
     "text": [
      "  0%|          | 0/8 [00:04<?, ?it/s]"
     ]
    },
    {
     "name": "stdout",
     "output_type": "stream",
     "text": [
      "[INST] Hi, I just lost my job. I feel lost and hopeless. [/INST] I'm really sorry to hear that you lost your job. It's completely normal to feel lost and hopeless during this time. It can be incredibly difficult to navigate through such a significant change in your life. [INST] I know, but it's hard not to feel like a failure. [/INST] I understand how you might feel that way. Losing a job can make us question our abilities and self-worth. It's important to remember that this situation is not a reflection of your worth as a person. You've faced challenges before, and you've always managed to come out stronger.\n",
      " I understand how you might feel that way. Losing a job can make us question our abilities and self-worth. It's important to remember that this situation is not a reflection of your worth as a person. You've faced challenges before, and you've always managed to come out stronger.\n",
      "torch.Size([1, 90, 32000])\n"
     ]
    },
    {
     "name": "stderr",
     "output_type": "stream",
     "text": [
      "\n"
     ]
    },
    {
     "name": "stdout",
     "output_type": "stream",
     "text": [
      "tensor(5.4216, device='cuda:0')\n"
     ]
    },
    {
     "name": "stderr",
     "output_type": "stream",
     "text": [
      "  0%|          | 0/8 [00:00<?, ?it/s]"
     ]
    },
    {
     "name": "stdout",
     "output_type": "stream",
     "text": [
      "{'User': \"I'm afraid to tell my family. They always had such high expectations for me.\"}\n"
     ]
    },
    {
     "name": "stderr",
     "output_type": "stream",
     "text": [
      "  0%|          | 0/8 [00:04<?, ?it/s]"
     ]
    },
    {
     "name": "stdout",
     "output_type": "stream",
     "text": [
      "[INST] Hi, I just lost my job. I feel lost and hopeless. [/INST] I'm really sorry to hear that you lost your job. It's completely normal to feel lost and hopeless during this time. It can be incredibly difficult to navigate through such a significant change in your life. [INST] I know, but it's hard not to feel like a failure. [/INST] I understand how you might feel that way. Losing a job can make us question our abilities and self-worth. It's important to remember that this situation is not a reflection of your worth as a person. You've faced challenges before, and you've always managed to come out stronger. [INST] I'm afraid to tell my family. They always had such high expectations for me. [/INST] It's understandable to worry about how your family will react. They might have certain expectations for your career, and it can be challenging to live up to those standards. Remember, though, that your family loves and supports you, and they want what's best for you. They'll be there to help you through this.\n",
      " It's understandable to worry about how your family will react. They might have certain expectations for your career, and it can be challenging to live up to those standards. Remember, though, that your family loves and supports you, and they want what's best for you. They'll be there to help you through this.\n",
      "torch.Size([1, 178, 32000])\n"
     ]
    },
    {
     "name": "stderr",
     "output_type": "stream",
     "text": [
      "\n"
     ]
    },
    {
     "name": "stdout",
     "output_type": "stream",
     "text": [
      "tensor(4.0479, device='cuda:0')\n"
     ]
    },
    {
     "name": "stderr",
     "output_type": "stream",
     "text": [
      "  0%|          | 0/8 [00:00<?, ?it/s]"
     ]
    },
    {
     "name": "stdout",
     "output_type": "stream",
     "text": [
      "{'User': \"I guess you're right. I'll try talking to them.\"}\n",
      "[INST] Hi, I just lost my job. I feel lost and hopeless. [/INST] I'm really sorry to hear that you lost your job. It's completely normal to feel lost and hopeless during this time. It can be incredibly difficult to navigate through such a significant change in your life. [INST] I know, but it's hard not to feel like a failure. [/INST] I understand how you might feel that way. Losing a job can make us question our abilities and self-worth. It's important to remember that this situation is not a reflection of your worth as a person. You've faced challenges before, and you've always managed to come out stronger. [INST] I'm afraid to tell my family. They always had such high expectations for me. [/INST] It's understandable to worry about how your family will react. They might have certain expectations for your career, and it can be challenging to live up to those standards. Remember, though, that your family loves and supports you, and they want what's best for you. They'll be there to help you through this. [INST] I guess you're right. I'll try talking to them. [/INST] That's a great step to take. Having open conversations with your family can help alleviate some of the pressure and provide you with the support you need. They might have some valuable insights or resources to help you navigate this transition.\n",
      " That's a great step to take. Having open conversations with your family can help alleviate some of the pressure and provide you with the support you need. They might have some valuable insights or resources to help you navigate this transition.\n",
      "torch.Size([1, 269, 32000])\n",
      "Entering summarization\n"
     ]
    },
    {
     "name": "stderr",
     "output_type": "stream",
     "text": [
      "  0%|          | 0/8 [00:06<?, ?it/s]\n"
     ]
    },
    {
     "name": "stdout",
     "output_type": "stream",
     "text": [
      "a friend of mine lost her job and is feeling hopeless. he says he'll try to talk to his family. a friend of mine is also feeling hopeless. a friend of mine is also feeling hopeless.\n",
      "a loss of a job can make us question our abilities and self-worth. a family member can help you through this transition. a family member can help you navigate this transition. a family member can help you navigate this transition.\n",
      "tensor(3.4100, device='cuda:0')\n"
     ]
    },
    {
     "name": "stderr",
     "output_type": "stream",
     "text": [
      "  0%|          | 0/8 [00:00<?, ?it/s]"
     ]
    },
    {
     "name": "stdout",
     "output_type": "stream",
     "text": [
      "{'User': 'Thanks for listening. I feel a bit better now.'}\n"
     ]
    },
    {
     "name": "stderr",
     "output_type": "stream",
     "text": [
      "  0%|          | 0/8 [00:03<?, ?it/s]"
     ]
    },
    {
     "name": "stdout",
     "output_type": "stream",
     "text": [
      "[INST] a friend of mine lost her job and is feeling hopeless. he says he'll try to talk to his family. a friend of mine is also feeling hopeless. a friend of mine is also feeling hopeless. [/INST]a loss of a job can make us question our abilities and self-worth. a family member can help you through this transition. a family member can help you navigate this transition. a family member can help you navigate this transition. [INST] Thanks for listening. I feel a bit better now. [/INST]you're not alone in this. many people go through similar experiences. it's important to remember that your worth is not defined by your job. your worth is not defined by your job. your worth is not defined by your job.\n",
      "you're not alone in this. many people go through similar experiences. it's important to remember that your worth is not defined by your job. your worth is not defined by your job. your worth is not defined by your job.\n",
      "torch.Size([1, 118, 32000])\n"
     ]
    },
    {
     "name": "stderr",
     "output_type": "stream",
     "text": [
      "\n"
     ]
    },
    {
     "name": "stdout",
     "output_type": "stream",
     "text": [
      "tensor(4.4055, device='cuda:0')\n"
     ]
    },
    {
     "name": "stderr",
     "output_type": "stream",
     "text": [
      "  0%|          | 0/8 [00:00<?, ?it/s]"
     ]
    },
    {
     "name": "stdout",
     "output_type": "stream",
     "text": [
      "{'User': 'I will. Thanks again.'}\n"
     ]
    },
    {
     "name": "stderr",
     "output_type": "stream",
     "text": [
      "  0%|          | 0/8 [00:03<?, ?it/s]"
     ]
    },
    {
     "name": "stdout",
     "output_type": "stream",
     "text": [
      "[INST] a friend of mine lost her job and is feeling hopeless. he says he'll try to talk to his family. a friend of mine is also feeling hopeless. a friend of mine is also feeling hopeless. [/INST]a loss of a job can make us question our abilities and self-worth. a family member can help you through this transition. a family member can help you navigate this transition. a family member can help you navigate this transition. [INST] Thanks for listening. I feel a bit better now. [/INST]you're not alone in this. many people go through similar experiences. it's important to remember that your worth is not defined by your job. your worth is not defined by your job. your worth is not defined by your job. [INST] I will. Thanks again. [/INST]you're welcome. I'm here for you. take care of yourself and reach out if you need to talk. take care of yourself and reach out if you need to talk. take care of yourself and reach out if you need to talk.\n",
      "you're welcome. I'm here for you. take care of yourself and reach out if you need to talk. take care of yourself and reach out if you need to talk. take care of yourself and reach out if you need to talk.\n",
      "torch.Size([1, 181, 32000])\n"
     ]
    },
    {
     "name": "stderr",
     "output_type": "stream",
     "text": [
      "\n"
     ]
    },
    {
     "name": "stdout",
     "output_type": "stream",
     "text": [
      "tensor(4.6698, device='cuda:0')\n"
     ]
    },
    {
     "name": "stderr",
     "output_type": "stream",
     "text": [
      "  0%|          | 0/8 [00:00<?, ?it/s]"
     ]
    },
    {
     "name": "stdout",
     "output_type": "stream",
     "text": [
      "{'User': \"It's just hard to shake off this feeling of failure.\"}\n",
      "[INST] a friend of mine lost her job and is feeling hopeless. he says he'll try to talk to his family. a friend of mine is also feeling hopeless. a friend of mine is also feeling hopeless. [/INST]a loss of a job can make us question our abilities and self-worth. a family member can help you through this transition. a family member can help you navigate this transition. a family member can help you navigate this transition. [INST] Thanks for listening. I feel a bit better now. [/INST]you're not alone in this. many people go through similar experiences. it's important to remember that your worth is not defined by your job. your worth is not defined by your job. your worth is not defined by your job. [INST] I will. Thanks again. [/INST]you're welcome. I'm here for you. take care of yourself and reach out if you need to talk. take care of yourself and reach out if you need to talk. take care of yourself and reach out if you need to talk. [INST] It's just hard to shake off this feeling of failure. [/INST]it's completely normal to feel that way after losing a job. it's completely normal to feel that way after losing a job. it's completely normal to feel that way after losing a job.\n"
     ]
    },
    {
     "name": "stderr",
     "output_type": "stream",
     "text": [
      "  0%|          | 0/8 [00:03<?, ?it/s]\n"
     ]
    },
    {
     "name": "stdout",
     "output_type": "stream",
     "text": [
      "it's completely normal to feel that way after losing a job. it's completely normal to feel that way after losing a job. it's completely normal to feel that way after losing a job.\n",
      "torch.Size([1, 253, 32000])\n",
      "tensor(4.6180, device='cuda:0')\n"
     ]
    },
    {
     "name": "stderr",
     "output_type": "stream",
     "text": [
      "  0%|          | 0/8 [00:00<?, ?it/s]"
     ]
    },
    {
     "name": "stdout",
     "output_type": "stream",
     "text": [
      "{'User': \"I suppose you're right. But it's still tough.\"}\n",
      "[INST] a friend of mine lost her job and is feeling hopeless. he says he'll try to talk to his family. a friend of mine is also feeling hopeless. a friend of mine is also feeling hopeless. [/INST]a loss of a job can make us question our abilities and self-worth. a family member can help you through this transition. a family member can help you navigate this transition. a family member can help you navigate this transition. [INST] Thanks for listening. I feel a bit better now. [/INST]you're not alone in this. many people go through similar experiences. it's important to remember that your worth is not defined by your job. your worth is not defined by your job. your worth is not defined by your job. [INST] I will. Thanks again. [/INST]you're welcome. I'm here for you. take care of yourself and reach out if you need to talk. take care of yourself and reach out if you need to talk. take care of yourself and reach out if you need to talk. [INST] It's just hard to shake off this feeling of failure. [/INST]it's completely normal to feel that way after losing a job. it's completely normal to feel that way after losing a job. it's completely normal to feel that way after losing a job. [INST] I suppose you're right. But it's still tough. [/INST]I understand. it's tough to accept change, especially when it comes with uncertainty. it's tough to accept change, especially when it comes with uncertainty. it's tough to accept change, especially when it comes with uncertainty.\n",
      "I understand. it's tough to accept change, especially when it comes with uncertainty. it's tough to accept change, especially when it comes with uncertainty. it's tough to accept change, especially when it comes with uncertainty.\n",
      "torch.Size([1, 317, 32000])\n",
      "Entering summarization\n"
     ]
    },
    {
     "name": "stderr",
     "output_type": "stream",
     "text": [
      "  0%|          | 0/8 [00:06<?, ?it/s]\n"
     ]
    },
    {
     "name": "stdout",
     "output_type": "stream",
     "text": [
      "a friend of mine lost her job and is feeling hopeless. he says he'll try to talk to his family. he says he feels a bit better now. thanks again. a friend of mine is also feeling hopeless.\n",
      "a loss of a job can make us question our abilities and self-worth. a family member can help you navigate this transition. a loss of a job can make us question our abilities and self-worth.\n",
      "tensor(4.4503, device='cuda:0')\n"
     ]
    },
    {
     "name": "stderr",
     "output_type": "stream",
     "text": [
      "  0%|          | 0/8 [00:00<?, ?it/s]"
     ]
    },
    {
     "name": "stdout",
     "output_type": "stream",
     "text": [
      "{'User': \"I'm not sure what I want to do next. Everything feels uncertain.\"}\n"
     ]
    },
    {
     "name": "stderr",
     "output_type": "stream",
     "text": [
      "  0%|          | 0/8 [00:03<?, ?it/s]"
     ]
    },
    {
     "name": "stdout",
     "output_type": "stream",
     "text": [
      "[INST] a friend of mine lost her job and is feeling hopeless. he says he'll try to talk to his family. he says he feels a bit better now. thanks again. a friend of mine is also feeling hopeless. [/INST]a loss of a job can make us question our abilities and self-worth. a family member can help you navigate this transition. a loss of a job can make us question our abilities and self-worth. [INST] I'm not sure what I want to do next. Everything feels uncertain. [/INST]I understand how uncertain things can feel when you're unsure of your next steps. It's okay to take time to figure out what you want to do next. Remember, you're not alone in this journey.\n",
      "I understand how uncertain things can feel when you're unsure of your next steps. It's okay to take time to figure out what you want to do next. Remember, you're not alone in this journey.\n",
      "torch.Size([1, 121, 32000])\n"
     ]
    },
    {
     "name": "stderr",
     "output_type": "stream",
     "text": [
      "\n"
     ]
    },
    {
     "name": "stdout",
     "output_type": "stream",
     "text": [
      "tensor(4.9988, device='cuda:0')\n"
     ]
    },
    {
     "name": "stderr",
     "output_type": "stream",
     "text": [
      "  0%|          | 0/8 [00:00<?, ?it/s]"
     ]
    },
    {
     "name": "stdout",
     "output_type": "stream",
     "text": [
      "{'User': \"I'll try to do that. But right now, I just feel so overwhelmed.\"}\n",
      "[INST] a friend of mine lost her job and is feeling hopeless. he says he'll try to talk to his family. he says he feels a bit better now. thanks again. a friend of mine is also feeling hopeless. [/INST]a loss of a job can make us question our abilities and self-worth. a family member can help you navigate this transition. a loss of a job can make us question our abilities and self-worth. [INST] I'm not sure what I want to do next. Everything feels uncertain. [/INST]I understand how uncertain things can feel when you're unsure of your next steps. It's okay to take time to figure out what you want to do next. Remember, you're not alone in this journey. [INST] I'll try to do that. But right now, I just feel so overwhelmed. [/INST]It's completely normal to feel overwhelmed when facing a major life change. Take care of yourself and give yourself permission to take it one step at a time. You've got this!\n"
     ]
    },
    {
     "name": "stderr",
     "output_type": "stream",
     "text": [
      "  0%|          | 0/8 [00:03<?, ?it/s]\n"
     ]
    },
    {
     "name": "stdout",
     "output_type": "stream",
     "text": [
      "It's completely normal to feel overwhelmed when facing a major life change. Take care of yourself and give yourself permission to take it one step at a time. You've got this!\n",
      "torch.Size([1, 193, 32000])\n",
      "tensor(5.1301, device='cuda:0')\n"
     ]
    },
    {
     "name": "stderr",
     "output_type": "stream",
     "text": [
      "  0%|          | 0/8 [00:00<?, ?it/s]"
     ]
    },
    {
     "name": "stdout",
     "output_type": "stream",
     "text": [
      "{'User': 'Thank you for your support. It means a lot.'}\n",
      "[INST] a friend of mine lost her job and is feeling hopeless. he says he'll try to talk to his family. he says he feels a bit better now. thanks again. a friend of mine is also feeling hopeless. [/INST]a loss of a job can make us question our abilities and self-worth. a family member can help you navigate this transition. a loss of a job can make us question our abilities and self-worth. [INST] I'm not sure what I want to do next. Everything feels uncertain. [/INST]I understand how uncertain things can feel when you're unsure of your next steps. It's okay to take time to figure out what you want to do next. Remember, you're not alone in this journey. [INST] I'll try to do that. But right now, I just feel so overwhelmed. [/INST]It's completely normal to feel overwhelmed when facing a major life change. Take care of yourself and give yourself permission to take it one step at a time. You've got this! [INST] Thank you for your support. It means a lot. [/INST]You're welcome! I'm here to support you. Remember, I'm here whenever you need someone to talk to. Take care of yourself and don't hesitate to reach out.\n"
     ]
    },
    {
     "name": "stderr",
     "output_type": "stream",
     "text": [
      "  0%|          | 0/8 [00:03<?, ?it/s]\n"
     ]
    },
    {
     "name": "stdout",
     "output_type": "stream",
     "text": [
      "You're welcome! I'm here to support you. Remember, I'm here whenever you need someone to talk to. Take care of yourself and don't hesitate to reach out.\n",
      "torch.Size([1, 250, 32000])\n",
      "tensor(5.0946, device='cuda:0')\n"
     ]
    },
    {
     "name": "stderr",
     "output_type": "stream",
     "text": [
      "  0%|          | 0/8 [00:00<?, ?it/s]"
     ]
    },
    {
     "name": "stdout",
     "output_type": "stream",
     "text": [
      "{'User': \"I'll try to keep that in mind. Thanks again for being there for me.\"}\n",
      "[INST] a friend of mine lost her job and is feeling hopeless. he says he'll try to talk to his family. he says he feels a bit better now. thanks again. a friend of mine is also feeling hopeless. [/INST]a loss of a job can make us question our abilities and self-worth. a family member can help you navigate this transition. a loss of a job can make us question our abilities and self-worth. [INST] I'm not sure what I want to do next. Everything feels uncertain. [/INST]I understand how uncertain things can feel when you're unsure of your next steps. It's okay to take time to figure out what you want to do next. Remember, you're not alone in this journey. [INST] I'll try to do that. But right now, I just feel so overwhelmed. [/INST]It's completely normal to feel overwhelmed when facing a major life change. Take care of yourself and give yourself permission to take it one step at a time. You've got this! [INST] Thank you for your support. It means a lot. [/INST]You're welcome! I'm here to support you. Remember, I'm here whenever you need someone to talk to. Take care of yourself and don't hesitate to reach out. [INST] I'll try to keep that in mind. Thanks again for being there for me. [/INST]You're welcome! I'm always here for you. Remember, you're stronger than you think. You'll get through this. Take care!\n",
      "You're welcome! I'm always here for you. Remember, you're stronger than you think. You'll get through this. Take care!\n",
      "torch.Size([1, 317, 32000])\n",
      "Entering summarization\n"
     ]
    },
    {
     "name": "stderr",
     "output_type": "stream",
     "text": [
      "  0%|          | 0/8 [00:05<?, ?it/s]\n"
     ]
    },
    {
     "name": "stdout",
     "output_type": "stream",
     "text": [
      "a friend of mine lost her job and is feeling hopeless. he says he'll try to talk to his family. thanks again for being there for me. a friend of mine is also feeling hopeless.\n",
      "a loss of a job can make us question our abilities and self-worth. a family member can help you navigate this transition. remember, you're not alone in this journey. take care of yourself and give yourself permission to take it one step at a time.\n",
      "tensor(4.9626, device='cuda:0')\n"
     ]
    },
    {
     "name": "stderr",
     "output_type": "stream",
     "text": [
      "  0%|          | 0/8 [00:00<?, ?it/s]"
     ]
    },
    {
     "name": "stdout",
     "output_type": "stream",
     "text": [
      "{'User': 'I appreciate that. Goodbye for now.'}\n"
     ]
    },
    {
     "name": "stderr",
     "output_type": "stream",
     "text": [
      "  0%|          | 0/8 [00:01<?, ?it/s]"
     ]
    },
    {
     "name": "stdout",
     "output_type": "stream",
     "text": [
      "[INST] a friend of mine lost her job and is feeling hopeless. he says he'll try to talk to his family. thanks again for being there for me. a friend of mine is also feeling hopeless. [/INST]a loss of a job can make us question our abilities and self-worth. a family member can help you navigate this transition. remember, you're not alone in this journey. take care of yourself and give yourself permission to take it one step at a time. [INST] I appreciate that. Goodbye for now. [/INST] Goodbye, take care and remember to be kind to yourself.\n",
      " Goodbye, take care and remember to be kind to yourself.\n",
      "torch.Size([1, 122, 32000])\n",
      "tensor(5.2270, device='cuda:0')\n"
     ]
    },
    {
     "name": "stderr",
     "output_type": "stream",
     "text": [
      "\n"
     ]
    }
   ],
   "source": [
    "import torch\n",
    "from tqdm import tqdm\n",
    "\n",
    "max_length = 1024\n",
    "stride = 128\n",
    "\n",
    "#encodings = tokenizer.encode_plus(data['dialog'][1]['text'], return_tensors=\"pt\").to('cuda')\n",
    "tokenizer.pad_token = tokenizer.eos_token\n",
    "seq_len = 1024\n",
    "\n",
    "nlls = []\n",
    "prev_end_loc = 0\n",
    "messages = []\n",
    "i = 1\n",
    "perplexity = []\n",
    "for j in range(1):\n",
    "    #num = random.choice(range(0, len(extes_data)))\n",
    "    num = 10000\n",
    "    #data = extes_data[num]['content']\n",
    "    data = data\n",
    "    #messages = []\n",
    "    for i in range(0, len(data), 2):\n",
    "        for begin_loc in tqdm(range(0, seq_len, stride)):\n",
    "            print(data[i])\n",
    "            messages.append({\"role\": \"user\", \"content\":  data[i]['User']})\n",
    "            i+=2\n",
    "            end_loc = min(begin_loc + max_length, seq_len)\n",
    "            trg_len = end_loc - prev_end_loc  # may be different from stride on last loop\n",
    "            #input_ids = encodings.input_ids[:, begin_loc:end_loc].to('cuda')\n",
    "            input_ids = tokenizer.apply_chat_template(messages, tokenize=True, truncation=False, add_generation_prompt=True, return_tensors=\"pt\").to(\"cuda\")\n",
    "            target_ids = input_ids.clone()\n",
    "            target_ids[:, :-trg_len] = -100\n",
    "\n",
    "            with torch.no_grad():\n",
    "                \n",
    "                outputs = model.generate(\n",
    "                    input_ids=input_ids,\n",
    "                    labels=target_ids,\n",
    "                    pad_token_id=tokenizer.eos_token_id,\n",
    "                    max_new_tokens=128,\n",
    "                    do_sample=True,\n",
    "                    temperature=0.5,\n",
    "                    top_k=50,\n",
    "                    top_p=0.95\n",
    "            )\n",
    "                print(tokenizer.decode(outputs[0], skip_special_tokens=True))\n",
    "                val = (tokenizer.decode(outputs[0], skip_special_tokens=True).split(\"[/INST]\")[-1])\n",
    "                outputs = model(input_ids, labels=target_ids)\n",
    "                print(val)\n",
    "                messages.append({\"role\": \"assistant\", \"content\": val})\n",
    "                print(outputs.logits.shape)\n",
    "                if outputs.logits.shape[1] > 256:\n",
    "                    print(\"Entering summarization\")\n",
    "                    user = []\n",
    "                    assistant = []\n",
    "                    for message in messages:\n",
    "                        if message['role'] == 'user':\n",
    "                            user.append(message['content'])\n",
    "                        else:\n",
    "                            assistant.append(message['content'])\n",
    "                            \n",
    "                    user = \" \".join(user)\n",
    "                    assistant = \" \".join(assistant)\n",
    "                    \n",
    "                    user = t5_tokenizer.encode(\"summarize the conversation in user perspective: \"+user, return_tensors=\"pt\", padding=True, truncation=True, max_length=256)\n",
    "                    assistant = t5_tokenizer.encode(\"summarize the conversation in assistant perspective: \"+assistant, return_tensors=\"pt\", padding=True, truncation=True, max_length=256)\n",
    "                    user_outputs = t5_model.generate(user, min_length=50, max_length=70)\n",
    "                    assistant_outputs = t5_model.generate(assistant, min_length=50, max_length=70)\n",
    "                    print(t5_tokenizer.decode(user_outputs[0], skip_special_tokens=True))\n",
    "                    print(t5_tokenizer.decode(assistant_outputs[0], skip_special_tokens=True))\n",
    "                    messages = []\n",
    "                    messages.append({\"role\": \"user\", \"content\": t5_tokenizer.decode(user_outputs[0], skip_special_tokens=True)})\n",
    "                    messages.append({\"role\": \"assistant\", \"content\": t5_tokenizer.decode(assistant_outputs[0], skip_special_tokens=True)})\n",
    "                    \n",
    "                \n",
    "                neg_log_likelihood = outputs.loss\n",
    "                #print(neg_log_likelihood.shape)\n",
    "\n",
    "            nlls.append(neg_log_likelihood)\n",
    "            #print(len(nlls))\n",
    "            prev_end_loc = end_loc\n",
    "            if end_loc == seq_len:\n",
    "                break\n",
    "\n",
    "        ppl = torch.exp(torch.stack(nlls).mean())\n",
    "        print(ppl)\n",
    "        perplexity.append(ppl)\n",
    "        "
   ]
  },
  {
   "cell_type": "code",
   "execution_count": 23,
   "metadata": {},
   "outputs": [
    {
     "name": "stdout",
     "output_type": "stream",
     "text": [
      "[{'role': 'user', 'content': 'a friend of mine lost her job and she felt hopeless. a friend of mine said she felt hopeless. a friend of mine said she felt hopeless. a friend of mine said she felt hopeless.'}, {'role': 'assistant', 'content': \"aaron carroll: it's completely normal to feel like a failure when you lose your job. carroll: it's important to remember that everyone goes through tough times. he says it takes courage to open up and share your feelings with loved ones. carroll: it's not a\"}, {'role': 'user', 'content': \"I'll try to do that. But right now, I just feel so overwhelmed.\"}, {'role': 'assistant', 'content': \"aaron carroll: I can understand how overwhelming it must feel. Carroll: it's okay to take time for yourself and process your emotions. He suggests finding activities that bring you joy and help you relax. Carroll: remember, you're not alone in this journey.\"}, {'role': 'user', 'content': 'Thank you for your support. It means a lot.'}, {'role': 'assistant', 'content': \"aaron carroll: You're welcome! Carroll: I'm here for you. He reminds you that you have the strength to overcome this challenge. Carroll: don't hesitate to reach out if you need someone to talk to.\"}, {'role': 'user', 'content': \"I'll try to keep that in mind. Thanks again for being there for me.\"}, {'role': 'assistant', 'content': \"aaron carroll: Of course! Carroll: it's important to take care of yourself during this time. He encourages you to focus on self-care and creating a support system. Carroll: remember, you're capable of finding a new job and building a fulfilling career.\"}, {'role': 'user', 'content': 'I appreciate that. Goodbye for now.'}, {'role': 'assistant', 'content': \"aaron carroll: Goodbye! Carroll: take care of yourself and know that better days are ahead. He wishes you all the best in your job search and future endeavors. Carroll: don't hesitate to reach out if you need anything.\"}]\n"
     ]
    }
   ],
   "source": [
    "print(messages)"
   ]
  },
  {
   "cell_type": "code",
   "execution_count": 30,
   "metadata": {},
   "outputs": [
    {
     "data": {
      "text/plain": [
       "'Hi, I just lost my job. I feel lost and hopeless.'"
      ]
     },
     "execution_count": 30,
     "metadata": {},
     "output_type": "execute_result"
    }
   ],
   "source": [
    "data[0]['User']"
   ]
  },
  {
   "cell_type": "code",
   "execution_count": 32,
   "metadata": {},
   "outputs": [],
   "source": [
    "user = []\n",
    "assistant = []\n",
    "for message in data:\n",
    "    #messages.append({\"role\": \"user\", \"content\":  data[i]['User']})\n",
    "    try:\n",
    "        user.append(message['User'])\n",
    "    except:\n",
    "        assistant.append(message['AI'])\n",
    "        \n",
    "user = \" \".join(user)\n",
    "assistant = \" \".join(assistant)\n",
    "\n",
    "user = t5_tokenizer.encode(\"summarize: \"+user, return_tensors=\"pt\", padding=True, truncation=True, max_length=256)\n",
    "assistant = t5_tokenizer.encode(\"summarize: \"+assistant, return_tensors=\"pt\", padding=True, truncation=True, max_length=256)\n",
    "user_outputs = t5_model.generate(user, min_length=50, max_length=70)\n",
    "assistant_outputs = t5_model.generate(assistant, min_length=50, max_length=70)"
   ]
  },
  {
   "cell_type": "code",
   "execution_count": 34,
   "metadata": {},
   "outputs": [
    {
     "name": "stdout",
     "output_type": "stream",
     "text": [
      "i lost my job and feel hopeless. thanks for your support. i'm afraid to tell my family. thanks again for being there for me. thanks again for being there for me. i'm sorry to hear that.\n",
      "a loss of a job can be incredibly difficult. it's okay to feel lost and hopeless right now. but remember, setbacks don't define you. don't hesitate to reach out if you need to talk again.\n"
     ]
    }
   ],
   "source": [
    "print(t5_tokenizer.decode(user_outputs[0], skip_special_tokens=True))\n",
    "print(t5_tokenizer.decode(assistant_outputs[0], skip_special_tokens=True))"
   ]
  },
  {
   "cell_type": "code",
   "execution_count": 18,
   "metadata": {},
   "outputs": [
    {
     "name": "stderr",
     "output_type": "stream",
     "text": [
      "  0%|          | 0/8 [00:00<?, ?it/s]"
     ]
    },
    {
     "name": "stdout",
     "output_type": "stream",
     "text": [
      "{'User': \"Hey, I'm really struggling with this breakup. It's hard for me to accept that our relationship ended.\"}\n"
     ]
    },
    {
     "name": "stderr",
     "output_type": "stream",
     "text": [
      "  0%|          | 0/8 [00:06<?, ?it/s]\n"
     ]
    },
    {
     "name": "stdout",
     "output_type": "stream",
     "text": [
      "torch.Size([1, 33, 32000])\n",
      "torch.Size([])\n",
      "1\n",
      "tensor(86.1040, device='cuda:0')\n"
     ]
    },
    {
     "name": "stderr",
     "output_type": "stream",
     "text": [
      "  0%|          | 0/8 [00:00<?, ?it/s]"
     ]
    },
    {
     "name": "stdout",
     "output_type": "stream",
     "text": [
      "{'User': \"I feel a mix of sadness, anger, and confusion. I keep wondering what I did wrong and why we couldn't make it work.\"}\n"
     ]
    },
    {
     "name": "stderr",
     "output_type": "stream",
     "text": [
      "  0%|          | 0/8 [00:06<?, ?it/s]\n"
     ]
    },
    {
     "name": "stdout",
     "output_type": "stream",
     "text": [
      "torch.Size([1, 71, 32000])\n",
      "torch.Size([])\n",
      "2\n",
      "tensor(110.5554, device='cuda:0')\n"
     ]
    },
    {
     "name": "stderr",
     "output_type": "stream",
     "text": [
      "  0%|          | 0/8 [00:00<?, ?it/s]"
     ]
    },
    {
     "name": "stdout",
     "output_type": "stream",
     "text": [
      "{'User': 'It just hurts so much. I miss her and everything we had together.'}\n"
     ]
    },
    {
     "name": "stderr",
     "output_type": "stream",
     "text": [
      "  0%|          | 0/8 [00:06<?, ?it/s]\n"
     ]
    },
    {
     "name": "stdout",
     "output_type": "stream",
     "text": [
      "torch.Size([1, 95, 32000])\n",
      "torch.Size([])\n",
      "3\n",
      "tensor(150.8950, device='cuda:0')\n"
     ]
    },
    {
     "name": "stderr",
     "output_type": "stream",
     "text": [
      "  0%|          | 0/8 [00:00<?, ?it/s]"
     ]
    },
    {
     "name": "stdout",
     "output_type": "stream",
     "text": [
      "{'User': \"I've been trying to distract myself by keeping busy, but it's hard to escape these thoughts and memories.\"}\n"
     ]
    },
    {
     "name": "stderr",
     "output_type": "stream",
     "text": [
      "  0%|          | 0/8 [00:06<?, ?it/s]\n"
     ]
    },
    {
     "name": "stdout",
     "output_type": "stream",
     "text": [
      "torch.Size([1, 127, 32000])\n",
      "torch.Size([])\n",
      "4\n",
      "tensor(176.7944, device='cuda:0')\n"
     ]
    },
    {
     "name": "stderr",
     "output_type": "stream",
     "text": [
      "  0%|          | 0/8 [00:00<?, ?it/s]"
     ]
    },
    {
     "name": "stdout",
     "output_type": "stream",
     "text": [
      "{'User': \"I haven't tried that yet, but I'll consider it. It's difficult to imagine a future without her right now.\"}\n"
     ]
    },
    {
     "name": "stderr",
     "output_type": "stream",
     "text": [
      "  0%|          | 0/8 [00:06<?, ?it/s]\n"
     ]
    },
    {
     "name": "stdout",
     "output_type": "stream",
     "text": [
      "torch.Size([1, 163, 32000])\n",
      "torch.Size([])\n",
      "5\n",
      "tensor(194.8026, device='cuda:0')\n"
     ]
    },
    {
     "name": "stderr",
     "output_type": "stream",
     "text": [
      "  0%|          | 0/8 [00:00<?, ?it/s]"
     ]
    },
    {
     "name": "stdout",
     "output_type": "stream",
     "text": [
      "{'User': \"I really hope so. I find it hard to trust and love again. I don't want to go through this kind of pain again.\"}\n"
     ]
    },
    {
     "name": "stderr",
     "output_type": "stream",
     "text": [
      "  0%|          | 0/8 [00:06<?, ?it/s]\n"
     ]
    },
    {
     "name": "stdout",
     "output_type": "stream",
     "text": [
      "torch.Size([1, 200, 32000])\n",
      "torch.Size([])\n",
      "6\n",
      "tensor(209.3910, device='cuda:0')\n"
     ]
    },
    {
     "name": "stderr",
     "output_type": "stream",
     "text": [
      "  0%|          | 0/8 [00:00<?, ?it/s]"
     ]
    },
    {
     "name": "stdout",
     "output_type": "stream",
     "text": [
      "{'User': 'Thank you for listening and providing such comforting words. Your support means a lot to me.'}\n"
     ]
    },
    {
     "name": "stderr",
     "output_type": "stream",
     "text": [
      "  0%|          | 0/8 [00:05<?, ?it/s]\n"
     ]
    },
    {
     "name": "stdout",
     "output_type": "stream",
     "text": [
      "torch.Size([1, 227, 32000])\n",
      "torch.Size([])\n",
      "7\n",
      "tensor(219.9259, device='cuda:0')\n"
     ]
    },
    {
     "name": "stderr",
     "output_type": "stream",
     "text": [
      "  0%|          | 0/8 [00:00<?, ?it/s]"
     ]
    },
    {
     "name": "stdout",
     "output_type": "stream",
     "text": [
      "{'User': \"I truly appreciate that. I'll definitely keep that in mind. Thank you.\"}\n"
     ]
    },
    {
     "name": "stderr",
     "output_type": "stream",
     "text": [
      "  0%|          | 0/8 [00:04<?, ?it/s]"
     ]
    },
    {
     "name": "stdout",
     "output_type": "stream",
     "text": [
      "torch.Size([1, 252, 32000])\n",
      "torch.Size([])\n",
      "8\n",
      "tensor(228.4790, device='cuda:0')\n"
     ]
    },
    {
     "name": "stderr",
     "output_type": "stream",
     "text": [
      "\n"
     ]
    }
   ],
   "source": [
    "import torch\n",
    "from tqdm import tqdm\n",
    "\n",
    "max_length = 1024\n",
    "stride = 128\n",
    "\n",
    "#encodings = tokenizer.encode_plus(data['dialog'][1]['text'], return_tensors=\"pt\").to('cuda')\n",
    "tokenizer.pad_token = tokenizer.eos_token\n",
    "seq_len = 1024\n",
    "\n",
    "nlls = []\n",
    "prev_end_loc = 0\n",
    "messages = []\n",
    "i = 1\n",
    "perplexity = []\n",
    "for j in range(1):\n",
    "    #num = random.choice(range(0, len(extes_data)))\n",
    "    num = 10000\n",
    "    data = extes_data[num]['content']\n",
    "    messages = []\n",
    "    for i in range(0, len(data), 2):\n",
    "        for begin_loc in tqdm(range(0, seq_len, stride)):\n",
    "            print(data[i])\n",
    "            messages.append({\"role\": \"user\", \"content\":  data[i]['User']})\n",
    "            i+=2\n",
    "            end_loc = min(begin_loc + max_length, seq_len)\n",
    "            trg_len = end_loc - prev_end_loc  # may be different from stride on last loop\n",
    "            #input_ids = encodings.input_ids[:, begin_loc:end_loc].to('cuda')\n",
    "            input_ids = base_tokenizer.apply_chat_template(messages, tokenize=True, truncation=True, add_generation_prompt=True, return_tensors=\"pt\").to(\"cuda\")\n",
    "            target_ids = input_ids.clone()\n",
    "            target_ids[:, :-trg_len] = -100\n",
    "\n",
    "            with torch.no_grad():\n",
    "                \n",
    "                outputs = base_model.generate(\n",
    "                    input_ids=input_ids,\n",
    "                    labels=target_ids,\n",
    "                    pad_token_id=tokenizer.eos_token_id,\n",
    "                    max_new_tokens=128,\n",
    "                    do_sample=True,\n",
    "                    temperature=0.5,\n",
    "                    top_k=50,\n",
    "                    top_p=0.95\n",
    "            )\n",
    "                val = (base_tokenizer.decode(outputs[0], skip_special_tokens=True)[0].split(\"[/INST]\")[-1])\n",
    "                outputs = base_model(input_ids, labels=target_ids)\n",
    "                print(outputs.logits.shape)\n",
    "                \n",
    "                if outputs.logits.shape[1] > 1024:\n",
    "                    print(\"Entering summarization\")\n",
    "                    user = []\n",
    "                    assistant = []\n",
    "                    for message in messages:\n",
    "                        if message['role'] == 'user':\n",
    "                            user.append(message['content'])\n",
    "                        else:\n",
    "                            assistant.append(message['content'])\n",
    "                            \n",
    "                    user = \" \".join(user)\n",
    "                    assistant = \" \".join(assistant)\n",
    "                    \n",
    "                            \n",
    "                    \n",
    "                #print(torch.log(torch.softmax(outputs.logits,dim=-1)))\n",
    "                #decoded_output = [tokenizer.decode(ids, skip_special_tokens=True) for ids in outputs.logits.argmax(-1)]\n",
    "                #print(tokenizer.batch_decode(outputs, skip_special_tokens=True))\n",
    "                #print(tokenizer.batch_decode(outputs, skip_special_tokens=True))\n",
    "                # loss is calculated using CrossEntropyLoss which averages over valid labels\n",
    "                # N.B. the model only calculates loss over trg_len - 1 labels, because it internally shifts the labels\n",
    "                # to the left by 1.\n",
    "                #print(outputs)\n",
    "                neg_log_likelihood = outputs.loss\n",
    "                print(neg_log_likelihood.shape)\n",
    "\n",
    "            nlls.append(neg_log_likelihood)\n",
    "            print(len(nlls))\n",
    "            prev_end_loc = end_loc\n",
    "            if end_loc == seq_len:\n",
    "                break\n",
    "\n",
    "        ppl = torch.exp(torch.stack(nlls).mean())\n",
    "        print(ppl)\n",
    "        perplexity.append(ppl)\n",
    "        messages.append({\"role\": \"assistant\", \"content\": val})"
   ]
  },
  {
   "cell_type": "code",
   "execution_count": null,
   "metadata": {},
   "outputs": [],
   "source": []
  }
 ],
 "metadata": {
  "kernelspec": {
   "display_name": "bio3",
   "language": "python",
   "name": "python3"
  },
  "language_info": {
   "codemirror_mode": {
    "name": "ipython",
    "version": 3
   },
   "file_extension": ".py",
   "mimetype": "text/x-python",
   "name": "python",
   "nbconvert_exporter": "python",
   "pygments_lexer": "ipython3",
   "version": "3.11.3"
  }
 },
 "nbformat": 4,
 "nbformat_minor": 2
}
