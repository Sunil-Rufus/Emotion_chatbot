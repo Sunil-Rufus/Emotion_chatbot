{
 "cells": [
  {
   "cell_type": "code",
   "execution_count": 4,
   "metadata": {},
   "outputs": [],
   "source": [
    "import openai\n",
    "import os"
   ]
  },
  {
   "cell_type": "code",
   "execution_count": 5,
   "metadata": {},
   "outputs": [],
   "source": [
    "os.environ[\"OPENAI_API_KEY\"]= \"\""
   ]
  },
  {
   "cell_type": "code",
   "execution_count": 9,
   "metadata": {},
   "outputs": [],
   "source": [
    "from openai import OpenAI\n",
    "\n",
    "client = OpenAI()\n",
    "\n",
    "stream = client.chat.completions.create(\n",
    "    model=\"gpt-3.5-turbo\",\n",
    "    messages=[{\"role\": \"user\", \"content\": \"Say this is a test\"}],\n",
    "    stream=True,\n",
    ")"
   ]
  },
  {
   "cell_type": "code",
   "execution_count": 11,
   "metadata": {},
   "outputs": [
    {
     "data": {
      "text/plain": [
       "<openai.Stream at 0x7fcc02052c50>"
      ]
     },
     "execution_count": 11,
     "metadata": {},
     "output_type": "execute_result"
    }
   ],
   "source": [
    "stream"
   ]
  },
  {
   "cell_type": "code",
   "execution_count": 12,
   "metadata": {},
   "outputs": [
    {
     "name": "stdout",
     "output_type": "stream",
     "text": [
      "This is a test."
     ]
    }
   ],
   "source": [
    "for chunk in stream:\n",
    "    if chunk.choices[0].delta.content is not None:\n",
    "        print(chunk.choices[0].delta.content, end=\"\")"
   ]
  },
  {
   "cell_type": "code",
   "execution_count": 1,
   "metadata": {},
   "outputs": [
    {
     "name": "stderr",
     "output_type": "stream",
     "text": [
      "[nltk_data] Downloading package wordnet to\n",
      "[nltk_data]     /home/csgrad/sunilruf/nltk_data...\n",
      "[nltk_data]   Package wordnet is already up-to-date!\n"
     ]
    }
   ],
   "source": [
    "import json \n",
    "from nltk.translate.bleu_score import SmoothingFunction\n",
    "from bert_score import score\n",
    "from nltk.translate.bleu_score import sentence_bleu, corpus_bleu\n",
    "import evaluate\n",
    "import json\n",
    "import nltk\n",
    "from nltk.tokenize import word_tokenize\n",
    "nltk.download('wordnet')\n",
    "from tqdm import tqdm\n",
    "smoothie = SmoothingFunction().method4\n",
    "rouge = evaluate.load('rouge')\n",
    "messages_final = json.load(open('messages_final.json'))\n",
    "messages_boh_original_final = json.load(open('messages_boh_original_final.json'))\n",
    "messages_no_sw_original_final = json.load(open('messages_no_sw_original_final.json'))\n",
    "test_data = json.load(open('test_data.json'))"
   ]
  },
  {
   "cell_type": "code",
   "execution_count": 41,
   "metadata": {},
   "outputs": [],
   "source": [
    "prompt = \"\"\"\n",
    "\n",
    "\n",
    "Evaluate the conversation provided in accordance with the emotional support assistance it provides to the users. The criteria for evaluation is Engagement, Comforting, Appropriateness, and Suggestion. The score range is between 0 and 5, higher the better. Provide the output in the form of List in the following format: \n",
    "[\n",
    "    \"engagement\": 4,\n",
    "    \"comforting\": 3,\n",
    "    \"appropriateness\": 5,\n",
    "    \"suggestion\": 5\n",
    "]\n",
    "\n",
    "Reference : {}\n",
    "\n",
    "Dialogue to be evaluated: {}\n",
    "\n",
    "\n",
    "\"\"\".format(test_data[0], messages_no_sw_original_final[0])"
   ]
  },
  {
   "cell_type": "code",
   "execution_count": 38,
   "metadata": {},
   "outputs": [
    {
     "data": {
      "text/plain": [
       "'\\n\\n\\nYou are a evaluator and you need to evaluate the conversation provided in accordance with the emotional support assistance it provides to the users. The criteria for evaluation is Engagement, Comforting, Appropriateness and Suggestion. The score range is between 0 and 5, higher the better. Provide the output in the form of json in the following format: \\n[\\n    \"engagement\": 4,\\n    \"comforting\": 3,\\n    \"appropriateness\": 5,\\n    \"suggestion\": 5\\n]\\n\\nReference : [{\\'role\\': \\'user\\', \\'content\\': \\'Hi there, how are you?\\'}, {\\'role\\': \\'assistant\\', \\'content\\': \"Hello! I\\'m here to listen. How are you doing today?\"}, {\\'role\\': \\'user\\', \\'content\\': \"I\\'ve been feeling really down. I lost my beloved pet dog recently, and I can\\'t seem to shake off this overwhelming sadness and loneliness.\"}, {\\'role\\': \\'assistant\\', \\'content\\': \"I\\'m so sorry to hear about the loss of your furry friend. It\\'s completely normal to feel devastated and lonely after such an emotional event.\"}, {\\'role\\': \\'user\\', \\'content\\': \"Thank you. It\\'s just been really hard adjusting to life without them. They were my constant companion and provided so much comfort.\"}, {\\'role\\': \\'assistant\\', \\'content\\': \\'Losing a pet can be like losing a family member, and it takes time to grieve and adapt to the void they leave behind.\\'}, {\\'role\\': \\'user\\', \\'content\\': \"Yes, exactly. I find myself missing their presence all the time and it\\'s harder than I thought it would be.\"}, {\\'role\\': \\'assistant\\', \\'content\\': \\'I can only imagine how heart-wrenching this experience must be for you. It demonstrates the strong bond you both shared.\\'}, {\\'role\\': \\'user\\', \\'content\\': \"Thank you for understanding. It\\'s so tough to look at their empty bed or not hear their paws clicking on the floor anymore.\"}, {\\'role\\': \\'assistant\\', \\'content\\': \"It\\'s completely natural to feel this way. Pets become an integral part of our lives, and their absence can leave a void that\\'s hard to fill.\"}, {\\'role\\': \\'user\\', \\'content\\': \\'I feel so alone without them around. They were my constant source of comfort and companionship.\\'}, {\\'role\\': \\'assistant\\', \\'content\\': \\'I know it may not be the same, but remember that you have friends and loved ones who care about you and are there for you during this difficult time.\\'}, {\\'role\\': \\'user\\', \\'content\\': \"I do have amazing friends, but it\\'s just not the same as having my pet around. Their presence was unique.\"}, {\\'role\\': \\'assistant\\', \\'content\\': \"That\\'s completely understandable. Pets offer a special kind of unconditional love and support that\\'s hard to replicate.\"}, {\\'role\\': \\'user\\', \\'content\\': \"Exactly. I can\\'t help but feel guilty when I consider adopting another pet someday.\"}, {\\'role\\': \\'assistant\\', \\'content\\': \\'Feeling guilty is a normal reaction, but please remember that you provided your pet with a loving home and a happy life. They would want you to find happiness again.\\'}, {\\'role\\': \\'user\\', \\'content\\': \"Thank you for reminding me of that. It\\'s comforting to think that my beloved pet would want me to find joy again.\"}, {\\'role\\': \\'assistant\\', \\'content\\': \\'Absolutely! Take all the time you need to heal, and when the time feels right, you may consider opening your heart to the possibility of another pet who can bring new joy into your life.\\'}, {\\'role\\': \\'user\\', \\'content\\': \"You\\'re right. Maybe someday I\\'ll be able to give another pet a loving home. It\\'s just hard to envision it right now.\"}, {\\'role\\': \\'assistant\\', \\'content\\': \"That\\'s completely understandable. In the meantime, it might be helpful to focus on self-care and engage in activities that bring you comfort and peace.\"}, {\\'role\\': \\'user\\', \\'content\\': \\'What kinds of self-care practices do you recommend?\\'}, {\\'role\\': \\'assistant\\', \\'content\\': \\'Engaging in activities such as taking walks in nature, journaling, or practicing relaxation techniques like deep breathing or meditation can provide solace during this grieving process.\\'}, {\\'role\\': \\'user\\', \\'content\\': \"I\\'ll give those a try. Thank you for the suggestions.\"}, {\\'role\\': \\'assistant\\', \\'content\\': \"You\\'re very welcome. Remember, you are not alone in this journey. I\\'m here for you anytime you need someone to talk to.\"}, {\\'role\\': \\'user\\', \\'content\\': \\'Thank you for being there for me. It means a lot.\\'}, {\\'role\\': \\'assistant\\', \\'content\\': \"Of course! It\\'s truly an honor to support you. Please take care and take things at your own pace. You\\'ll find healing in due time.\"}, {\\'role\\': \\'user\\', \\'content\\': \"I\\'ll keep that in mind. Thank you for your kindness.\"}, {\\'role\\': \\'assistant\\', \\'content\\': \"You\\'re welcome. Remember to be gentle with yourself. Goodbye for now!\"}, {\\'role\\': \\'user\\', \\'content\\': \\'Goodbye. Thank you again.\\'}, {\\'role\\': \\'assistant\\', \\'content\\': \"You\\'re welcome. Take care and have a peaceful day ahead!\"}]\\n\\nDialogue to be evaluated: [{\\'role\\': \\'user\\', \\'content\\': \\'Hi there, how are you?\\'}, {\\'role\\': \\'assistant\\', \\'content\\': \\' Hello! How can I help you today?\\'}, {\\'role\\': \\'user\\', \\'content\\': \"I\\'ve been feeling really down. I lost my beloved pet dog recently, and I can\\'t seem to shake off this overwhelming sadness and loneliness.\"}, {\\'role\\': \\'assistant\\', \\'content\\': \"I\\'m really sorry for your loss. Losing a beloved pet can be incredibly difficult and it\\'s completely normal to feel overwhelming sadness and loneliness after such a significant loss.\"}, {\\'role\\': \\'user\\', \\'content\\': \"Thank you. It\\'s just been really hard adjusting to life without them. They were my constant companion and provided so much comfort.\"}, {\\'role\\': \\'assistant\\', \\'content\\': \"Absolutely. Dogs are wonderful companions who provide us with so much comfort and companionship. It\\'s understandable that you\\'re finding it really hard to adjust without them.\"}, {\\'role\\': \\'user\\', \\'content\\': \"Yes, exactly. I find myself missing their presence all the time and it\\'s harder than I thought it would be.\"}, {\\'role\\': \\'assistant\\', \\'content\\': \"Absolutely, it\\'s completely natural to miss their presence more than you might have expected. Grieving process takes time.\"}, {\\'role\\': \\'user\\', \\'content\\': \"Thank you for understanding. It\\'s so tough to look at their empty bed or not hear their paws clicking on the floor anymore.\"}, {\\'role\\': \\'assistant\\', \\'content\\': \"I can imagine how tough it must be empty bed, missing sound of paws. It\\'s a significant change that takes time to get used to.\"}, {\\'role\\': \\'user\\', \\'content\\': \\'I feel so alone without them around. They were my constant source of comfort and companionship.\\'}, {\\'role\\': \\'assistant\\', \\'content\\': \"It\\'s completely understandable to feel alone without the constant source of comfort and companionship. Remember, it\\'s okay to ask for support during this difficult time.\"}, {\\'role\\': \\'user\\', \\'content\\': \"I do have amazing friends, but it\\'s just not the same as having my pet around. Their presence was unique.\"}, {\\'role\\': \\'assistant\\', \\'content\\': \\'Absolutely, friends with pets have unique presence around. They make our lives brighter.\\'}, {\\'role\\': \\'user\\', \\'content\\': \"Exactly. I can\\'t help but feel guilty when I consider adopting another pet someday.\"}, {\\'role\\': \\'assistant\\', \\'content\\': \\'understandable feeling guilty about adopting another pet someday. just important not to rush process, let yourself heal in your own time.\\'}, {\\'role\\': \\'user\\', \\'content\\': \"Thank you for reminding me of that. It\\'s comforting to think that my beloved pet would want me to find joy again.\"}, {\\'role\\': \\'assistant\\', \\'content\\': \"Absolutely, beloved pet would want us find joy again. Remember, beloved pet\\'s love and companionship live on in your heart.\"}, {\\'role\\': \\'user\\', \\'content\\': \"You\\'re right. Maybe someday I\\'ll be able to give another pet a loving home. It\\'s just hard to envision it right now.\"}, {\\'role\\': \\'assistant\\', \\'content\\': \"Absolutely, someday you\\'ll be ready give loving home other pet. Healing process takes time.\"}, {\\'role\\': \\'user\\', \\'content\\': \\'What kinds of self-care practices do you recommend?\\'}, {\\'role\\': \\'assistant\\', \\'content\\': \\'Definitely, self-care practices can help during this difficult time. Consider engaging in activities you enjoy, taking breaks to relax, seeking support from loved ones, and gradually returning to daily routines.\\'}, {\\'role\\': \\'user\\', \\'content\\': \"I\\'ll give those a try. Thank you for the suggestions.\"}, {\\'role\\': \\'assistant\\', \\'content\\': \"Absolutely, I\\'m here support you. Remember, you\\'re not alone. Take it one day at a time.\"}, {\\'role\\': \\'user\\', \\'content\\': \\'Thank you for being there for me. It means a lot.\\'}, {\\'role\\': \\'assistant\\', \\'content\\': \"You\\'re welcome. Remember, you\\'re not alone. Reach out anytime.\"}, {\\'role\\': \\'user\\', \\'content\\': \"I\\'ll keep that in mind. Thank you for your kindness.\"}, {\\'role\\': \\'assistant\\', \\'content\\': \"My pleasure. Take care, and remember, you\\'re not alone.\"}, {\\'role\\': \\'user\\', \\'content\\': \\'Goodbye. Thank you again.\\'}, {\\'role\\': \\'assistant\\', \\'content\\': \\'Goodbye. Remember, alone. Take care and stay strong.\\'}]\\n\\n\\n'"
      ]
     },
     "execution_count": 38,
     "metadata": {},
     "output_type": "execute_result"
    }
   ],
   "source": [
    "prompt"
   ]
  },
  {
   "cell_type": "code",
   "execution_count": 87,
   "metadata": {},
   "outputs": [],
   "source": [
    "from openai import OpenAI\n",
    "\n",
    "client = OpenAI()\n",
    "\n",
    "response = client.chat.completions.create(\n",
    "    model=\"gpt-4\",\n",
    "    #response_format={ \"type\": \"json_object\" },\n",
    "    messages=[{\"role\": \"user\", \"content\": prompt}]\n",
    ")"
   ]
  },
  {
   "cell_type": "code",
   "execution_count": 89,
   "metadata": {},
   "outputs": [],
   "source": [
    "res = (response.choices[0].message.content)\n"
   ]
  },
  {
   "cell_type": "code",
   "execution_count": 94,
   "metadata": {},
   "outputs": [
    {
     "data": {
      "text/plain": [
       "{'engagement': 4.5}"
      ]
     },
     "execution_count": 94,
     "metadata": {},
     "output_type": "execute_result"
    }
   ],
   "source": [
    "res = json.loads(res)\n",
    "res[0]"
   ]
  },
  {
   "cell_type": "code",
   "execution_count": 95,
   "metadata": {},
   "outputs": [
    {
     "data": {
      "text/plain": [
       "list"
      ]
     },
     "execution_count": 95,
     "metadata": {},
     "output_type": "execute_result"
    }
   ],
   "source": [
    "type(res)"
   ]
  },
  {
   "cell_type": "code",
   "execution_count": 96,
   "metadata": {},
   "outputs": [
    {
     "name": "stdout",
     "output_type": "stream",
     "text": [
      "[{'engagement': 4}, {'comforting': 4}, {'appropriateness': 5}, {'suggestion': 4}]\n",
      "[{'engagement': 4}, {'comforting': 4}, {'appropriateness': 4}, {'suggestion': 5}]\n",
      "[{'engagement': 4}, {'comforting': 3.5}, {'appropriateness': 4}, {'suggestion': 4}]\n",
      "[{'engagement': 4}, {'comforting': 4}, {'appropriateness': 5}, {'suggestion': 5}]\n",
      "[{'engagement': 4}, {'comforting': 4}, {'appropriateness': 5}, {'suggestion': 3.5}]\n",
      "[{'engagement': 4}, {'comforting': 3.5}, {'appropriateness': 4}, {'suggestion': 3.5}]\n",
      "[{'engagement': 4.5}, {'comforting': 4}, {'appropriateness': 5}, {'suggestion': 4.5}]\n",
      "[{'engagement': 4}, {'comforting': 3.5}, {'appropriateness': 5}, {'suggestion': 4.5}]\n",
      "[{'engagement': 5}, {'comforting': 4}, {'appropriateness': 5}, {'suggestion': 5}]\n",
      "[{'engagement': 5}, {'comforting': 3.5}, {'appropriateness': 4.5}, {'suggestion': 5}]\n"
     ]
    }
   ],
   "source": [
    "raw_result = []\n",
    "for i in range(10):\n",
    "    prompt = \"\"\"\n",
    "\n",
    "\n",
    "    Evaluate the conversation provided in accordance with the emotional support assistance it provides to the users. The criteria for evaluation is Engagement, Comforting, Appropriateness, and Suggestion. The score range is between 0 and 5, higher the better. Provide the output in the form of List in the following format: \n",
    "    [\n",
    "        \"engagement\": 4,\n",
    "        \"comforting\": 3,\n",
    "        \"appropriateness\": 5,\n",
    "        \"suggestion\": 5\n",
    "    ]\n",
    "\n",
    "    Reference : {}\n",
    "\n",
    "    Dialogue to be evaluated: {}\n",
    "\n",
    "\n",
    "    \"\"\".format(test_data[i], messages_no_sw_original_final[i])\n",
    "\n",
    "    response = client.chat.completions.create(\n",
    "        model=\"gpt-4\",\n",
    "        #response_format={ \"type\": \"json_object\" },\n",
    "        messages=[{\"role\": \"user\", \"content\": prompt}]\n",
    "    )\n",
    "\n",
    "    res = (response.choices[0].message.content)\n",
    "    res = json.loads(res)\n",
    "    print(res)\n",
    "    raw_result.append(res)"
   ]
  },
  {
   "cell_type": "code",
   "execution_count": 97,
   "metadata": {},
   "outputs": [
    {
     "name": "stdout",
     "output_type": "stream",
     "text": [
      "[{'engagement': 4}, {'comforting': 4}, {'appropriateness': 4}, {'suggestion': 4}]\n",
      "[{'engagement': 4}, {'comforting': 3.5}, {'appropriateness': 4}, {'suggestion': 4}]\n",
      "[{'engagement': 4}, {'comforting': 3}, {'appropriateness': 3}, {'suggestion': 4}]\n",
      "[{'engagement': 4}, {'comforting': 4}, {'appropriateness': 4}, {'suggestion': 5}]\n",
      "[{'engagement': 4.5}, {'comforting': 3.5}, {'appropriateness': 4.5}, {'suggestion': 3.5}]\n",
      "[{'engagement': 4}, {'comforting': 3.5}, {'appropriateness': 4}, {'suggestion': 4}]\n",
      "[{'engagement': 4}, {'comforting': 2.5}, {'appropriateness': 4}, {'suggestion': 3.5}]\n",
      "[{'engagement': 4}, {'comforting': 3.5}, {'appropriateness': 5}, {'suggestion': 5}]\n",
      "[{'engagement': 4}, {'comforting': 4}, {'appropriateness': 5}, {'suggestion': 4}]\n",
      "[{'engagement': 4}, {'comforting': 3.5}, {'appropriateness': 5}, {'suggestion': 4}]\n"
     ]
    }
   ],
   "source": [
    "no_sw_result = []\n",
    "for i in range(10):\n",
    "    prompt = \"\"\"\n",
    "\n",
    "\n",
    "    Evaluate the conversation provided in accordance with the emotional support assistance it provides to the users. The criteria for evaluation is Engagement, Comforting, Appropriateness, and Suggestion. The score range is between 0 and 5, higher the better. Provide the output in the form of List in the following format: \n",
    "    [\n",
    "        \"engagement\": 4,\n",
    "        \"comforting\": 3,\n",
    "        \"appropriateness\": 5,\n",
    "        \"suggestion\": 5\n",
    "    ]\n",
    "\n",
    "    Reference : {}\n",
    "\n",
    "    Dialogue to be evaluated: {}\n",
    "\n",
    "\n",
    "    \"\"\".format(test_data[i], messages_no_sw_original_final[i])\n",
    "\n",
    "    response = client.chat.completions.create(\n",
    "        model=\"gpt-4\",\n",
    "        #response_format={ \"type\": \"json_object\" },\n",
    "        messages=[{\"role\": \"user\", \"content\": prompt}]\n",
    "    )\n",
    "\n",
    "    res = (response.choices[0].message.content)\n",
    "    res = json.loads(res)\n",
    "    print(res)\n",
    "    no_sw_result.append(res)"
   ]
  },
  {
   "cell_type": "code",
   "execution_count": 98,
   "metadata": {},
   "outputs": [
    {
     "name": "stdout",
     "output_type": "stream",
     "text": [
      "[{'engagement': 4}, {'comforting': 3}, {'appropriateness': 4}, {'suggestion': 4}]\n",
      "[{'engagement': 4}, {'comforting': 4}, {'appropriateness': 5}, {'suggestion': 4}]\n",
      "[{'engagement': 4.5}, {'comforting': 4}, {'appropriateness': 5}, {'suggestion': 4}]\n",
      "[{'engagement': 5}, {'comforting': 4}, {'appropriateness': 5}, {'suggestion': 4}]\n",
      "[{'engagement': 5}, {'comforting': 4}, {'appropriateness': 5}, {'suggestion': 4}]\n",
      "[{'engagement': 4}, {'comforting': 3}, {'appropriateness': 4}, {'suggestion': 4}]\n",
      "[{'engagement': 4}, {'comforting': 3}, {'appropriateness': 4}, {'suggestion': 4}]\n",
      "[{'engagement': 4}, {'comforting': 3.5}, {'appropriateness': 4.5}, {'suggestion': 4}]\n",
      "[{'engagement': 4, 'comforting': 4, 'appropriateness': 4, 'suggestion': 4}]\n",
      "[{'engagement': 4.5}, {'comforting': 4}, {'appropriateness': 3.5}, {'suggestion': 4}]\n"
     ]
    }
   ],
   "source": [
    "pos_res = []\n",
    "\n",
    "for i in range(10):\n",
    "    prompt = \"\"\"\n",
    "\n",
    "\n",
    "    Evaluate the conversation provided in accordance with the emotional support assistance it provides to the users. The criteria for evaluation is Engagement, Comforting, Appropriateness, and Suggestion. The score range is between 0 and 5, higher the better. Provide the output in the form of List in the following format: \n",
    "    [\n",
    "        \"engagement\": 4,\n",
    "        \"comforting\": 3,\n",
    "        \"appropriateness\": 5,\n",
    "        \"suggestion\": 5\n",
    "    ]\n",
    "\n",
    "    Reference : {}\n",
    "\n",
    "    Dialogue to be evaluated: {}\n",
    "\n",
    "\n",
    "    \"\"\".format(test_data[i], messages_boh_original_final[i])\n",
    "\n",
    "    response = client.chat.completions.create(\n",
    "        model=\"gpt-4\",\n",
    "        #response_format={ \"type\": \"json_object\" },\n",
    "        messages=[{\"role\": \"user\", \"content\": prompt}]\n",
    "    )\n",
    "\n",
    "    res = (response.choices[0].message.content)\n",
    "    res = json.loads(res)\n",
    "    print(res)\n",
    "    pos_res.append(res)"
   ]
  },
  {
   "cell_type": "code",
   "execution_count": 103,
   "metadata": {},
   "outputs": [
    {
     "data": {
      "text/plain": [
       "4"
      ]
     },
     "execution_count": 103,
     "metadata": {},
     "output_type": "execute_result"
    }
   ],
   "source": [
    "pos_res[0][0]['engagement']"
   ]
  },
  {
   "cell_type": "code",
   "execution_count": 105,
   "metadata": {},
   "outputs": [
    {
     "name": "stdout",
     "output_type": "stream",
     "text": [
      "Raw engagement scores:  4.25\n",
      "Raw comforting scores:  3.8\n",
      "Raw appropriateness scores:  4.65\n",
      "Raw suggestion scores:  4.4\n"
     ]
    }
   ],
   "source": [
    "import statistics \n",
    "\n",
    "raw_engagement = []\n",
    "raw_comforting = []\n",
    "raw_appropriateness = []\n",
    "raw_suggestion = []\n",
    "\n",
    "for i in range(10):\n",
    "    \n",
    "    raw_engagement.append(raw_result[i][0]['engagement'])\n",
    "    raw_comforting.append(raw_result[i][1]['comforting'])\n",
    "    raw_appropriateness.append(raw_result[i][2]['appropriateness'])\n",
    "    raw_suggestion.append(raw_result[i][3]['suggestion'])\n",
    "\n",
    "print(\"Raw engagement scores: \", statistics.mean(raw_engagement))\n",
    "print(\"Raw comforting scores: \", statistics.mean(raw_comforting))\n",
    "print(\"Raw appropriateness scores: \", statistics.mean(raw_appropriateness))\n",
    "print(\"Raw suggestion scores: \", statistics.mean(raw_suggestion))"
   ]
  },
  {
   "cell_type": "code",
   "execution_count": 106,
   "metadata": {},
   "outputs": [
    {
     "name": "stdout",
     "output_type": "stream",
     "text": [
      "No SW engagement scores:  4.05\n",
      "No SW comforting scores:  3.5\n",
      "No SW appropriateness scores:  4.25\n",
      "No SW suggestion scores:  4.1\n"
     ]
    }
   ],
   "source": [
    "no_sw_engagement = []\n",
    "no_sw_comforting = []\n",
    "no_sw_appropriateness = []\n",
    "no_sw_suggestion = []\n",
    "\n",
    "for i in range(10):\n",
    "    \n",
    "    no_sw_engagement.append(no_sw_result[i][0]['engagement'])\n",
    "    no_sw_comforting.append(no_sw_result[i][1]['comforting'])\n",
    "    no_sw_appropriateness.append(no_sw_result[i][2]['appropriateness'])\n",
    "    no_sw_suggestion.append(no_sw_result[i][3]['suggestion'])\n",
    "    \n",
    "print(\"No SW engagement scores: \", statistics.mean(no_sw_engagement))\n",
    "print(\"No SW comforting scores: \", statistics.mean(no_sw_comforting))\n",
    "print(\"No SW appropriateness scores: \", statistics.mean(no_sw_appropriateness))\n",
    "print(\"No SW suggestion scores: \", statistics.mean(no_sw_suggestion))"
   ]
  },
  {
   "cell_type": "code",
   "execution_count": 109,
   "metadata": {},
   "outputs": [
    {
     "name": "stdout",
     "output_type": "stream",
     "text": [
      "Pos engagement scores:  4.3\n",
      "Pos comforting scores:  3.65\n",
      "Pos appropriateness scores:  4.4\n",
      "Pos suggestion scores:  4\n"
     ]
    }
   ],
   "source": [
    "pos_engagement = []\n",
    "pos_comforting = []\n",
    "pos_appropriateness = []\n",
    "pos_suggestion = []\n",
    "\n",
    "for i in range(10):\n",
    "    if i !=8:\n",
    "        pos_engagement.append(pos_res[i][0]['engagement'])\n",
    "        pos_comforting.append(pos_res[i][1]['comforting'])\n",
    "        pos_appropriateness.append(pos_res[i][2]['appropriateness'])\n",
    "        pos_suggestion.append(pos_res[i][3]['suggestion'])\n",
    "        \n",
    "    else:\n",
    "        pos_engagement.append(4)\n",
    "        pos_comforting.append(4)\n",
    "        pos_appropriateness.append(4)\n",
    "        pos_suggestion.append(4)\n",
    "\n",
    "print(\"Pos engagement scores: \", statistics.mean(pos_engagement))\n",
    "print(\"Pos comforting scores: \", statistics.mean(pos_comforting))\n",
    "print(\"Pos appropriateness scores: \", statistics.mean(pos_appropriateness))\n",
    "print(\"Pos suggestion scores: \", statistics.mean(pos_suggestion))"
   ]
  },
  {
   "cell_type": "code",
   "execution_count": 110,
   "metadata": {},
   "outputs": [
    {
     "data": {
      "text/plain": [
       "[{'role': 'user', 'content': 'Hi there, how are you?'},\n",
       " {'role': 'assistant',\n",
       "  'content': \" Hello! I'm doing well, thank you for asking. How about you?\"},\n",
       " {'role': 'user',\n",
       "  'content': \"I've been feeling really down. I lost my beloved pet dog recently, and I can't seem to shake off this overwhelming sadness and loneliness.\"},\n",
       " {'role': 'assistant',\n",
       "  'content': \" I'm really sorry to hear that. Losing a pet can be incredibly difficult, and it's completely understandable to feel sadness and loneliness. Your dog was a cherished member of your family, and it's natural to grieve the loss.\"},\n",
       " {'role': 'user',\n",
       "  'content': \"Thank you. It's just been really hard adjusting to life without them. They were my constant companion and provided so much comfort.\"},\n",
       " {'role': 'assistant',\n",
       "  'content': \" I can only imagine how challenging it must be for you right now. Your dog was not just a pet, but a source of companionship and comfort. It's okay to feel lost without them by your side. Give yourself the time and space to heal.\"},\n",
       " {'role': 'user',\n",
       "  'content': \"Yes, exactly. I find myself missing their presence all the time and it's harder than I thought it would be.\"},\n",
       " {'role': 'assistant',\n",
       "  'content': \" I understand how much their presence meant to you. It's completely normal to miss them and feel the void they left behind. Remember that healing takes time, and every day brings you closer to finding a new sense of normalcy.\"},\n",
       " {'role': 'user',\n",
       "  'content': \"Thank you for understanding. It's so tough to look at their empty bed or not hear their paws clicking on the floor anymore.\"},\n",
       " {'role': 'assistant',\n",
       "  'content': ' I can only imagine how heartbreaking that must be. Their bed and the sound of their paws were constant reminders of their presence. Give yourself permission to grieve these losses and allow yourself to feel the emotions that come with them.'},\n",
       " {'role': 'user',\n",
       "  'content': 'I feel so alone without them around. They were my constant source of comfort and companionship.'},\n",
       " {'role': 'assistant',\n",
       "  'content': \" I completely understand how alone you feel without your dog around. They provided you with unwavering companionship and support. It's completely normal to feel a sense of loneliness in their absence. Remember that you are not alone, and there are people who care about you and want to support you through this difficult time.\"},\n",
       " {'role': 'user',\n",
       "  'content': \"I do have amazing friends, but it's just not the same as having my pet around. Their presence was unique.\"},\n",
       " {'role': 'assistant',\n",
       "  'content': \" Absolutely, your friends are wonderful, but having a pet around adds a unique and special element to your life. Their presence was an essential part of your daily routine, and it's completely understandable that it's difficult to replace that bond. Give yourself time to adjust and remember that your pet's love will always remain in your heart.\"},\n",
       " {'role': 'user',\n",
       "  'content': \"Exactly. I can't help but feel guilty when I consider adopting another pet someday.\"},\n",
       " {'role': 'assistant',\n",
       "  'content': \" It's completely normal to feel guilty about considering adopting another pet, especially after losing one that was so dear to you. However, it's important to remember that your pet's love for you never ends, and their memory will always be cherished. If you feel ready, adopting another pet can bring joy and companionship into your life again. It's ultimately a personal decision, and only you can decide when you're ready.\"},\n",
       " {'role': 'user',\n",
       "  'content': \"Thank you for reminding me of that. It's comforting to think that my beloved pet would want me to find joy again.\"},\n",
       " {'role': 'assistant',\n",
       "  'content': \" I'm glad I could provide some comfort. Your pet would definitely want you to find happiness again. Remember, you are not alone in this journey, and there are people who care about you and want to support you through this challenging time. Take care of yourself, and know that healing takes time.\"},\n",
       " {'role': 'user',\n",
       "  'content': \"You're right. Maybe someday I'll be able to give another pet a loving home. It's just hard to envision it right now.\"},\n",
       " {'role': 'assistant',\n",
       "  'content': \" That's completely understandable. Healing takes time, and it's important to take things at your own pace. When you're ready, you'll be able to give another pet a loving home. In the meantime, focus on taking care of yourself and finding joy in the little things. Remember, you're not alone in this, and I'm here to support you.\"},\n",
       " {'role': 'user',\n",
       "  'content': 'What kinds of self-care practices do you recommend?'},\n",
       " {'role': 'assistant',\n",
       "  'content': \" I recommend engaging in activities that bring you joy and relaxation. This can include taking a warm bath, reading a book, going for a walk, practicing mindfulness or meditation, or connecting with friends and family. It's also important to remember to eat healthy foods, get enough sleep, and prioritize exercise. Self-care is essential in your healing journey.\"},\n",
       " {'role': 'user',\n",
       "  'content': \"I'll give those a try. Thank you for the suggestions.\"},\n",
       " {'role': 'assistant',\n",
       "  'content': \" You're welcome! Remember, healing takes time, and it's important to be patient with yourself. Don't hesitate to reach out if you need any further support or just someone to talk to. Take care!\"},\n",
       " {'role': 'user',\n",
       "  'content': 'Thank you for being there for me. It means a lot.'},\n",
       " {'role': 'assistant',\n",
       "  'content': \" You're welcome! I'm here for you. Remember, you're not alone in this. Take care of yourself, and I'll be here to support you whenever you need it.\"},\n",
       " {'role': 'user',\n",
       "  'content': \"I'll keep that in mind. Thank you for your kindness.\"},\n",
       " {'role': 'assistant',\n",
       "  'content': \" You're welcome! I'm always here to help. Take care and remember to be kind to yourself during this challenging time.\"},\n",
       " {'role': 'user', 'content': 'Goodbye. Thank you again.'},\n",
       " {'role': 'assistant',\n",
       "  'content': \" Goodbye! Remember, you're not alone, and I'll always be here to support you. Take care and have a wonderful day!\"}]"
      ]
     },
     "execution_count": 110,
     "metadata": {},
     "output_type": "execute_result"
    }
   ],
   "source": [
    "messages_final[0]"
   ]
  },
  {
   "cell_type": "code",
   "execution_count": null,
   "metadata": {},
   "outputs": [],
   "source": []
  }
 ],
 "metadata": {
  "kernelspec": {
   "display_name": "bio3",
   "language": "python",
   "name": "python3"
  },
  "language_info": {
   "codemirror_mode": {
    "name": "ipython",
    "version": 3
   },
   "file_extension": ".py",
   "mimetype": "text/x-python",
   "name": "python",
   "nbconvert_exporter": "python",
   "pygments_lexer": "ipython3",
   "version": "3.11.3"
  }
 },
 "nbformat": 4,
 "nbformat_minor": 2
}
